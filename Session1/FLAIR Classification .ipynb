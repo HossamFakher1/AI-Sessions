{
 "cells": [
  {
   "cell_type": "code",
   "execution_count": null,
   "id": "3aaa8259",
   "metadata": {},
   "outputs": [],
   "source": [
    "import numpy as np \n",
    "import pandas as pd \n",
    "import matplotlib.pyplot as plt\n",
    "import seaborn as sns\n",
    "from sklearn import preprocessing ,svm ,tree,ensemble,linear_model\n",
    "from sklearn.metrics import auc ,RocCurveDisplay \n",
    "from sklearn.model_selection import StratifiedKFold\n",
    "from sklearn.feature_selection import SelectKBest ,SelectPercentile\n",
    "from sklearn.decomposition import PCA"
   ]
  },
  {
   "cell_type": "code",
   "execution_count": null,
   "id": "b44df213",
   "metadata": {},
   "outputs": [],
   "source": [
    "# The FLAIR Dataset\n",
    "df=pd.read_excel('FLAIR.xlsx')"
   ]
  },
  {
   "cell_type": "code",
   "execution_count": null,
   "id": "c1f9545e",
   "metadata": {},
   "outputs": [],
   "source": [
    "df.shape"
   ]
  },
  {
   "cell_type": "code",
   "execution_count": null,
   "id": "c635c72e",
   "metadata": {},
   "outputs": [],
   "source": [
    "df.head()"
   ]
  },
  {
   "cell_type": "code",
   "execution_count": null,
   "id": "33a5c003",
   "metadata": {},
   "outputs": [],
   "source": [
    "df.info()"
   ]
  },
  {
   "cell_type": "code",
   "execution_count": null,
   "id": "f7d3adae",
   "metadata": {},
   "outputs": [],
   "source": [
    "df.describe()"
   ]
  },
  {
   "cell_type": "code",
   "execution_count": null,
   "id": "a9b4a31d",
   "metadata": {},
   "outputs": [],
   "source": [
    "# Lets know how many values in colunm Grade\n",
    "print(\"Grade        : \\n\",df[\"Grade\"].value_counts())\n",
    "print(\"\\n\")\n",
    "print(df[\"Grade\"].value_counts(normalize=True))\n",
    "\n",
    "# plot.bar(title='') function is used to plot bargraph \n",
    "df[\"Grade\"].value_counts().plot.bar(title=\"Grade\")\n"
   ]
  },
  {
   "cell_type": "code",
   "execution_count": null,
   "id": "9fc6bb2a",
   "metadata": {},
   "outputs": [],
   "source": [
    "df[\"Grade\"] = np.where(df[\"Grade\"] == \"G3\", 0, 1)"
   ]
  },
  {
   "cell_type": "code",
   "execution_count": null,
   "id": "8ea6c89a",
   "metadata": {},
   "outputs": [],
   "source": [
    "# Dropping the duplicate rows\n",
    "duplicate_rows = df[df.duplicated()]\n",
    "print(\"number of duplicate rows : \",duplicate_rows.shape)\n",
    "\n",
    "# df.drop_duplicates(inplace=True)"
   ]
  },
  {
   "cell_type": "code",
   "execution_count": null,
   "id": "5e935766",
   "metadata": {},
   "outputs": [],
   "source": [
    "# To check missing values\n",
    "print(\"SUM : \\n\",df.isnull().sum())\n",
    "plt.figure(figsize=(8,8))\n",
    "sns.heatmap(df.isnull(), cbar=False, yticklabels=False, cmap=\"viridis\")\n",
    "\n",
    "# df[\"col\"] = df[\"col\"].fillna(df[\"col\"].mean())\n",
    "# df[\"col\"] = df[\"col\"].fillna(df[\"col\"].interpolate())"
   ]
  },
  {
   "cell_type": "code",
   "execution_count": null,
   "id": "6d3ca5f8",
   "metadata": {},
   "outputs": [],
   "source": [
    "Xdata=df.iloc[:,1:]"
   ]
  },
  {
   "cell_type": "code",
   "execution_count": null,
   "id": "d050d157",
   "metadata": {},
   "outputs": [],
   "source": [
    "ydata=df.iloc[:,0].values"
   ]
  },
  {
   "cell_type": "code",
   "execution_count": null,
   "id": "c2727916",
   "metadata": {},
   "outputs": [],
   "source": [
    "scale=StandardScaler()\n",
    "X=scale.fit_transform(Xdata)"
   ]
  },
  {
   "cell_type": "code",
   "execution_count": null,
   "id": "57adc35a",
   "metadata": {},
   "outputs": [],
   "source": [
    "pca= PCA(n_components=128)\n",
    "X=pca.fit_transform(X,y)"
   ]
  },
  {
   "cell_type": "code",
   "execution_count": null,
   "id": "6f2d9219",
   "metadata": {},
   "outputs": [],
   "source": [
    "df.shape"
   ]
  },
  {
   "cell_type": "code",
   "execution_count": null,
   "id": "171d8b2a",
   "metadata": {},
   "outputs": [],
   "source": [
    "from sklearn.feature_selection import SelectKBest\n",
    "f=SelectKBest(k=15)\n",
    "X_Kbest=f.fit_transform(X,y)"
   ]
  },
  {
   "cell_type": "code",
   "execution_count": null,
   "id": "5adfe00a",
   "metadata": {},
   "outputs": [],
   "source": [
    "from sklearn.feature_selection import SelectPercentile\n",
    "f=SelectPercentile(percentile=30)\n",
    "X_Percentile=f.fit_transform(X,y)"
   ]
  },
  {
   "cell_type": "code",
   "execution_count": null,
   "id": "13bd3b87",
   "metadata": {},
   "outputs": [],
   "source": [
    "# Standardization\n",
    "from sklearn.preprocessing import MinMaxScaler\n",
    "scaler = MinMaxScaler()\n",
    "scaler.fit(X_Kbest)\n",
    "X_sts = scaler.transform(X_Kbest)\n",
    "\n",
    "    \n",
    "# Split into Input and Output Elements\n",
    "from sklearn.model_selection import train_test_split\n",
    "X_train, X_test, y_train, y_test = train_test_split(X_sts, y,stratify=y, test_size= 0.2,random_state=0)\n",
    "\n",
    "print(\"X_train  = \",X_train.shape ,\" y_train = \", y_train.shape)\n",
    "print(\"X_test   = \",X_test.shape ,\" y_test = \", y_test.shape)\n",
    "\n"
   ]
  },
  {
   "cell_type": "code",
   "execution_count": null,
   "id": "f13af3a8",
   "metadata": {
    "colab": {
     "base_uri": "https://localhost:8080/"
    },
    "id": "06bk0TPtZWZA",
    "outputId": "bbac9fe1-f369-4a9f-8a76-1d2ad2df8e49"
   },
   "outputs": [],
   "source": [
    "from sklearn.linear_model import LogisticRegression\n",
    "LC=LogisticRegression()\n",
    "LC.fit(X_train,y_train)\n",
    "LC.score(X_train,y_train)"
   ]
  },
  {
   "cell_type": "code",
   "execution_count": null,
   "id": "d71049d0",
   "metadata": {
    "colab": {
     "base_uri": "https://localhost:8080/"
    },
    "id": "1akezZgzZWZA",
    "outputId": "2eb0e09c-cd2a-4eb6-d529-7b2a5a1dc9d8"
   },
   "outputs": [],
   "source": [
    "LC.score(X_test,y_test)"
   ]
  },
  {
   "cell_type": "code",
   "execution_count": null,
   "id": "953baf9f",
   "metadata": {
    "id": "QhotewZ3ZWZA"
   },
   "outputs": [],
   "source": [
    "predictions = LC.predict(X_test)"
   ]
  },
  {
   "cell_type": "code",
   "execution_count": null,
   "id": "f09da885",
   "metadata": {
    "colab": {
     "base_uri": "https://localhost:8080/"
    },
    "id": "Pwol72u7ZWZB",
    "outputId": "a972d0db-d59e-4b79-dc99-ba2d106c4739"
   },
   "outputs": [],
   "source": [
    "print(metrics.classification_report(y_test, predictions))"
   ]
  },
  {
   "cell_type": "code",
   "execution_count": null,
   "id": "2144f9bf",
   "metadata": {
    "colab": {
     "base_uri": "https://localhost:8080/",
     "height": 286
    },
    "id": "5mmZEpogZWZB",
    "outputId": "626ecf93-5b1c-4380-98a0-c6dbccdec833",
    "scrolled": false
   },
   "outputs": [],
   "source": [
    "cm = metrics.confusion_matrix(y_test, predictions)\n",
    "\n",
    "sns.heatmap(cm,  annot=True, fmt=\"d\" ,cmap=\"YlGnBu\")"
   ]
  },
  {
   "cell_type": "code",
   "execution_count": null,
   "id": "f5836f8f",
   "metadata": {},
   "outputs": [],
   "source": [
    "from sklearn.svm import SVC\n",
    "Svc=SVC()\n",
    "Svc.fit(X_train,y_train)\n",
    "Svc.score(X_train,y_train)\n",
    "Svc.score(X_test,y_test)"
   ]
  },
  {
   "cell_type": "code",
   "execution_count": null,
   "id": "629cbe49",
   "metadata": {},
   "outputs": [],
   "source": [
    "from sklearn.metrics import classification_report , confusion_matrix , accuracy_score\n",
    "predictions = Svc.predict(X_test)\n",
    "print(accuracy_score(y_test, predictions))\n",
    "print(metrics.classification_report(y_test, predictions))"
   ]
  },
  {
   "cell_type": "code",
   "execution_count": null,
   "id": "51863d1b",
   "metadata": {},
   "outputs": [],
   "source": [
    "cm = metrics.confusion_matrix(y_test, predictions)\n",
    "sns.heatmap(cm,  annot=True, fmt=\"d\" ,cmap=\"YlGnBu\")"
   ]
  },
  {
   "cell_type": "code",
   "execution_count": null,
   "id": "d6c85aef",
   "metadata": {},
   "outputs": [],
   "source": [
    "from sklearn.tree import DecisionTreeClassifier\n",
    "DTC=DecisionTreeClassifier()\n",
    "DTC.fit(X_train,y_train)\n",
    "DTC.score(X_train,y_train)\n",
    "\n",
    "DTC.score(X_test,y_test)"
   ]
  },
  {
   "cell_type": "code",
   "execution_count": null,
   "id": "899f7ba7",
   "metadata": {},
   "outputs": [],
   "source": [
    "predictions = DTC.predict(X_test)\n",
    "\n",
    "print(metrics.classification_report(y_test, predictions))"
   ]
  },
  {
   "cell_type": "code",
   "execution_count": null,
   "id": "7c91bdce",
   "metadata": {},
   "outputs": [],
   "source": [
    "cm = metrics.confusion_matrix(y_test, predictions)\n",
    "\n",
    "sns.heatmap(cm,  annot=True, fmt=\"d\" ,cmap=\"YlGnBu\")"
   ]
  },
  {
   "cell_type": "code",
   "execution_count": null,
   "id": "55e229e6",
   "metadata": {},
   "outputs": [],
   "source": [
    "from sklearn.ensemble import RandomForestClassifier\n",
    "RFC=RandomForestClassifier()\n",
    "RFC.fit(X_train,y_train)\n",
    "RFC.score(X_train,y_train)\n",
    "RFC.score(X_test,y_test)"
   ]
  },
  {
   "cell_type": "code",
   "execution_count": null,
   "id": "f7309768",
   "metadata": {},
   "outputs": [],
   "source": [
    "predictions = RFC.predict(X_test)\n",
    "print(metrics.classification_report(y_test, predictions))"
   ]
  },
  {
   "cell_type": "code",
   "execution_count": null,
   "id": "acb359b3",
   "metadata": {},
   "outputs": [],
   "source": [
    "cm = metrics.confusion_matrix(y_test, predictions)\n",
    "\n",
    "sns.heatmap(cm,  annot=True, fmt=\"d\" ,cmap=\"YlGnBu\")"
   ]
  },
  {
   "cell_type": "code",
   "execution_count": null,
   "id": "4ab25dfb",
   "metadata": {
    "scrolled": false
   },
   "outputs": [],
   "source": [
    "# Run classifier with cross-validation and plot ROC curves\n",
    "for num in range(10,51,5):\n",
    "    print('percentile of SelectPercentile is ',num)\n",
    "    f=SelectPercentile(percentile=num)\n",
    "    X=f.fit_transform(Xdata,y)\n",
    "    cv = StratifiedKFold(n_splits=4)\n",
    "    classifier = svm.SVC(C=1.0,kernel='poly')\n",
    "\n",
    "    tprs = []\n",
    "    aucs = []\n",
    "    mean_fpr = np.linspace(0, 1, 100)\n",
    "\n",
    "    fig, ax = plt.subplots()\n",
    "    for i, (train, test) in enumerate(cv.split(X, y)):\n",
    "\n",
    "        classifier.fit(X[train], y[train])\n",
    "        viz = RocCurveDisplay.from_estimator(\n",
    "            classifier,\n",
    "            X[test],\n",
    "            y[test],\n",
    "            name=\"ROC fold {}\".format(i),\n",
    "            alpha=0.3,\n",
    "            lw=1,\n",
    "            ax=ax,\n",
    "        )\n",
    "        interp_tpr = np.interp(mean_fpr, viz.fpr, viz.tpr)\n",
    "        interp_tpr[0] = 0.0\n",
    "        tprs.append(interp_tpr)\n",
    "        aucs.append(viz.roc_auc)\n",
    "\n",
    "    ax.plot([0, 1], [0, 1], linestyle=\"--\", lw=2, color=\"r\", label=\"Chance\", alpha=0.8)\n",
    "\n",
    "    mean_tpr = np.mean(tprs, axis=0)\n",
    "    mean_tpr[-1] = 1.0\n",
    "    mean_auc = auc(mean_fpr, mean_tpr)\n",
    "    std_auc = np.std(aucs)\n",
    "    ax.plot(\n",
    "        mean_fpr,\n",
    "        mean_tpr,\n",
    "        color=\"b\",\n",
    "        label=r\"Mean ROC (AUC = %0.2f $\\pm$ %0.2f)\" % (mean_auc, std_auc),\n",
    "        lw=2,\n",
    "        alpha=0.8,\n",
    "    )\n",
    "\n",
    "    std_tpr = np.std(tprs, axis=0)\n",
    "    tprs_upper = np.minimum(mean_tpr + std_tpr, 1)\n",
    "    tprs_lower = np.maximum(mean_tpr - std_tpr, 0)\n",
    "    ax.fill_between(\n",
    "        mean_fpr,\n",
    "        tprs_lower,\n",
    "        tprs_upper,\n",
    "        color=\"grey\",\n",
    "        alpha=0.2,\n",
    "        label=r\"$\\pm$ 1 std. dev.\",\n",
    "    )\n",
    "\n",
    "    ax.set(\n",
    "        xlim=[-0.05, 1.05],\n",
    "        ylim=[-0.05, 1.05],\n",
    "        title=\"Receiver operating characteristic example\",\n",
    "    )\n",
    "    ax.legend(loc=\"lower right\")\n",
    "    plt.show()"
   ]
  },
  {
   "cell_type": "code",
   "execution_count": 1,
   "id": "2de34eac",
   "metadata": {},
   "outputs": [
    {
     "name": "stdout",
     "output_type": "stream",
     "text": [
      "[1 1 1 0 0 0]\n",
      "[1 0]\n",
      "[[10.  2.]\n",
      " [ 1.  2.]]\n"
     ]
    }
   ],
   "source": [
    "from sklearn.cluster import KMeans\n",
    "import numpy as np\n",
    "X = np.array([[1, 2], [1, 4], [1, 0], [10, 2], [10, 4], [10, 0]])\n",
    "kmeans = KMeans(n_clusters=2, random_state=0).fit(X)\n",
    "print(kmeans.labels_)\n",
    "print(kmeans.predict([[0, 0], [12, 3]]))\n",
    "print(kmeans.cluster_centers_)"
   ]
  },
  {
   "cell_type": "code",
   "execution_count": null,
   "id": "33248db1",
   "metadata": {},
   "outputs": [],
   "source": []
  }
 ],
 "metadata": {
  "kernelspec": {
   "display_name": "Python 3 (ipykernel)",
   "language": "python",
   "name": "python3"
  },
  "language_info": {
   "codemirror_mode": {
    "name": "ipython",
    "version": 3
   },
   "file_extension": ".py",
   "mimetype": "text/x-python",
   "name": "python",
   "nbconvert_exporter": "python",
   "pygments_lexer": "ipython3",
   "version": "3.8.8"
  }
 },
 "nbformat": 4,
 "nbformat_minor": 5
}
