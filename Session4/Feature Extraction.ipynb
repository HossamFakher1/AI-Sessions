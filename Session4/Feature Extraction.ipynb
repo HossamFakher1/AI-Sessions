{
 "cells": [
  {
   "cell_type": "code",
   "execution_count": 3,
   "id": "b728f7c8",
   "metadata": {},
   "outputs": [],
   "source": [
    "import pandas as pd\n",
    "import numpy as np\n",
    "from tensorflow import keras\n",
    "import matplotlib.pyplot as plt\n",
    "import matplotlib.image as mpimg\n",
    "import h5py\n",
    "import cv2\n",
    "from tensorflow.keras.layers import Flatten, Dense, Input,concatenate\n",
    "from tensorflow.keras.layers import Conv2D, MaxPooling2D\n",
    "from tensorflow.keras.layers import Activation, Dropout\n",
    "from tensorflow.keras.models import Model\n",
    "from tensorflow.keras.models import Sequential\n",
    "import tensorflow as tf\n",
    "import os\n",
    "import matplotlib.pyplot as plt\n",
    "import numpy as np\n",
    "import pandas as pd\n",
    "import glob as gb\n",
    "from scipy import spatial"
   ]
  },
  {
   "cell_type": "code",
   "execution_count": 4,
   "id": "46efce9a",
   "metadata": {},
   "outputs": [
    {
     "name": "stdout",
     "output_type": "stream",
     "text": [
      "Downloading data from https://storage.googleapis.com/tensorflow/keras-applications/vgg16/vgg16_weights_tf_dim_ordering_tf_kernels.h5\n",
      "553467904/553467096 [==============================] - 272s 0us/step\n",
      "553476096/553467096 [==============================] - 272s 0us/step\n"
     ]
    }
   ],
   "source": [
    "vgg16 = keras.applications.VGG16(weights='imagenet', include_top=True, pooling='max', input_shape=(224, 224, 3))\n",
    "for layer in vgg16.layers:\n",
    "    layer.trainable=False\n",
    "    "
   ]
  },
  {
   "cell_type": "code",
   "execution_count": 5,
   "id": "5b783c31",
   "metadata": {},
   "outputs": [
    {
     "name": "stdout",
     "output_type": "stream",
     "text": [
      "Model: \"vgg16\"\n",
      "_________________________________________________________________\n",
      "Layer (type)                 Output Shape              Param #   \n",
      "=================================================================\n",
      "input_1 (InputLayer)         [(None, 224, 224, 3)]     0         \n",
      "_________________________________________________________________\n",
      "block1_conv1 (Conv2D)        (None, 224, 224, 64)      1792      \n",
      "_________________________________________________________________\n",
      "block1_conv2 (Conv2D)        (None, 224, 224, 64)      36928     \n",
      "_________________________________________________________________\n",
      "block1_pool (MaxPooling2D)   (None, 112, 112, 64)      0         \n",
      "_________________________________________________________________\n",
      "block2_conv1 (Conv2D)        (None, 112, 112, 128)     73856     \n",
      "_________________________________________________________________\n",
      "block2_conv2 (Conv2D)        (None, 112, 112, 128)     147584    \n",
      "_________________________________________________________________\n",
      "block2_pool (MaxPooling2D)   (None, 56, 56, 128)       0         \n",
      "_________________________________________________________________\n",
      "block3_conv1 (Conv2D)        (None, 56, 56, 256)       295168    \n",
      "_________________________________________________________________\n",
      "block3_conv2 (Conv2D)        (None, 56, 56, 256)       590080    \n",
      "_________________________________________________________________\n",
      "block3_conv3 (Conv2D)        (None, 56, 56, 256)       590080    \n",
      "_________________________________________________________________\n",
      "block3_pool (MaxPooling2D)   (None, 28, 28, 256)       0         \n",
      "_________________________________________________________________\n",
      "block4_conv1 (Conv2D)        (None, 28, 28, 512)       1180160   \n",
      "_________________________________________________________________\n",
      "block4_conv2 (Conv2D)        (None, 28, 28, 512)       2359808   \n",
      "_________________________________________________________________\n",
      "block4_conv3 (Conv2D)        (None, 28, 28, 512)       2359808   \n",
      "_________________________________________________________________\n",
      "block4_pool (MaxPooling2D)   (None, 14, 14, 512)       0         \n",
      "_________________________________________________________________\n",
      "block5_conv1 (Conv2D)        (None, 14, 14, 512)       2359808   \n",
      "_________________________________________________________________\n",
      "block5_conv2 (Conv2D)        (None, 14, 14, 512)       2359808   \n",
      "_________________________________________________________________\n",
      "block5_conv3 (Conv2D)        (None, 14, 14, 512)       2359808   \n",
      "_________________________________________________________________\n",
      "block5_pool (MaxPooling2D)   (None, 7, 7, 512)         0         \n",
      "_________________________________________________________________\n",
      "flatten (Flatten)            (None, 25088)             0         \n",
      "_________________________________________________________________\n",
      "fc1 (Dense)                  (None, 4096)              102764544 \n",
      "_________________________________________________________________\n",
      "fc2 (Dense)                  (None, 4096)              16781312  \n",
      "_________________________________________________________________\n",
      "predictions (Dense)          (None, 1000)              4097000   \n",
      "=================================================================\n",
      "Total params: 138,357,544\n",
      "Trainable params: 0\n",
      "Non-trainable params: 138,357,544\n",
      "_________________________________________________________________\n"
     ]
    }
   ],
   "source": [
    "vgg16.summary()"
   ]
  },
  {
   "cell_type": "code",
   "execution_count": 6,
   "id": "e5a5f157",
   "metadata": {},
   "outputs": [],
   "source": [
    "basemodel = Model(inputs=vgg16.input, outputs=vgg16.get_layer('fc2').output)"
   ]
  },
  {
   "cell_type": "code",
   "execution_count": 7,
   "id": "22e1f066",
   "metadata": {},
   "outputs": [
    {
     "name": "stdout",
     "output_type": "stream",
     "text": [
      "Model: \"model\"\n",
      "_________________________________________________________________\n",
      "Layer (type)                 Output Shape              Param #   \n",
      "=================================================================\n",
      "input_1 (InputLayer)         [(None, 224, 224, 3)]     0         \n",
      "_________________________________________________________________\n",
      "block1_conv1 (Conv2D)        (None, 224, 224, 64)      1792      \n",
      "_________________________________________________________________\n",
      "block1_conv2 (Conv2D)        (None, 224, 224, 64)      36928     \n",
      "_________________________________________________________________\n",
      "block1_pool (MaxPooling2D)   (None, 112, 112, 64)      0         \n",
      "_________________________________________________________________\n",
      "block2_conv1 (Conv2D)        (None, 112, 112, 128)     73856     \n",
      "_________________________________________________________________\n",
      "block2_conv2 (Conv2D)        (None, 112, 112, 128)     147584    \n",
      "_________________________________________________________________\n",
      "block2_pool (MaxPooling2D)   (None, 56, 56, 128)       0         \n",
      "_________________________________________________________________\n",
      "block3_conv1 (Conv2D)        (None, 56, 56, 256)       295168    \n",
      "_________________________________________________________________\n",
      "block3_conv2 (Conv2D)        (None, 56, 56, 256)       590080    \n",
      "_________________________________________________________________\n",
      "block3_conv3 (Conv2D)        (None, 56, 56, 256)       590080    \n",
      "_________________________________________________________________\n",
      "block3_pool (MaxPooling2D)   (None, 28, 28, 256)       0         \n",
      "_________________________________________________________________\n",
      "block4_conv1 (Conv2D)        (None, 28, 28, 512)       1180160   \n",
      "_________________________________________________________________\n",
      "block4_conv2 (Conv2D)        (None, 28, 28, 512)       2359808   \n",
      "_________________________________________________________________\n",
      "block4_conv3 (Conv2D)        (None, 28, 28, 512)       2359808   \n",
      "_________________________________________________________________\n",
      "block4_pool (MaxPooling2D)   (None, 14, 14, 512)       0         \n",
      "_________________________________________________________________\n",
      "block5_conv1 (Conv2D)        (None, 14, 14, 512)       2359808   \n",
      "_________________________________________________________________\n",
      "block5_conv2 (Conv2D)        (None, 14, 14, 512)       2359808   \n",
      "_________________________________________________________________\n",
      "block5_conv3 (Conv2D)        (None, 14, 14, 512)       2359808   \n",
      "_________________________________________________________________\n",
      "block5_pool (MaxPooling2D)   (None, 7, 7, 512)         0         \n",
      "_________________________________________________________________\n",
      "flatten (Flatten)            (None, 25088)             0         \n",
      "_________________________________________________________________\n",
      "fc1 (Dense)                  (None, 4096)              102764544 \n",
      "_________________________________________________________________\n",
      "fc2 (Dense)                  (None, 4096)              16781312  \n",
      "=================================================================\n",
      "Total params: 134,260,544\n",
      "Trainable params: 0\n",
      "Non-trainable params: 134,260,544\n",
      "_________________________________________________________________\n"
     ]
    }
   ],
   "source": [
    "basemodel.summary()"
   ]
  },
  {
   "cell_type": "code",
   "execution_count": 8,
   "id": "24a5aea8",
   "metadata": {},
   "outputs": [
    {
     "name": "stdout",
     "output_type": "stream",
     "text": [
      "                                        Folder_name  Traning Image Numbers\n",
      "0        adenocarcinoma_left.lower.lobe_T2_N0_M0_Ib                    195\n",
      "1     large.cell.carcinoma_left.hilum_T2_N2_M0_IIIa                    115\n",
      "2                                            normal                    136\n",
      "3  squamous.cell.carcinoma_left.hilum_T1_N2_M0_IIIa                    155\n"
     ]
    }
   ],
   "source": [
    "#checking numbers of images at each path and classes names\n",
    "Dataset_path='Data/train/'\n",
    "Folder_name=[]\n",
    "folder_item_numbers = []\n",
    "for folder in  os.listdir(Dataset_path ) : \n",
    "    files = gb.glob(pathname= str( Dataset_path  + folder + '/*.png'))\n",
    "    Folder_name.append(folder)\n",
    "    folder_item_numbers.append(len(files))\n",
    "foldernames=pd.DataFrame({'Folder_name':Folder_name})\n",
    "itemnumbers=pd.DataFrame({'Traning Image Numbers':folder_item_numbers})\n",
    "informations=pd.concat([foldernames,itemnumbers],axis=1)\n",
    "print(informations)"
   ]
  },
  {
   "cell_type": "code",
   "execution_count": 9,
   "id": "a1cc25d3",
   "metadata": {},
   "outputs": [
    {
     "data": {
      "text/plain": [
       "['adenocarcinoma_left.lower.lobe_T2_N0_M0_Ib',\n",
       " 'large.cell.carcinoma_left.hilum_T2_N2_M0_IIIa',\n",
       " 'normal',\n",
       " 'squamous.cell.carcinoma_left.hilum_T1_N2_M0_IIIa']"
      ]
     },
     "execution_count": 9,
     "metadata": {},
     "output_type": "execute_result"
    }
   ],
   "source": [
    "Folder_name"
   ]
  },
  {
   "cell_type": "code",
   "execution_count": 10,
   "id": "d777c3f5",
   "metadata": {},
   "outputs": [],
   "source": [
    "def get_feature_vector(img):\n",
    "    #img=cv2.imread(img)\n",
    "    image = cv2.resize(img, (224, 224))\n",
    "    image=image.reshape(1, 224, 224, 3) #convert it to batch\n",
    "    feature_vector = basemodel.predict(image)\n",
    "    return feature_vector"
   ]
  },
  {
   "cell_type": "code",
   "execution_count": 14,
   "id": "b292e9ed",
   "metadata": {},
   "outputs": [
    {
     "data": {
      "image/png": "[encoded data removed]",
      "text/plain": [
       "<Figure size 432x288 with 1 Axes>"
      ]
     },
     "metadata": {
      "needs_background": "light"
     },
     "output_type": "display_data"
    }
   ],
   "source": [
    "img=cv2.imread('Data/train/normal/imm.png')\n",
    "plt.imshow(img)\n",
    "plt.show()"
   ]
  },
  {
   "cell_type": "code",
   "execution_count": 15,
   "id": "4e0cd9fe",
   "metadata": {},
   "outputs": [
    {
     "data": {
      "text/plain": [
       "array([[[0, 0, 0],\n",
       "        [0, 0, 0],\n",
       "        [0, 0, 0],\n",
       "        ...,\n",
       "        [0, 0, 0],\n",
       "        [0, 0, 0],\n",
       "        [0, 0, 0]],\n",
       "\n",
       "       [[0, 0, 0],\n",
       "        [0, 0, 0],\n",
       "        [0, 0, 0],\n",
       "        ...,\n",
       "        [0, 0, 0],\n",
       "        [0, 0, 0],\n",
       "        [0, 0, 0]],\n",
       "\n",
       "       [[0, 0, 0],\n",
       "        [0, 0, 0],\n",
       "        [0, 0, 0],\n",
       "        ...,\n",
       "        [0, 0, 0],\n",
       "        [0, 0, 0],\n",
       "        [0, 0, 0]],\n",
       "\n",
       "       ...,\n",
       "\n",
       "       [[0, 0, 0],\n",
       "        [0, 0, 0],\n",
       "        [0, 0, 0],\n",
       "        ...,\n",
       "        [0, 0, 0],\n",
       "        [0, 0, 0],\n",
       "        [0, 0, 0]],\n",
       "\n",
       "       [[0, 0, 0],\n",
       "        [0, 0, 0],\n",
       "        [0, 0, 0],\n",
       "        ...,\n",
       "        [0, 0, 0],\n",
       "        [0, 0, 0],\n",
       "        [0, 0, 0]],\n",
       "\n",
       "       [[0, 0, 0],\n",
       "        [0, 0, 0],\n",
       "        [0, 0, 0],\n",
       "        ...,\n",
       "        [0, 0, 0],\n",
       "        [0, 0, 0],\n",
       "        [0, 0, 0]]], dtype=uint8)"
      ]
     },
     "execution_count": 15,
     "metadata": {},
     "output_type": "execute_result"
    }
   ],
   "source": [
    "img"
   ]
  },
  {
   "cell_type": "code",
   "execution_count": 16,
   "id": "80e67e29",
   "metadata": {},
   "outputs": [
    {
     "data": {
      "text/plain": [
       "array([[0.        , 0.        , 0.        , ..., 3.054941  , 0.        ,\n",
       "        0.45114666]], dtype=float32)"
      ]
     },
     "execution_count": 16,
     "metadata": {},
     "output_type": "execute_result"
    }
   ],
   "source": [
    "get_feature_vector(img)"
   ]
  },
  {
   "cell_type": "code",
   "execution_count": 17,
   "id": "f9c3c84b",
   "metadata": {},
   "outputs": [
    {
     "data": {
      "text/plain": [
       "(1, 4096)"
      ]
     },
     "execution_count": 17,
     "metadata": {},
     "output_type": "execute_result"
    }
   ],
   "source": [
    "get_feature_vector(img).shape"
   ]
  },
  {
   "cell_type": "code",
   "execution_count": 18,
   "id": "895a6b27",
   "metadata": {},
   "outputs": [
    {
     "data": {
      "text/plain": [
       "['adenocarcinoma_left.lower.lobe_T2_N0_M0_Ib',\n",
       " 'large.cell.carcinoma_left.hilum_T2_N2_M0_IIIa',\n",
       " 'normal',\n",
       " 'squamous.cell.carcinoma_left.hilum_T1_N2_M0_IIIa']"
      ]
     },
     "execution_count": 18,
     "metadata": {},
     "output_type": "execute_result"
    }
   ],
   "source": [
    "os.listdir(Dataset_path )"
   ]
  },
  {
   "cell_type": "code",
   "execution_count": 19,
   "id": "d49d1a74",
   "metadata": {},
   "outputs": [
    {
     "name": "stdout",
     "output_type": "stream",
     "text": [
      "adenocarcinoma_left.lower.lobe_T2_N0_M0_Ib\n",
      "large.cell.carcinoma_left.hilum_T2_N2_M0_IIIa\n",
      "normal\n",
      "squamous.cell.carcinoma_left.hilum_T1_N2_M0_IIIa\n"
     ]
    }
   ],
   "source": [
    "IMG_SIZE=224  \n",
    "image_path=[]\n",
    "label = []\n",
    "class_name=[]\n",
    "Features=[]\n",
    "for folder in  os.listdir(Dataset_path ) : \n",
    "    print(folder)\n",
    "    files = gb.glob(pathname= str( Dataset_path  + folder + '/*.png'))\n",
    "    for file in files: \n",
    "        image_class = {'adenocarcinoma_left.lower.lobe_T2_N0_M0_Ib': 0, 'large.cell.carcinoma_left.hilum_T2_N2_M0_IIIa': 1\n",
    "                       , 'normal': 2, 'squamous.cell.carcinoma_left.hilum_T1_N2_M0_IIIa': 3}\n",
    "        image = cv2.imread(file)\n",
    "        image = cv2.cvtColor(image, cv2.COLOR_BGR2RGB)\n",
    "        feature=get_feature_vector(image)\n",
    "        feature=feature.astype('float32')\n",
    "        Features.append(feature)\n",
    "        image_path.append(file)\n",
    "        label.append(image_class[folder])\n",
    "        class_name.append(folder)"
   ]
  },
  {
   "cell_type": "code",
   "execution_count": 20,
   "id": "27d7f101",
   "metadata": {},
   "outputs": [
    {
     "data": {
      "text/plain": [
       "(601, 601, 601, 601)"
      ]
     },
     "execution_count": 20,
     "metadata": {},
     "output_type": "execute_result"
    }
   ],
   "source": [
    "len(image_path),len(Features),len(label),len(class_name)"
   ]
  },
  {
   "cell_type": "code",
   "execution_count": 21,
   "id": "11c73634",
   "metadata": {},
   "outputs": [],
   "source": [
    "features_data = pd.DataFrame({'image path':image_path,\n",
    "                              'Features data': Features,\n",
    "                              'labels': label,\n",
    "                              'class name': class_name})"
   ]
  },
  {
   "cell_type": "code",
   "execution_count": 22,
   "id": "ac54a78c",
   "metadata": {},
   "outputs": [],
   "source": [
    "features_data.to_csv('features_data.csv')"
   ]
  },
  {
   "cell_type": "code",
   "execution_count": 23,
   "id": "3f4065d7",
   "metadata": {},
   "outputs": [
    {
     "name": "stdout",
     "output_type": "stream",
     "text": [
      "(601, 5)\n"
     ]
    }
   ],
   "source": [
    "df=pd.read_csv('features_data.csv')\n",
    "print(df.shape)"
   ]
  },
  {
   "cell_type": "code",
   "execution_count": 24,
   "id": "e68f9d2b",
   "metadata": {},
   "outputs": [
    {
     "data": {
      "text/html": [
       "<div>\n",
       "<style scoped>\n",
       "    .dataframe tbody tr th:only-of-type {\n",
       "        vertical-align: middle;\n",
       "    }\n",
       "\n",
       "    .dataframe tbody tr th {\n",
       "        vertical-align: top;\n",
       "    }\n",
       "\n",
       "    .dataframe thead th {\n",
       "        text-align: right;\n",
       "    }\n",
       "</style>\n",
       "<table border=\"1\" class=\"dataframe\">\n",
       "  <thead>\n",
       "    <tr style=\"text-align: right;\">\n",
       "      <th></th>\n",
       "      <th>Unnamed: 0</th>\n",
       "      <th>image path</th>\n",
       "      <th>Features data</th>\n",
       "      <th>labels</th>\n",
       "      <th>class name</th>\n",
       "    </tr>\n",
       "  </thead>\n",
       "  <tbody>\n",
       "    <tr>\n",
       "      <th>0</th>\n",
       "      <td>0</td>\n",
       "      <td>Data/train/adenocarcinoma_left.lower.lobe_T2_N...</td>\n",
       "      <td>[[1.9375614  0.         0.08620656 ... 0.     ...</td>\n",
       "      <td>0</td>\n",
       "      <td>adenocarcinoma_left.lower.lobe_T2_N0_M0_Ib</td>\n",
       "    </tr>\n",
       "    <tr>\n",
       "      <th>1</th>\n",
       "      <td>1</td>\n",
       "      <td>Data/train/adenocarcinoma_left.lower.lobe_T2_N...</td>\n",
       "      <td>[[2.2254424  0.         1.7753457  ... 0.11375...</td>\n",
       "      <td>0</td>\n",
       "      <td>adenocarcinoma_left.lower.lobe_T2_N0_M0_Ib</td>\n",
       "    </tr>\n",
       "    <tr>\n",
       "      <th>2</th>\n",
       "      <td>2</td>\n",
       "      <td>Data/train/adenocarcinoma_left.lower.lobe_T2_N...</td>\n",
       "      <td>[[1.7807802 0.        1.9192389 ... 0.6265105 ...</td>\n",
       "      <td>0</td>\n",
       "      <td>adenocarcinoma_left.lower.lobe_T2_N0_M0_Ib</td>\n",
       "    </tr>\n",
       "    <tr>\n",
       "      <th>3</th>\n",
       "      <td>3</td>\n",
       "      <td>Data/train/adenocarcinoma_left.lower.lobe_T2_N...</td>\n",
       "      <td>[[0.         0.         0.         ... 0.07570...</td>\n",
       "      <td>0</td>\n",
       "      <td>adenocarcinoma_left.lower.lobe_T2_N0_M0_Ib</td>\n",
       "    </tr>\n",
       "    <tr>\n",
       "      <th>4</th>\n",
       "      <td>4</td>\n",
       "      <td>Data/train/adenocarcinoma_left.lower.lobe_T2_N...</td>\n",
       "      <td>[[0.6203216 0.        1.7942187 ... 2.7571926 ...</td>\n",
       "      <td>0</td>\n",
       "      <td>adenocarcinoma_left.lower.lobe_T2_N0_M0_Ib</td>\n",
       "    </tr>\n",
       "  </tbody>\n",
       "</table>\n",
       "</div>"
      ],
      "text/plain": [
       "   Unnamed: 0                                         image path  \\\n",
       "0           0  Data/train/adenocarcinoma_left.lower.lobe_T2_N...   \n",
       "1           1  Data/train/adenocarcinoma_left.lower.lobe_T2_N...   \n",
       "2           2  Data/train/adenocarcinoma_left.lower.lobe_T2_N...   \n",
       "3           3  Data/train/adenocarcinoma_left.lower.lobe_T2_N...   \n",
       "4           4  Data/train/adenocarcinoma_left.lower.lobe_T2_N...   \n",
       "\n",
       "                                       Features data  labels  \\\n",
       "0  [[1.9375614  0.         0.08620656 ... 0.     ...       0   \n",
       "1  [[2.2254424  0.         1.7753457  ... 0.11375...       0   \n",
       "2  [[1.7807802 0.        1.9192389 ... 0.6265105 ...       0   \n",
       "3  [[0.         0.         0.         ... 0.07570...       0   \n",
       "4  [[0.6203216 0.        1.7942187 ... 2.7571926 ...       0   \n",
       "\n",
       "                                   class name  \n",
       "0  adenocarcinoma_left.lower.lobe_T2_N0_M0_Ib  \n",
       "1  adenocarcinoma_left.lower.lobe_T2_N0_M0_Ib  \n",
       "2  adenocarcinoma_left.lower.lobe_T2_N0_M0_Ib  \n",
       "3  adenocarcinoma_left.lower.lobe_T2_N0_M0_Ib  \n",
       "4  adenocarcinoma_left.lower.lobe_T2_N0_M0_Ib  "
      ]
     },
     "execution_count": 24,
     "metadata": {},
     "output_type": "execute_result"
    }
   ],
   "source": [
    "df.head()"
   ]
  },
  {
   "cell_type": "code",
   "execution_count": 25,
   "id": "144c90f8",
   "metadata": {},
   "outputs": [
    {
     "name": "stdout",
     "output_type": "stream",
     "text": [
      "Model: \"model_1\"\n",
      "_________________________________________________________________\n",
      "Layer (type)                 Output Shape              Param #   \n",
      "=================================================================\n",
      "input_1 (InputLayer)         [(None, 224, 224, 3)]     0         \n",
      "_________________________________________________________________\n",
      "block1_conv1 (Conv2D)        (None, 224, 224, 64)      1792      \n",
      "_________________________________________________________________\n",
      "block1_conv2 (Conv2D)        (None, 224, 224, 64)      36928     \n",
      "_________________________________________________________________\n",
      "block1_pool (MaxPooling2D)   (None, 112, 112, 64)      0         \n",
      "_________________________________________________________________\n",
      "block2_conv1 (Conv2D)        (None, 112, 112, 128)     73856     \n",
      "_________________________________________________________________\n",
      "block2_conv2 (Conv2D)        (None, 112, 112, 128)     147584    \n",
      "_________________________________________________________________\n",
      "block2_pool (MaxPooling2D)   (None, 56, 56, 128)       0         \n",
      "_________________________________________________________________\n",
      "block3_conv1 (Conv2D)        (None, 56, 56, 256)       295168    \n",
      "_________________________________________________________________\n",
      "block3_conv2 (Conv2D)        (None, 56, 56, 256)       590080    \n",
      "_________________________________________________________________\n",
      "block3_conv3 (Conv2D)        (None, 56, 56, 256)       590080    \n",
      "_________________________________________________________________\n",
      "block3_pool (MaxPooling2D)   (None, 28, 28, 256)       0         \n",
      "_________________________________________________________________\n",
      "block4_conv1 (Conv2D)        (None, 28, 28, 512)       1180160   \n",
      "_________________________________________________________________\n",
      "block4_conv2 (Conv2D)        (None, 28, 28, 512)       2359808   \n",
      "_________________________________________________________________\n",
      "block4_conv3 (Conv2D)        (None, 28, 28, 512)       2359808   \n",
      "=================================================================\n",
      "Total params: 7,635,264\n",
      "Trainable params: 0\n",
      "Non-trainable params: 7,635,264\n",
      "_________________________________________________________________\n"
     ]
    }
   ],
   "source": [
    "basemodel2 = Model(inputs=vgg16.input, outputs=vgg16.layers[13].output)\n",
    "basemodel2.summary()"
   ]
  },
  {
   "cell_type": "code",
   "execution_count": 26,
   "id": "9db7c1ad",
   "metadata": {},
   "outputs": [
    {
     "data": {
      "text/plain": [
       "<KerasTensor: shape=(None, 28, 28, 512) dtype=float32 (created by layer 'block4_conv3')>"
      ]
     },
     "execution_count": 26,
     "metadata": {},
     "output_type": "execute_result"
    }
   ],
   "source": [
    "vgg16.layers[13].output"
   ]
  },
  {
   "cell_type": "code",
   "execution_count": 27,
   "id": "dc45f433",
   "metadata": {},
   "outputs": [],
   "source": [
    "def get_features(img):\n",
    "    IMAGE = cv2.resize(img, (224, 224))\n",
    "    feature_vector = basemodel2.predict(IMAGE.reshape(1, 224, 224, 3))\n",
    "    return feature_vector"
   ]
  },
  {
   "cell_type": "code",
   "execution_count": 28,
   "id": "022f44c1",
   "metadata": {},
   "outputs": [],
   "source": [
    "activations=get_features(img)"
   ]
  },
  {
   "cell_type": "code",
   "execution_count": 29,
   "id": "79f502ac",
   "metadata": {},
   "outputs": [
    {
     "data": {
      "text/plain": [
       "(1, 28, 28, 512)"
      ]
     },
     "execution_count": 29,
     "metadata": {},
     "output_type": "execute_result"
    }
   ],
   "source": [
    "activations.shape"
   ]
  },
  {
   "cell_type": "code",
   "execution_count": 30,
   "id": "597113af",
   "metadata": {},
   "outputs": [],
   "source": [
    "# Getting Activations of first layer\n",
    "first_layer_activation = activations[0]"
   ]
  },
  {
   "cell_type": "code",
   "execution_count": 31,
   "id": "d2f5fa61",
   "metadata": {},
   "outputs": [
    {
     "data": {
      "text/plain": [
       "(28, 28, 512)"
      ]
     },
     "execution_count": 31,
     "metadata": {},
     "output_type": "execute_result"
    }
   ],
   "source": [
    "first_layer_activation.shape"
   ]
  },
  {
   "cell_type": "code",
   "execution_count": 32,
   "id": "1ab34e41",
   "metadata": {},
   "outputs": [
    {
     "data": {
      "text/plain": [
       "<matplotlib.image.AxesImage at 0x2c2fb08e4c0>"
      ]
     },
     "execution_count": 32,
     "metadata": {},
     "output_type": "execute_result"
    },
    {
     "data": {
      "image/png": "[encoded data removed]",
      "text/plain": [
       "<Figure size 288x288 with 1 Axes>"
      ]
     },
     "metadata": {
      "needs_background": "light"
     },
     "output_type": "display_data"
    }
   ],
   "source": [
    "# 6th channel of the image after first layer of convolution is applied\n",
    "plt.matshow(activations[0, :, :, 6])"
   ]
  },
  {
   "cell_type": "code",
   "execution_count": 33,
   "id": "41e84261",
   "metadata": {},
   "outputs": [
    {
     "data": {
      "text/plain": [
       "<matplotlib.image.AxesImage at 0x2c40578ba00>"
      ]
     },
     "execution_count": 33,
     "metadata": {},
     "output_type": "execute_result"
    },
    {
     "data": {
      "image/png": "[encoded data removed]",
      "text/plain": [
       "<Figure size 288x288 with 1 Axes>"
      ]
     },
     "metadata": {
      "needs_background": "light"
     },
     "output_type": "display_data"
    }
   ],
   "source": [
    "# 6th channel of the image after first layer of convolution is applied\n",
    "plt.matshow(activations[0, :, :, 500])"
   ]
  },
  {
   "cell_type": "code",
   "execution_count": null,
   "id": "c30c06a7",
   "metadata": {},
   "outputs": [],
   "source": []
  }
 ],
 "metadata": {
  "kernelspec": {
   "display_name": "Python 3 (ipykernel)",
   "language": "python",
   "name": "python3"
  },
  "language_info": {
   "codemirror_mode": {
    "name": "ipython",
    "version": 3
   },
   "file_extension": ".py",
   "mimetype": "text/x-python",
   "name": "python",
   "nbconvert_exporter": "python",
   "pygments_lexer": "ipython3",
   "version": "3.8.8"
  }
 },
 "nbformat": 4,
 "nbformat_minor": 5
}
