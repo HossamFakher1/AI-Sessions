{
 "cells": [
  {
   "cell_type": "markdown",
   "metadata": {},
   "source": [
    "# **Import Library**"
   ]
  },
  {
   "cell_type": "code",
   "execution_count": 1,
   "metadata": {
    "_cell_guid": "b1076dfc-b9ad-4769-8c92-a6c4dae69d19",
    "_uuid": "8f2839f25d086af736a60e9eeb907d3b93b6e0e5",
    "execution": {
     "iopub.execute_input": "2022-03-10T13:19:35.340396Z",
     "iopub.status.busy": "2022-03-10T13:19:35.339733Z",
     "iopub.status.idle": "2022-03-10T13:19:35.840507Z",
     "shell.execute_reply": "2022-03-10T13:19:35.839528Z",
     "shell.execute_reply.started": "2022-03-10T13:19:35.340279Z"
    }
   },
   "outputs": [],
   "source": [
    "import numpy as np \n",
    "import pandas as pd \n",
    "import matplotlib.pyplot as plt\n",
    "import seaborn as sns"
   ]
  },
  {
   "cell_type": "markdown",
   "metadata": {},
   "source": [
    "**This is Labels in dataset**"
   ]
  },
  {
   "cell_type": "code",
   "execution_count": 2,
   "metadata": {
    "execution": {
     "iopub.execute_input": "2022-03-10T13:19:35.842685Z",
     "iopub.status.busy": "2022-03-10T13:19:35.842353Z",
     "iopub.status.idle": "2022-03-10T13:19:35.852492Z",
     "shell.execute_reply": "2022-03-10T13:19:35.851070Z",
     "shell.execute_reply.started": "2022-03-10T13:19:35.842629Z"
    }
   },
   "outputs": [],
   "source": [
    "classes={'N': 0, 'S': 1, 'V': 2, 'F': 3, 'Q': 4}"
   ]
  },
  {
   "cell_type": "markdown",
   "metadata": {},
   "source": [
    "**Read data by pandas**"
   ]
  },
  {
   "cell_type": "code",
   "execution_count": 3,
   "metadata": {
    "execution": {
     "iopub.execute_input": "2022-03-10T13:19:35.855889Z",
     "iopub.status.busy": "2022-03-10T13:19:35.855040Z",
     "iopub.status.idle": "2022-03-10T13:19:40.710172Z",
     "shell.execute_reply": "2022-03-10T13:19:40.709188Z",
     "shell.execute_reply.started": "2022-03-10T13:19:35.855813Z"
    }
   },
   "outputs": [],
   "source": [
    "data=pd.read_csv('mitbih_train.csv',header=None,index_col=False)"
   ]
  },
  {
   "cell_type": "markdown",
   "metadata": {},
   "source": [
    "**Show five rows of data**"
   ]
  },
  {
   "cell_type": "code",
   "execution_count": 4,
   "metadata": {
    "execution": {
     "iopub.execute_input": "2022-03-10T13:19:40.714608Z",
     "iopub.status.busy": "2022-03-10T13:19:40.713772Z",
     "iopub.status.idle": "2022-03-10T13:19:40.753060Z",
     "shell.execute_reply": "2022-03-10T13:19:40.751998Z",
     "shell.execute_reply.started": "2022-03-10T13:19:40.714557Z"
    }
   },
   "outputs": [
    {
     "data": {
      "text/html": [
       "<div>\n",
       "<style scoped>\n",
       "    .dataframe tbody tr th:only-of-type {\n",
       "        vertical-align: middle;\n",
       "    }\n",
       "\n",
       "    .dataframe tbody tr th {\n",
       "        vertical-align: top;\n",
       "    }\n",
       "\n",
       "    .dataframe thead th {\n",
       "        text-align: right;\n",
       "    }\n",
       "</style>\n",
       "<table border=\"1\" class=\"dataframe\">\n",
       "  <thead>\n",
       "    <tr style=\"text-align: right;\">\n",
       "      <th></th>\n",
       "      <th>0</th>\n",
       "      <th>1</th>\n",
       "      <th>2</th>\n",
       "      <th>3</th>\n",
       "      <th>4</th>\n",
       "      <th>5</th>\n",
       "      <th>6</th>\n",
       "      <th>7</th>\n",
       "      <th>8</th>\n",
       "      <th>9</th>\n",
       "      <th>...</th>\n",
       "      <th>178</th>\n",
       "      <th>179</th>\n",
       "      <th>180</th>\n",
       "      <th>181</th>\n",
       "      <th>182</th>\n",
       "      <th>183</th>\n",
       "      <th>184</th>\n",
       "      <th>185</th>\n",
       "      <th>186</th>\n",
       "      <th>187</th>\n",
       "    </tr>\n",
       "  </thead>\n",
       "  <tbody>\n",
       "    <tr>\n",
       "      <th>0</th>\n",
       "      <td>0.977941</td>\n",
       "      <td>0.926471</td>\n",
       "      <td>0.681373</td>\n",
       "      <td>0.245098</td>\n",
       "      <td>0.154412</td>\n",
       "      <td>0.191176</td>\n",
       "      <td>0.151961</td>\n",
       "      <td>0.085784</td>\n",
       "      <td>0.058824</td>\n",
       "      <td>0.049020</td>\n",
       "      <td>...</td>\n",
       "      <td>0.0</td>\n",
       "      <td>0.0</td>\n",
       "      <td>0.0</td>\n",
       "      <td>0.0</td>\n",
       "      <td>0.0</td>\n",
       "      <td>0.0</td>\n",
       "      <td>0.0</td>\n",
       "      <td>0.0</td>\n",
       "      <td>0.0</td>\n",
       "      <td>0.0</td>\n",
       "    </tr>\n",
       "    <tr>\n",
       "      <th>1</th>\n",
       "      <td>0.960114</td>\n",
       "      <td>0.863248</td>\n",
       "      <td>0.461538</td>\n",
       "      <td>0.196581</td>\n",
       "      <td>0.094017</td>\n",
       "      <td>0.125356</td>\n",
       "      <td>0.099715</td>\n",
       "      <td>0.088319</td>\n",
       "      <td>0.074074</td>\n",
       "      <td>0.082621</td>\n",
       "      <td>...</td>\n",
       "      <td>0.0</td>\n",
       "      <td>0.0</td>\n",
       "      <td>0.0</td>\n",
       "      <td>0.0</td>\n",
       "      <td>0.0</td>\n",
       "      <td>0.0</td>\n",
       "      <td>0.0</td>\n",
       "      <td>0.0</td>\n",
       "      <td>0.0</td>\n",
       "      <td>0.0</td>\n",
       "    </tr>\n",
       "    <tr>\n",
       "      <th>2</th>\n",
       "      <td>1.000000</td>\n",
       "      <td>0.659459</td>\n",
       "      <td>0.186486</td>\n",
       "      <td>0.070270</td>\n",
       "      <td>0.070270</td>\n",
       "      <td>0.059459</td>\n",
       "      <td>0.056757</td>\n",
       "      <td>0.043243</td>\n",
       "      <td>0.054054</td>\n",
       "      <td>0.045946</td>\n",
       "      <td>...</td>\n",
       "      <td>0.0</td>\n",
       "      <td>0.0</td>\n",
       "      <td>0.0</td>\n",
       "      <td>0.0</td>\n",
       "      <td>0.0</td>\n",
       "      <td>0.0</td>\n",
       "      <td>0.0</td>\n",
       "      <td>0.0</td>\n",
       "      <td>0.0</td>\n",
       "      <td>0.0</td>\n",
       "    </tr>\n",
       "    <tr>\n",
       "      <th>3</th>\n",
       "      <td>0.925414</td>\n",
       "      <td>0.665746</td>\n",
       "      <td>0.541436</td>\n",
       "      <td>0.276243</td>\n",
       "      <td>0.196133</td>\n",
       "      <td>0.077348</td>\n",
       "      <td>0.071823</td>\n",
       "      <td>0.060773</td>\n",
       "      <td>0.066298</td>\n",
       "      <td>0.058011</td>\n",
       "      <td>...</td>\n",
       "      <td>0.0</td>\n",
       "      <td>0.0</td>\n",
       "      <td>0.0</td>\n",
       "      <td>0.0</td>\n",
       "      <td>0.0</td>\n",
       "      <td>0.0</td>\n",
       "      <td>0.0</td>\n",
       "      <td>0.0</td>\n",
       "      <td>0.0</td>\n",
       "      <td>0.0</td>\n",
       "    </tr>\n",
       "    <tr>\n",
       "      <th>4</th>\n",
       "      <td>0.967136</td>\n",
       "      <td>1.000000</td>\n",
       "      <td>0.830986</td>\n",
       "      <td>0.586854</td>\n",
       "      <td>0.356808</td>\n",
       "      <td>0.248826</td>\n",
       "      <td>0.145540</td>\n",
       "      <td>0.089202</td>\n",
       "      <td>0.117371</td>\n",
       "      <td>0.150235</td>\n",
       "      <td>...</td>\n",
       "      <td>0.0</td>\n",
       "      <td>0.0</td>\n",
       "      <td>0.0</td>\n",
       "      <td>0.0</td>\n",
       "      <td>0.0</td>\n",
       "      <td>0.0</td>\n",
       "      <td>0.0</td>\n",
       "      <td>0.0</td>\n",
       "      <td>0.0</td>\n",
       "      <td>0.0</td>\n",
       "    </tr>\n",
       "  </tbody>\n",
       "</table>\n",
       "<p>5 rows × 188 columns</p>\n",
       "</div>"
      ],
      "text/plain": [
       "        0         1         2         3         4         5         6    \\\n",
       "0  0.977941  0.926471  0.681373  0.245098  0.154412  0.191176  0.151961   \n",
       "1  0.960114  0.863248  0.461538  0.196581  0.094017  0.125356  0.099715   \n",
       "2  1.000000  0.659459  0.186486  0.070270  0.070270  0.059459  0.056757   \n",
       "3  0.925414  0.665746  0.541436  0.276243  0.196133  0.077348  0.071823   \n",
       "4  0.967136  1.000000  0.830986  0.586854  0.356808  0.248826  0.145540   \n",
       "\n",
       "        7         8         9    ...  178  179  180  181  182  183  184  185  \\\n",
       "0  0.085784  0.058824  0.049020  ...  0.0  0.0  0.0  0.0  0.0  0.0  0.0  0.0   \n",
       "1  0.088319  0.074074  0.082621  ...  0.0  0.0  0.0  0.0  0.0  0.0  0.0  0.0   \n",
       "2  0.043243  0.054054  0.045946  ...  0.0  0.0  0.0  0.0  0.0  0.0  0.0  0.0   \n",
       "3  0.060773  0.066298  0.058011  ...  0.0  0.0  0.0  0.0  0.0  0.0  0.0  0.0   \n",
       "4  0.089202  0.117371  0.150235  ...  0.0  0.0  0.0  0.0  0.0  0.0  0.0  0.0   \n",
       "\n",
       "   186  187  \n",
       "0  0.0  0.0  \n",
       "1  0.0  0.0  \n",
       "2  0.0  0.0  \n",
       "3  0.0  0.0  \n",
       "4  0.0  0.0  \n",
       "\n",
       "[5 rows x 188 columns]"
      ]
     },
     "execution_count": 4,
     "metadata": {},
     "output_type": "execute_result"
    }
   ],
   "source": [
    "data.head()"
   ]
  },
  {
   "cell_type": "markdown",
   "metadata": {},
   "source": [
    "**Draw The count of each class**"
   ]
  },
  {
   "cell_type": "code",
   "execution_count": 5,
   "metadata": {
    "execution": {
     "iopub.execute_input": "2022-03-10T13:19:40.754892Z",
     "iopub.status.busy": "2022-03-10T13:19:40.754533Z",
     "iopub.status.idle": "2022-03-10T13:19:40.971976Z",
     "shell.execute_reply": "2022-03-10T13:19:40.970933Z",
     "shell.execute_reply.started": "2022-03-10T13:19:40.754842Z"
    }
   },
   "outputs": [
    {
     "data": {
      "image/png": "[encoded data removed]",
      "text/plain": [
       "<Figure size 432x288 with 1 Axes>"
      ]
     },
     "metadata": {
      "needs_background": "light"
     },
     "output_type": "display_data"
    }
   ],
   "source": [
    "data[187].value_counts().plot(kind='bar')\n",
    "plt.show()"
   ]
  },
  {
   "cell_type": "markdown",
   "metadata": {},
   "source": [
    "**Draw The count of each class**"
   ]
  },
  {
   "cell_type": "code",
   "execution_count": 6,
   "metadata": {
    "execution": {
     "iopub.execute_input": "2022-03-10T13:19:40.974058Z",
     "iopub.status.busy": "2022-03-10T13:19:40.973728Z",
     "iopub.status.idle": "2022-03-10T13:19:41.101979Z",
     "shell.execute_reply": "2022-03-10T13:19:41.100925Z",
     "shell.execute_reply.started": "2022-03-10T13:19:40.974017Z"
    }
   },
   "outputs": [
    {
     "data": {
      "image/png": "[encoded data removed]",
      "text/plain": [
       "<Figure size 432x288 with 1 Axes>"
      ]
     },
     "metadata": {},
     "output_type": "display_data"
    }
   ],
   "source": [
    "data[187].value_counts().plot(kind='pie')\n",
    "plt.show()"
   ]
  },
  {
   "cell_type": "markdown",
   "metadata": {},
   "source": [
    "**Split data to X_train and y_train**"
   ]
  },
  {
   "cell_type": "code",
   "execution_count": 7,
   "metadata": {
    "execution": {
     "iopub.execute_input": "2022-03-10T13:19:41.103976Z",
     "iopub.status.busy": "2022-03-10T13:19:41.103396Z",
     "iopub.status.idle": "2022-03-10T13:19:41.109642Z",
     "shell.execute_reply": "2022-03-10T13:19:41.108638Z",
     "shell.execute_reply.started": "2022-03-10T13:19:41.103911Z"
    }
   },
   "outputs": [],
   "source": [
    "X_train=data.iloc[:,:-1]\n",
    "y_train=data.iloc[:,-1]"
   ]
  },
  {
   "cell_type": "markdown",
   "metadata": {},
   "source": [
    "**Show five rows of X_train**"
   ]
  },
  {
   "cell_type": "code",
   "execution_count": 8,
   "metadata": {
    "execution": {
     "iopub.execute_input": "2022-03-10T13:19:41.111841Z",
     "iopub.status.busy": "2022-03-10T13:19:41.111115Z",
     "iopub.status.idle": "2022-03-10T13:19:41.164236Z",
     "shell.execute_reply": "2022-03-10T13:19:41.163243Z",
     "shell.execute_reply.started": "2022-03-10T13:19:41.111792Z"
    }
   },
   "outputs": [
    {
     "data": {
      "text/html": [
       "<div>\n",
       "<style scoped>\n",
       "    .dataframe tbody tr th:only-of-type {\n",
       "        vertical-align: middle;\n",
       "    }\n",
       "\n",
       "    .dataframe tbody tr th {\n",
       "        vertical-align: top;\n",
       "    }\n",
       "\n",
       "    .dataframe thead th {\n",
       "        text-align: right;\n",
       "    }\n",
       "</style>\n",
       "<table border=\"1\" class=\"dataframe\">\n",
       "  <thead>\n",
       "    <tr style=\"text-align: right;\">\n",
       "      <th></th>\n",
       "      <th>0</th>\n",
       "      <th>1</th>\n",
       "      <th>2</th>\n",
       "      <th>3</th>\n",
       "      <th>4</th>\n",
       "      <th>5</th>\n",
       "      <th>6</th>\n",
       "      <th>7</th>\n",
       "      <th>8</th>\n",
       "      <th>9</th>\n",
       "      <th>...</th>\n",
       "      <th>177</th>\n",
       "      <th>178</th>\n",
       "      <th>179</th>\n",
       "      <th>180</th>\n",
       "      <th>181</th>\n",
       "      <th>182</th>\n",
       "      <th>183</th>\n",
       "      <th>184</th>\n",
       "      <th>185</th>\n",
       "      <th>186</th>\n",
       "    </tr>\n",
       "  </thead>\n",
       "  <tbody>\n",
       "    <tr>\n",
       "      <th>0</th>\n",
       "      <td>0.977941</td>\n",
       "      <td>0.926471</td>\n",
       "      <td>0.681373</td>\n",
       "      <td>0.245098</td>\n",
       "      <td>0.154412</td>\n",
       "      <td>0.191176</td>\n",
       "      <td>0.151961</td>\n",
       "      <td>0.085784</td>\n",
       "      <td>0.058824</td>\n",
       "      <td>0.049020</td>\n",
       "      <td>...</td>\n",
       "      <td>0.0</td>\n",
       "      <td>0.0</td>\n",
       "      <td>0.0</td>\n",
       "      <td>0.0</td>\n",
       "      <td>0.0</td>\n",
       "      <td>0.0</td>\n",
       "      <td>0.0</td>\n",
       "      <td>0.0</td>\n",
       "      <td>0.0</td>\n",
       "      <td>0.0</td>\n",
       "    </tr>\n",
       "    <tr>\n",
       "      <th>1</th>\n",
       "      <td>0.960114</td>\n",
       "      <td>0.863248</td>\n",
       "      <td>0.461538</td>\n",
       "      <td>0.196581</td>\n",
       "      <td>0.094017</td>\n",
       "      <td>0.125356</td>\n",
       "      <td>0.099715</td>\n",
       "      <td>0.088319</td>\n",
       "      <td>0.074074</td>\n",
       "      <td>0.082621</td>\n",
       "      <td>...</td>\n",
       "      <td>0.0</td>\n",
       "      <td>0.0</td>\n",
       "      <td>0.0</td>\n",
       "      <td>0.0</td>\n",
       "      <td>0.0</td>\n",
       "      <td>0.0</td>\n",
       "      <td>0.0</td>\n",
       "      <td>0.0</td>\n",
       "      <td>0.0</td>\n",
       "      <td>0.0</td>\n",
       "    </tr>\n",
       "    <tr>\n",
       "      <th>2</th>\n",
       "      <td>1.000000</td>\n",
       "      <td>0.659459</td>\n",
       "      <td>0.186486</td>\n",
       "      <td>0.070270</td>\n",
       "      <td>0.070270</td>\n",
       "      <td>0.059459</td>\n",
       "      <td>0.056757</td>\n",
       "      <td>0.043243</td>\n",
       "      <td>0.054054</td>\n",
       "      <td>0.045946</td>\n",
       "      <td>...</td>\n",
       "      <td>0.0</td>\n",
       "      <td>0.0</td>\n",
       "      <td>0.0</td>\n",
       "      <td>0.0</td>\n",
       "      <td>0.0</td>\n",
       "      <td>0.0</td>\n",
       "      <td>0.0</td>\n",
       "      <td>0.0</td>\n",
       "      <td>0.0</td>\n",
       "      <td>0.0</td>\n",
       "    </tr>\n",
       "    <tr>\n",
       "      <th>3</th>\n",
       "      <td>0.925414</td>\n",
       "      <td>0.665746</td>\n",
       "      <td>0.541436</td>\n",
       "      <td>0.276243</td>\n",
       "      <td>0.196133</td>\n",
       "      <td>0.077348</td>\n",
       "      <td>0.071823</td>\n",
       "      <td>0.060773</td>\n",
       "      <td>0.066298</td>\n",
       "      <td>0.058011</td>\n",
       "      <td>...</td>\n",
       "      <td>0.0</td>\n",
       "      <td>0.0</td>\n",
       "      <td>0.0</td>\n",
       "      <td>0.0</td>\n",
       "      <td>0.0</td>\n",
       "      <td>0.0</td>\n",
       "      <td>0.0</td>\n",
       "      <td>0.0</td>\n",
       "      <td>0.0</td>\n",
       "      <td>0.0</td>\n",
       "    </tr>\n",
       "    <tr>\n",
       "      <th>4</th>\n",
       "      <td>0.967136</td>\n",
       "      <td>1.000000</td>\n",
       "      <td>0.830986</td>\n",
       "      <td>0.586854</td>\n",
       "      <td>0.356808</td>\n",
       "      <td>0.248826</td>\n",
       "      <td>0.145540</td>\n",
       "      <td>0.089202</td>\n",
       "      <td>0.117371</td>\n",
       "      <td>0.150235</td>\n",
       "      <td>...</td>\n",
       "      <td>0.0</td>\n",
       "      <td>0.0</td>\n",
       "      <td>0.0</td>\n",
       "      <td>0.0</td>\n",
       "      <td>0.0</td>\n",
       "      <td>0.0</td>\n",
       "      <td>0.0</td>\n",
       "      <td>0.0</td>\n",
       "      <td>0.0</td>\n",
       "      <td>0.0</td>\n",
       "    </tr>\n",
       "  </tbody>\n",
       "</table>\n",
       "<p>5 rows × 187 columns</p>\n",
       "</div>"
      ],
      "text/plain": [
       "        0         1         2         3         4         5         6    \\\n",
       "0  0.977941  0.926471  0.681373  0.245098  0.154412  0.191176  0.151961   \n",
       "1  0.960114  0.863248  0.461538  0.196581  0.094017  0.125356  0.099715   \n",
       "2  1.000000  0.659459  0.186486  0.070270  0.070270  0.059459  0.056757   \n",
       "3  0.925414  0.665746  0.541436  0.276243  0.196133  0.077348  0.071823   \n",
       "4  0.967136  1.000000  0.830986  0.586854  0.356808  0.248826  0.145540   \n",
       "\n",
       "        7         8         9    ...  177  178  179  180  181  182  183  184  \\\n",
       "0  0.085784  0.058824  0.049020  ...  0.0  0.0  0.0  0.0  0.0  0.0  0.0  0.0   \n",
       "1  0.088319  0.074074  0.082621  ...  0.0  0.0  0.0  0.0  0.0  0.0  0.0  0.0   \n",
       "2  0.043243  0.054054  0.045946  ...  0.0  0.0  0.0  0.0  0.0  0.0  0.0  0.0   \n",
       "3  0.060773  0.066298  0.058011  ...  0.0  0.0  0.0  0.0  0.0  0.0  0.0  0.0   \n",
       "4  0.089202  0.117371  0.150235  ...  0.0  0.0  0.0  0.0  0.0  0.0  0.0  0.0   \n",
       "\n",
       "   185  186  \n",
       "0  0.0  0.0  \n",
       "1  0.0  0.0  \n",
       "2  0.0  0.0  \n",
       "3  0.0  0.0  \n",
       "4  0.0  0.0  \n",
       "\n",
       "[5 rows x 187 columns]"
      ]
     },
     "execution_count": 8,
     "metadata": {},
     "output_type": "execute_result"
    }
   ],
   "source": [
    "X_train.head()"
   ]
  },
  {
   "cell_type": "markdown",
   "metadata": {},
   "source": [
    "**Show five rows of y_train**"
   ]
  },
  {
   "cell_type": "code",
   "execution_count": 9,
   "metadata": {
    "execution": {
     "iopub.execute_input": "2022-03-10T13:19:41.165893Z",
     "iopub.status.busy": "2022-03-10T13:19:41.165440Z",
     "iopub.status.idle": "2022-03-10T13:19:41.174827Z",
     "shell.execute_reply": "2022-03-10T13:19:41.173515Z",
     "shell.execute_reply.started": "2022-03-10T13:19:41.165839Z"
    }
   },
   "outputs": [
    {
     "data": {
      "text/plain": [
       "0    0.0\n",
       "1    0.0\n",
       "2    0.0\n",
       "3    0.0\n",
       "4    0.0\n",
       "Name: 187, dtype: float64"
      ]
     },
     "execution_count": 9,
     "metadata": {},
     "output_type": "execute_result"
    }
   ],
   "source": [
    "y_train.head()"
   ]
  },
  {
   "cell_type": "markdown",
   "metadata": {},
   "source": [
    "**Show The value of the first element in X_train**"
   ]
  },
  {
   "cell_type": "code",
   "execution_count": 10,
   "metadata": {
    "execution": {
     "iopub.execute_input": "2022-03-10T13:19:41.177387Z",
     "iopub.status.busy": "2022-03-10T13:19:41.176748Z",
     "iopub.status.idle": "2022-03-10T13:19:41.191195Z",
     "shell.execute_reply": "2022-03-10T13:19:41.189919Z",
     "shell.execute_reply.started": "2022-03-10T13:19:41.177327Z"
    }
   },
   "outputs": [
    {
     "data": {
      "text/plain": [
       "0      0.977941\n",
       "1      0.926471\n",
       "2      0.681373\n",
       "3      0.245098\n",
       "4      0.154412\n",
       "         ...   \n",
       "182    0.000000\n",
       "183    0.000000\n",
       "184    0.000000\n",
       "185    0.000000\n",
       "186    0.000000\n",
       "Name: 0, Length: 187, dtype: float64"
      ]
     },
     "execution_count": 10,
     "metadata": {},
     "output_type": "execute_result"
    }
   ],
   "source": [
    "X_train.iloc[0,:]"
   ]
  },
  {
   "cell_type": "markdown",
   "metadata": {},
   "source": [
    "**Show The label of the first element in X_train**"
   ]
  },
  {
   "cell_type": "code",
   "execution_count": 11,
   "metadata": {
    "execution": {
     "iopub.execute_input": "2022-03-10T13:19:41.194086Z",
     "iopub.status.busy": "2022-03-10T13:19:41.192761Z",
     "iopub.status.idle": "2022-03-10T13:19:41.201602Z",
     "shell.execute_reply": "2022-03-10T13:19:41.200573Z",
     "shell.execute_reply.started": "2022-03-10T13:19:41.194008Z"
    }
   },
   "outputs": [
    {
     "data": {
      "text/plain": [
       "0.0"
      ]
     },
     "execution_count": 11,
     "metadata": {},
     "output_type": "execute_result"
    }
   ],
   "source": [
    "y_train[0]"
   ]
  },
  {
   "cell_type": "markdown",
   "metadata": {},
   "source": [
    "**Drow the first nine wave in data**"
   ]
  },
  {
   "cell_type": "code",
   "execution_count": 12,
   "metadata": {
    "execution": {
     "iopub.execute_input": "2022-03-10T13:19:41.204357Z",
     "iopub.status.busy": "2022-03-10T13:19:41.203361Z",
     "iopub.status.idle": "2022-03-10T13:19:42.405037Z",
     "shell.execute_reply": "2022-03-10T13:19:42.404198Z",
     "shell.execute_reply.started": "2022-03-10T13:19:41.204304Z"
    }
   },
   "outputs": [
    {
     "data": {
      "image/png": "[encoded data removed]",
      "text/plain": [
       "<Figure size 1440x1440 with 9 Axes>"
      ]
     },
     "metadata": {
      "needs_background": "light"
     },
     "output_type": "display_data"
    }
   ],
   "source": [
    "plt.figure(figsize=(20,20))\n",
    "for i in range(9):\n",
    "    plt.subplot(3,3,i+1)\n",
    "    plt.plot(np.arange(0,187),X_train.iloc[i,:])\n",
    "    plt.title(y_train[i])\n",
    "plt.show()"
   ]
  },
  {
   "cell_type": "markdown",
   "metadata": {},
   "source": [
    "**Shuffle data to avoid keep the last class it trained**"
   ]
  },
  {
   "cell_type": "code",
   "execution_count": 13,
   "metadata": {
    "execution": {
     "iopub.execute_input": "2022-03-10T13:19:42.410745Z",
     "iopub.status.busy": "2022-03-10T13:19:42.410275Z",
     "iopub.status.idle": "2022-03-10T13:19:42.553505Z",
     "shell.execute_reply": "2022-03-10T13:19:42.552548Z",
     "shell.execute_reply.started": "2022-03-10T13:19:42.410702Z"
    }
   },
   "outputs": [],
   "source": [
    "from sklearn.utils import shuffle\n",
    "X_train,y_train=shuffle(X_train,y_train)"
   ]
  },
  {
   "cell_type": "markdown",
   "metadata": {},
   "source": [
    "**Split data to 80% Train and 20% Test**"
   ]
  },
  {
   "cell_type": "code",
   "execution_count": 14,
   "metadata": {
    "execution": {
     "iopub.execute_input": "2022-03-10T13:19:42.556959Z",
     "iopub.status.busy": "2022-03-10T13:19:42.556377Z",
     "iopub.status.idle": "2022-03-10T13:19:42.822608Z",
     "shell.execute_reply": "2022-03-10T13:19:42.821686Z",
     "shell.execute_reply.started": "2022-03-10T13:19:42.556912Z"
    }
   },
   "outputs": [],
   "source": [
    "from sklearn.model_selection import train_test_split\n",
    "X_train,X_test,y_train,y_test = train_test_split(X_train,y_train,test_size=0.2)"
   ]
  },
  {
   "cell_type": "markdown",
   "metadata": {},
   "source": [
    "**SHow the Shape of X_train**"
   ]
  },
  {
   "cell_type": "code",
   "execution_count": 15,
   "metadata": {
    "execution": {
     "iopub.execute_input": "2022-03-10T13:19:42.825813Z",
     "iopub.status.busy": "2022-03-10T13:19:42.825214Z",
     "iopub.status.idle": "2022-03-10T13:19:42.833465Z",
     "shell.execute_reply": "2022-03-10T13:19:42.832177Z",
     "shell.execute_reply.started": "2022-03-10T13:19:42.825765Z"
    }
   },
   "outputs": [
    {
     "data": {
      "text/plain": [
       "(70043, 187)"
      ]
     },
     "execution_count": 15,
     "metadata": {},
     "output_type": "execute_result"
    }
   ],
   "source": [
    "X_train.shape"
   ]
  },
  {
   "cell_type": "markdown",
   "metadata": {},
   "source": [
    "**SHow the Shape of y_train**"
   ]
  },
  {
   "cell_type": "code",
   "execution_count": 16,
   "metadata": {
    "execution": {
     "iopub.execute_input": "2022-03-10T13:19:42.836232Z",
     "iopub.status.busy": "2022-03-10T13:19:42.835383Z",
     "iopub.status.idle": "2022-03-10T13:19:42.848521Z",
     "shell.execute_reply": "2022-03-10T13:19:42.847325Z",
     "shell.execute_reply.started": "2022-03-10T13:19:42.836142Z"
    }
   },
   "outputs": [
    {
     "data": {
      "text/plain": [
       "(70043,)"
      ]
     },
     "execution_count": 16,
     "metadata": {},
     "output_type": "execute_result"
    }
   ],
   "source": [
    "y_train.shape"
   ]
  },
  {
   "cell_type": "markdown",
   "metadata": {},
   "source": [
    "**SHow the Shape of X_test**"
   ]
  },
  {
   "cell_type": "code",
   "execution_count": 17,
   "metadata": {
    "execution": {
     "iopub.execute_input": "2022-03-10T13:19:42.852581Z",
     "iopub.status.busy": "2022-03-10T13:19:42.852261Z",
     "iopub.status.idle": "2022-03-10T13:19:42.860058Z",
     "shell.execute_reply": "2022-03-10T13:19:42.858569Z",
     "shell.execute_reply.started": "2022-03-10T13:19:42.852551Z"
    }
   },
   "outputs": [
    {
     "data": {
      "text/plain": [
       "(17511, 187)"
      ]
     },
     "execution_count": 17,
     "metadata": {},
     "output_type": "execute_result"
    }
   ],
   "source": [
    "X_test.shape"
   ]
  },
  {
   "cell_type": "markdown",
   "metadata": {},
   "source": [
    "**SHow the Shape of y_test**"
   ]
  },
  {
   "cell_type": "code",
   "execution_count": 18,
   "metadata": {
    "execution": {
     "iopub.execute_input": "2022-03-10T13:19:42.862660Z",
     "iopub.status.busy": "2022-03-10T13:19:42.862261Z",
     "iopub.status.idle": "2022-03-10T13:19:42.870594Z",
     "shell.execute_reply": "2022-03-10T13:19:42.869325Z",
     "shell.execute_reply.started": "2022-03-10T13:19:42.862601Z"
    }
   },
   "outputs": [
    {
     "data": {
      "text/plain": [
       "(17511,)"
      ]
     },
     "execution_count": 18,
     "metadata": {},
     "output_type": "execute_result"
    }
   ],
   "source": [
    "y_test.shape"
   ]
  },
  {
   "cell_type": "markdown",
   "metadata": {},
   "source": [
    "**Split Test data to 50% test and 50% validation**"
   ]
  },
  {
   "cell_type": "code",
   "execution_count": 19,
   "metadata": {
    "execution": {
     "iopub.execute_input": "2022-03-10T13:19:42.873660Z",
     "iopub.status.busy": "2022-03-10T13:19:42.872639Z",
     "iopub.status.idle": "2022-03-10T13:19:42.900400Z",
     "shell.execute_reply": "2022-03-10T13:19:42.899431Z",
     "shell.execute_reply.started": "2022-03-10T13:19:42.873358Z"
    }
   },
   "outputs": [],
   "source": [
    "X_test,X_val,y_test,y_val =train_test_split(X_test,y_test,test_size=0.5)"
   ]
  },
  {
   "cell_type": "markdown",
   "metadata": {},
   "source": [
    "**SHow the Shape of X_test,X_val**"
   ]
  },
  {
   "cell_type": "code",
   "execution_count": 20,
   "metadata": {
    "execution": {
     "iopub.execute_input": "2022-03-10T13:19:42.903237Z",
     "iopub.status.busy": "2022-03-10T13:19:42.901729Z",
     "iopub.status.idle": "2022-03-10T13:19:42.911086Z",
     "shell.execute_reply": "2022-03-10T13:19:42.909734Z",
     "shell.execute_reply.started": "2022-03-10T13:19:42.903188Z"
    }
   },
   "outputs": [
    {
     "data": {
      "text/plain": [
       "((8755, 187), (8756, 187))"
      ]
     },
     "execution_count": 20,
     "metadata": {},
     "output_type": "execute_result"
    }
   ],
   "source": [
    "X_test.shape,X_val.shape"
   ]
  },
  {
   "cell_type": "markdown",
   "metadata": {},
   "source": [
    "**SHow the Shape of y_test,y_val**"
   ]
  },
  {
   "cell_type": "code",
   "execution_count": 21,
   "metadata": {
    "execution": {
     "iopub.execute_input": "2022-03-10T13:19:42.913971Z",
     "iopub.status.busy": "2022-03-10T13:19:42.912947Z",
     "iopub.status.idle": "2022-03-10T13:19:42.923633Z",
     "shell.execute_reply": "2022-03-10T13:19:42.922364Z",
     "shell.execute_reply.started": "2022-03-10T13:19:42.913924Z"
    }
   },
   "outputs": [
    {
     "data": {
      "text/plain": [
       "((8755,), (8756,))"
      ]
     },
     "execution_count": 21,
     "metadata": {},
     "output_type": "execute_result"
    }
   ],
   "source": [
    "y_test.shape,y_val.shape"
   ]
  },
  {
   "cell_type": "markdown",
   "metadata": {},
   "source": [
    "**The Library to build The model deep learning**"
   ]
  },
  {
   "cell_type": "code",
   "execution_count": 22,
   "metadata": {
    "execution": {
     "iopub.execute_input": "2022-03-10T13:19:42.926181Z",
     "iopub.status.busy": "2022-03-10T13:19:42.925751Z",
     "iopub.status.idle": "2022-03-10T13:19:48.661074Z",
     "shell.execute_reply": "2022-03-10T13:19:48.659858Z",
     "shell.execute_reply.started": "2022-03-10T13:19:42.926077Z"
    }
   },
   "outputs": [],
   "source": [
    "import tensorflow as tf \n",
    "from tensorflow.keras.models import Sequential\n",
    "from tensorflow.keras.layers import Dense ,Dropout, BatchNormalization\n",
    "from tensorflow.keras.callbacks import EarlyStopping ,ReduceLROnPlateau ,ModelCheckpoint"
   ]
  },
  {
   "cell_type": "markdown",
   "metadata": {},
   "source": [
    "**EarlyStopping: it used when the model is going to overfiting ,he go to save the data only but in differnt data he mistake to detect the real class.**"
   ]
  },
  {
   "cell_type": "markdown",
   "metadata": {},
   "source": [
    "**ReduceLROnPlateau: it used when the model is reach to the reduce loss.**"
   ]
  },
  {
   "cell_type": "markdown",
   "metadata": {},
   "source": [
    "**ModelCheckpoint: it used to save the best weights.**"
   ]
  },
  {
   "cell_type": "code",
   "execution_count": 23,
   "metadata": {
    "execution": {
     "iopub.execute_input": "2022-03-10T13:19:48.663804Z",
     "iopub.status.busy": "2022-03-10T13:19:48.663575Z",
     "iopub.status.idle": "2022-03-10T13:19:48.669595Z",
     "shell.execute_reply": "2022-03-10T13:19:48.668467Z",
     "shell.execute_reply.started": "2022-03-10T13:19:48.663761Z"
    }
   },
   "outputs": [],
   "source": [
    "earlyStopping=EarlyStopping(patience=10,mode='max',monitor='val_loss',restore_best_weights=True)\n",
    "reduceLR=ReduceLROnPlateau(monitor='val_loss',min_lr=0.0001)\n",
    "modelCheck=ModelCheckpoint(filepath='model.h5',monitor='val_loss',save_best_only=True)\n",
    "callbacks=[earlyStopping,reduceLR,modelCheck]"
   ]
  },
  {
   "cell_type": "markdown",
   "metadata": {},
   "source": [
    "**The model**"
   ]
  },
  {
   "cell_type": "code",
   "execution_count": 24,
   "metadata": {
    "execution": {
     "iopub.execute_input": "2022-03-10T13:19:48.671615Z",
     "iopub.status.busy": "2022-03-10T13:19:48.671185Z",
     "iopub.status.idle": "2022-03-10T13:19:51.653297Z",
     "shell.execute_reply": "2022-03-10T13:19:51.652200Z",
     "shell.execute_reply.started": "2022-03-10T13:19:48.671575Z"
    }
   },
   "outputs": [
    {
     "name": "stderr",
     "output_type": "stream",
     "text": [
      "2022-03-10 13:19:48.933568: I tensorflow/stream_executor/cuda/cuda_gpu_executor.cc:937] successful NUMA node read from SysFS had negative value (-1), but there must be at least one NUMA node, so returning NUMA node zero\n",
      "2022-03-10 13:19:49.060803: I tensorflow/stream_executor/cuda/cuda_gpu_executor.cc:937] successful NUMA node read from SysFS had negative value (-1), but there must be at least one NUMA node, so returning NUMA node zero\n",
      "2022-03-10 13:19:49.061885: I tensorflow/stream_executor/cuda/cuda_gpu_executor.cc:937] successful NUMA node read from SysFS had negative value (-1), but there must be at least one NUMA node, so returning NUMA node zero\n",
      "2022-03-10 13:19:49.063443: I tensorflow/core/platform/cpu_feature_guard.cc:142] This TensorFlow binary is optimized with oneAPI Deep Neural Network Library (oneDNN) to use the following CPU instructions in performance-critical operations:  AVX2 FMA\n",
      "To enable them in other operations, rebuild TensorFlow with the appropriate compiler flags.\n",
      "2022-03-10 13:19:49.064743: I tensorflow/stream_executor/cuda/cuda_gpu_executor.cc:937] successful NUMA node read from SysFS had negative value (-1), but there must be at least one NUMA node, so returning NUMA node zero\n",
      "2022-03-10 13:19:49.065771: I tensorflow/stream_executor/cuda/cuda_gpu_executor.cc:937] successful NUMA node read from SysFS had negative value (-1), but there must be at least one NUMA node, so returning NUMA node zero\n",
      "2022-03-10 13:19:49.066771: I tensorflow/stream_executor/cuda/cuda_gpu_executor.cc:937] successful NUMA node read from SysFS had negative value (-1), but there must be at least one NUMA node, so returning NUMA node zero\n",
      "2022-03-10 13:19:51.188491: I tensorflow/stream_executor/cuda/cuda_gpu_executor.cc:937] successful NUMA node read from SysFS had negative value (-1), but there must be at least one NUMA node, so returning NUMA node zero\n",
      "2022-03-10 13:19:51.189564: I tensorflow/stream_executor/cuda/cuda_gpu_executor.cc:937] successful NUMA node read from SysFS had negative value (-1), but there must be at least one NUMA node, so returning NUMA node zero\n",
      "2022-03-10 13:19:51.190639: I tensorflow/stream_executor/cuda/cuda_gpu_executor.cc:937] successful NUMA node read from SysFS had negative value (-1), but there must be at least one NUMA node, so returning NUMA node zero\n",
      "2022-03-10 13:19:51.191596: I tensorflow/core/common_runtime/gpu/gpu_device.cc:1510] Created device /job:localhost/replica:0/task:0/device:GPU:0 with 15403 MB memory:  -> device: 0, name: Tesla P100-PCIE-16GB, pci bus id: 0000:00:04.0, compute capability: 6.0\n"
     ]
    }
   ],
   "source": [
    "model=Sequential([\n",
    "                    Dense(256,activation='relu',input_shape=(187,)),\n",
    "                    BatchNormalization(),\n",
    "    \n",
    "                    Dense(512,activation='relu'),\n",
    "                    BatchNormalization(),\n",
    "    \n",
    "                    Dense(256,activation='relu'),\n",
    "                    BatchNormalization(),\n",
    "    \n",
    "                    Dense(5,activation='softmax')\n",
    "                 ])"
   ]
  },
  {
   "cell_type": "markdown",
   "metadata": {},
   "source": [
    "**Summary of model**"
   ]
  },
  {
   "cell_type": "code",
   "execution_count": 25,
   "metadata": {
    "execution": {
     "iopub.execute_input": "2022-03-10T13:19:51.656231Z",
     "iopub.status.busy": "2022-03-10T13:19:51.655849Z",
     "iopub.status.idle": "2022-03-10T13:19:51.672641Z",
     "shell.execute_reply": "2022-03-10T13:19:51.670721Z",
     "shell.execute_reply.started": "2022-03-10T13:19:51.656189Z"
    }
   },
   "outputs": [
    {
     "name": "stdout",
     "output_type": "stream",
     "text": [
      "Model: \"sequential\"\n",
      "_________________________________________________________________\n",
      "Layer (type)                 Output Shape              Param #   \n",
      "=================================================================\n",
      "dense (Dense)                (None, 256)               48128     \n",
      "_________________________________________________________________\n",
      "batch_normalization (BatchNo (None, 256)               1024      \n",
      "_________________________________________________________________\n",
      "dense_1 (Dense)              (None, 512)               131584    \n",
      "_________________________________________________________________\n",
      "batch_normalization_1 (Batch (None, 512)               2048      \n",
      "_________________________________________________________________\n",
      "dense_2 (Dense)              (None, 256)               131328    \n",
      "_________________________________________________________________\n",
      "batch_normalization_2 (Batch (None, 256)               1024      \n",
      "_________________________________________________________________\n",
      "dense_3 (Dense)              (None, 5)                 1285      \n",
      "=================================================================\n",
      "Total params: 316,421\n",
      "Trainable params: 314,373\n",
      "Non-trainable params: 2,048\n",
      "_________________________________________________________________\n"
     ]
    }
   ],
   "source": [
    "model.summary()"
   ]
  },
  {
   "cell_type": "markdown",
   "metadata": {},
   "source": [
    "**optimizer adam to update weights**"
   ]
  },
  {
   "cell_type": "markdown",
   "metadata": {},
   "source": [
    "**loss: to calculate The loss**"
   ]
  },
  {
   "cell_type": "markdown",
   "metadata": {},
   "source": [
    "**metrics to return the accuracy**"
   ]
  },
  {
   "cell_type": "code",
   "execution_count": 26,
   "metadata": {
    "execution": {
     "iopub.execute_input": "2022-03-10T13:19:51.675334Z",
     "iopub.status.busy": "2022-03-10T13:19:51.674867Z",
     "iopub.status.idle": "2022-03-10T13:19:51.692352Z",
     "shell.execute_reply": "2022-03-10T13:19:51.691216Z",
     "shell.execute_reply.started": "2022-03-10T13:19:51.675292Z"
    }
   },
   "outputs": [],
   "source": [
    "model.compile(optimizer='adam',loss=tf.keras.losses.sparse_categorical_crossentropy,metrics=['accuracy'])"
   ]
  },
  {
   "cell_type": "markdown",
   "metadata": {},
   "source": [
    "**Theain th mode put X_train, y_train and validation data is X_val y_val and number of epochs is 100 and batch size 128 it take 128 batch it split data to number of patchs each patch 128 element**"
   ]
  },
  {
   "cell_type": "code",
   "execution_count": 27,
   "metadata": {
    "execution": {
     "iopub.execute_input": "2022-03-10T13:19:51.694473Z",
     "iopub.status.busy": "2022-03-10T13:19:51.693804Z",
     "iopub.status.idle": "2022-03-10T13:20:29.129925Z",
     "shell.execute_reply": "2022-03-10T13:20:29.128908Z",
     "shell.execute_reply.started": "2022-03-10T13:19:51.694418Z"
    }
   },
   "outputs": [
    {
     "name": "stderr",
     "output_type": "stream",
     "text": [
      "2022-03-10 13:19:52.034014: I tensorflow/compiler/mlir/mlir_graph_optimization_pass.cc:185] None of the MLIR Optimization Passes are enabled (registered 2)\n"
     ]
    },
    {
     "name": "stdout",
     "output_type": "stream",
     "text": [
      "Epoch 1/100\n",
      "548/548 [==============================] - 5s 6ms/step - loss: 0.2146 - accuracy: 0.9442 - val_loss: 0.1496 - val_accuracy: 0.9585\n",
      "Epoch 2/100\n",
      "548/548 [==============================] - 3s 6ms/step - loss: 0.1161 - accuracy: 0.9680 - val_loss: 0.1240 - val_accuracy: 0.9648\n",
      "Epoch 3/100\n",
      "548/548 [==============================] - 3s 5ms/step - loss: 0.0892 - accuracy: 0.9740 - val_loss: 0.0992 - val_accuracy: 0.9705\n",
      "Epoch 4/100\n",
      "548/548 [==============================] - 3s 6ms/step - loss: 0.0777 - accuracy: 0.9772 - val_loss: 0.0904 - val_accuracy: 0.9737\n",
      "Epoch 5/100\n",
      "548/548 [==============================] - 3s 6ms/step - loss: 0.0716 - accuracy: 0.9781 - val_loss: 0.1085 - val_accuracy: 0.9703\n",
      "Epoch 6/100\n",
      "548/548 [==============================] - 3s 6ms/step - loss: 0.0643 - accuracy: 0.9799 - val_loss: 0.1114 - val_accuracy: 0.9685\n",
      "Epoch 7/100\n",
      "548/548 [==============================] - 3s 6ms/step - loss: 0.0586 - accuracy: 0.9819 - val_loss: 0.0944 - val_accuracy: 0.9729\n",
      "Epoch 8/100\n",
      "548/548 [==============================] - 3s 5ms/step - loss: 0.0542 - accuracy: 0.9829 - val_loss: 0.0869 - val_accuracy: 0.9761\n",
      "Epoch 9/100\n",
      "548/548 [==============================] - 3s 6ms/step - loss: 0.0561 - accuracy: 0.9823 - val_loss: 0.0998 - val_accuracy: 0.9719\n",
      "Epoch 10/100\n",
      "548/548 [==============================] - 3s 5ms/step - loss: 0.0499 - accuracy: 0.9842 - val_loss: 0.0860 - val_accuracy: 0.9757\n",
      "Epoch 11/100\n",
      "548/548 [==============================] - 3s 5ms/step - loss: 0.0442 - accuracy: 0.9858 - val_loss: 0.0822 - val_accuracy: 0.9796\n"
     ]
    }
   ],
   "source": [
    "history=model.fit(X_train,y_train,validation_data=(X_val,y_val),epochs=100,batch_size=128,\n",
    "                 callbacks=callbacks\n",
    "                 )"
   ]
  },
  {
   "cell_type": "markdown",
   "metadata": {},
   "source": [
    "**return accuracy and loss**"
   ]
  },
  {
   "cell_type": "code",
   "execution_count": 28,
   "metadata": {
    "execution": {
     "iopub.execute_input": "2022-03-10T13:20:29.132077Z",
     "iopub.status.busy": "2022-03-10T13:20:29.131765Z",
     "iopub.status.idle": "2022-03-10T13:20:29.140415Z",
     "shell.execute_reply": "2022-03-10T13:20:29.139196Z",
     "shell.execute_reply.started": "2022-03-10T13:20:29.132017Z"
    }
   },
   "outputs": [],
   "source": [
    "#plotting training values\n",
    "import seaborn as sns\n",
    "sns.set()\n",
    "\n",
    "acc = history.history['accuracy']\n",
    "val_acc = history.history['val_accuracy']\n",
    "loss = history.history['loss']\n",
    "val_loss = history.history['val_loss']\n",
    "epochs = range(1, len(loss) + 1)"
   ]
  },
  {
   "cell_type": "markdown",
   "metadata": {},
   "source": [
    "**Drow The accuracy of training and validation**"
   ]
  },
  {
   "cell_type": "code",
   "execution_count": 29,
   "metadata": {
    "execution": {
     "iopub.execute_input": "2022-03-10T13:20:29.142631Z",
     "iopub.status.busy": "2022-03-10T13:20:29.141808Z",
     "iopub.status.idle": "2022-03-10T13:20:34.305798Z",
     "shell.execute_reply": "2022-03-10T13:20:34.304883Z",
     "shell.execute_reply.started": "2022-03-10T13:20:29.142585Z"
    }
   },
   "outputs": [
    {
     "data": {
      "text/plain": [
       "<matplotlib.legend.Legend at 0x7ff028dc7050>"
      ]
     },
     "execution_count": 29,
     "metadata": {},
     "output_type": "execute_result"
    },
    {
     "data": {
      "image/png": "[encoded data removed]",
      "text/plain": [
       "<Figure size 432x288 with 1 Axes>"
      ]
     },
     "metadata": {},
     "output_type": "display_data"
    }
   ],
   "source": [
    "#accuracy plot\n",
    "plt.plot(epochs, acc, color='green', label='Training Accuracy')\n",
    "plt.plot(epochs, val_acc, color='blue', label='Validation Accuracy')\n",
    "plt.title('Training and Validation Accuracy')\n",
    "plt.ylabel('Accuracy')\n",
    "plt.xlabel('Epoch')\n",
    "plt.legend()\n"
   ]
  },
  {
   "cell_type": "markdown",
   "metadata": {},
   "source": [
    "**Drow The loss of training and validation**"
   ]
  },
  {
   "cell_type": "code",
   "execution_count": 30,
   "metadata": {
    "execution": {
     "iopub.execute_input": "2022-03-10T13:20:34.308361Z",
     "iopub.status.busy": "2022-03-10T13:20:34.307779Z",
     "iopub.status.idle": "2022-03-10T13:20:34.594164Z",
     "shell.execute_reply": "2022-03-10T13:20:34.593088Z",
     "shell.execute_reply.started": "2022-03-10T13:20:34.308316Z"
    }
   },
   "outputs": [
    {
     "data": {
      "image/png": "[encoded data removed]",
      "text/plain": [
       "<Figure size 432x288 with 1 Axes>"
      ]
     },
     "metadata": {},
     "output_type": "display_data"
    }
   ],
   "source": [
    "\n",
    "plt.figure()\n",
    "#loss plot\n",
    "plt.plot(epochs, loss, color='green', label='Training Loss')\n",
    "plt.plot(epochs, val_loss, color='red', label='Validation Loss')\n",
    "plt.title('Training and Validation Loss')\n",
    "plt.xlabel('Epoch')\n",
    "plt.ylabel('Loss')\n",
    "plt.legend()\n",
    "\n",
    "plt.show()\n"
   ]
  },
  {
   "cell_type": "markdown",
   "metadata": {},
   "source": [
    "**Drow accuracy and loss and learning rate**"
   ]
  },
  {
   "cell_type": "code",
   "execution_count": 31,
   "metadata": {
    "execution": {
     "iopub.execute_input": "2022-03-10T13:20:34.596753Z",
     "iopub.status.busy": "2022-03-10T13:20:34.596167Z",
     "iopub.status.idle": "2022-03-10T13:20:34.910997Z",
     "shell.execute_reply": "2022-03-10T13:20:34.909998Z",
     "shell.execute_reply.started": "2022-03-10T13:20:34.596708Z"
    }
   },
   "outputs": [
    {
     "data": {
      "image/png": "[encoded data removed]",
      "text/plain": [
       "<Figure size 576x360 with 1 Axes>"
      ]
     },
     "metadata": {},
     "output_type": "display_data"
    }
   ],
   "source": [
    "\n",
    "pd.DataFrame(history.history).plot(figsize=(8, 5))\n",
    "plt.grid(True)\n",
    "plt.gca().set_ylim(0, 1)\n",
    "plt.show()"
   ]
  },
  {
   "cell_type": "markdown",
   "metadata": {},
   "source": [
    "**Calculate accuracy and loss of testing**"
   ]
  },
  {
   "cell_type": "code",
   "execution_count": 32,
   "metadata": {
    "execution": {
     "iopub.execute_input": "2022-03-10T13:20:34.912954Z",
     "iopub.status.busy": "2022-03-10T13:20:34.912614Z",
     "iopub.status.idle": "2022-03-10T13:20:36.270087Z",
     "shell.execute_reply": "2022-03-10T13:20:36.269088Z",
     "shell.execute_reply.started": "2022-03-10T13:20:34.912887Z"
    }
   },
   "outputs": [
    {
     "name": "stdout",
     "output_type": "stream",
     "text": [
      "274/274 [==============================] - 1s 2ms/step - loss: 0.1461 - accuracy: 0.9601\n"
     ]
    },
    {
     "data": {
      "text/plain": [
       "[0.1461319476366043, 0.9601370692253113]"
      ]
     },
     "execution_count": 32,
     "metadata": {},
     "output_type": "execute_result"
    }
   ],
   "source": [
    "model.evaluate(X_test,y_test)"
   ]
  },
  {
   "cell_type": "markdown",
   "metadata": {},
   "source": [
    "**predict X_test**"
   ]
  },
  {
   "cell_type": "code",
   "execution_count": 33,
   "metadata": {
    "execution": {
     "iopub.execute_input": "2022-03-10T13:20:36.272287Z",
     "iopub.status.busy": "2022-03-10T13:20:36.271916Z",
     "iopub.status.idle": "2022-03-10T13:20:36.805080Z",
     "shell.execute_reply": "2022-03-10T13:20:36.804166Z",
     "shell.execute_reply.started": "2022-03-10T13:20:36.272240Z"
    }
   },
   "outputs": [],
   "source": [
    "predictions = model.predict(X_test)\n"
   ]
  },
  {
   "cell_type": "markdown",
   "metadata": {},
   "source": [
    "**Show the accuracy of dataset (precision and recall f1 score)**"
   ]
  },
  {
   "cell_type": "code",
   "execution_count": 34,
   "metadata": {
    "execution": {
     "iopub.execute_input": "2022-03-10T13:20:36.809045Z",
     "iopub.status.busy": "2022-03-10T13:20:36.808732Z",
     "iopub.status.idle": "2022-03-10T13:20:36.834650Z",
     "shell.execute_reply": "2022-03-10T13:20:36.833651Z",
     "shell.execute_reply.started": "2022-03-10T13:20:36.809001Z"
    }
   },
   "outputs": [
    {
     "name": "stdout",
     "output_type": "stream",
     "text": [
      "              precision    recall  f1-score   support\n",
      "\n",
      "         0.0       0.97      0.98      0.98      7283\n",
      "         1.0       0.95      0.56      0.71       240\n",
      "         2.0       0.78      0.93      0.85       569\n",
      "         3.0       0.81      0.29      0.43        59\n",
      "         4.0       0.99      0.93      0.96       604\n",
      "\n",
      "    accuracy                           0.96      8755\n",
      "   macro avg       0.90      0.74      0.78      8755\n",
      "weighted avg       0.96      0.96      0.96      8755\n",
      "\n"
     ]
    }
   ],
   "source": [
    "from sklearn.metrics import classification_report\n",
    "print(classification_report(y_test, predictions.argmax(axis=1)))"
   ]
  },
  {
   "cell_type": "markdown",
   "metadata": {},
   "source": [
    "**Show the accuracy of dataset (confusion metrix)**"
   ]
  },
  {
   "cell_type": "code",
   "execution_count": 35,
   "metadata": {
    "execution": {
     "iopub.execute_input": "2022-03-10T13:20:36.836483Z",
     "iopub.status.busy": "2022-03-10T13:20:36.836157Z",
     "iopub.status.idle": "2022-03-10T13:20:37.233086Z",
     "shell.execute_reply": "2022-03-10T13:20:37.231991Z",
     "shell.execute_reply.started": "2022-03-10T13:20:36.836430Z"
    }
   },
   "outputs": [
    {
     "data": {
      "text/plain": [
       "<AxesSubplot:>"
      ]
     },
     "execution_count": 35,
     "metadata": {},
     "output_type": "execute_result"
    },
    {
     "data": {
      "image/png": "[encoded data removed]",
      "text/plain": [
       "<Figure size 432x288 with 2 Axes>"
      ]
     },
     "metadata": {},
     "output_type": "display_data"
    }
   ],
   "source": [
    "import seaborn as sns\n",
    "from sklearn.metrics import confusion_matrix\n",
    "cm = confusion_matrix(y_test, predictions.argmax(axis=1))\n",
    "\n",
    "sns.heatmap(cm,  annot=True, fmt=\"d\" ,cmap=\"YlGnBu\")"
   ]
  },
  {
   "cell_type": "code",
   "execution_count": null,
   "metadata": {},
   "outputs": [],
   "source": []
  }
 ],
 "metadata": {
  "kernelspec": {
   "display_name": "Python 3 (ipykernel)",
   "language": "python",
   "name": "python3"
  },
  "language_info": {
   "codemirror_mode": {
    "name": "ipython",
    "version": 3
   },
   "file_extension": ".py",
   "mimetype": "text/x-python",
   "name": "python",
   "nbconvert_exporter": "python",
   "pygments_lexer": "ipython3",
   "version": "3.8.8"
  }
 },
 "nbformat": 4,
 "nbformat_minor": 4
}
