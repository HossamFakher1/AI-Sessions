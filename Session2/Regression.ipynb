{
 "cells": [
  {
   "cell_type": "markdown",
   "metadata": {
    "id": "NdoGNlZTTYUa"
   },
   "source": [
    "# **MLP for Regression**"
   ]
  },
  {
   "cell_type": "code",
   "execution_count": 1,
   "metadata": {
    "colab": {
     "base_uri": "https://localhost:8080/"
    },
    "id": "NwM7kGQ5mejS",
    "outputId": "5725fb98-0b93-4664-86d1-9c05b759b7d0"
   },
   "outputs": [],
   "source": [
    "# Building a Regression MLP Using the Sequential API\n",
    "import tensorflow as tf\n",
    "from tensorflow import keras\n",
    "import numpy as np \n",
    "import pandas as pd \n",
    "import matplotlib.pyplot as plt\n",
    "import seaborn as sns\n",
    "\n",
    "from sklearn.datasets import fetch_california_housing\n",
    "from sklearn.model_selection import train_test_split\n",
    "from sklearn.preprocessing import StandardScaler\n",
    "from sklearn import metrics"
   ]
  },
  {
   "cell_type": "code",
   "execution_count": 2,
   "metadata": {},
   "outputs": [
    {
     "name": "stdout",
     "output_type": "stream",
     "text": [
      "Examples =  (20640, 8)  Labels =  (20640,)\n"
     ]
    }
   ],
   "source": [
    "# The House Prices Dataset\n",
    "housing = fetch_california_housing()\n",
    "print(\"Examples = \",housing.data.shape ,\" Labels = \", housing.target.shape)\n"
   ]
  },
  {
   "cell_type": "code",
   "execution_count": 3,
   "metadata": {},
   "outputs": [
    {
     "name": "stdout",
     "output_type": "stream",
     "text": [
      "Example 0 :  [   8.3252       41.            6.98412698    1.02380952  322.\n",
      "    2.55555556   37.88       -122.23      ]\n",
      "\n",
      "Label 0 :  4.526\n"
     ]
    }
   ],
   "source": [
    "X = housing.data\n",
    "Y = housing.target\n",
    "\n",
    "print(\"Example 0 : \",housing.data[0])\n",
    "print(\"\\nLabel 0 : \",housing.target[0])\n"
   ]
  },
  {
   "cell_type": "code",
   "execution_count": 6,
   "metadata": {},
   "outputs": [
    {
     "data": {
      "text/plain": [
       "4.526"
      ]
     },
     "execution_count": 6,
     "metadata": {},
     "output_type": "execute_result"
    }
   ],
   "source": [
    "Y[0]"
   ]
  },
  {
   "cell_type": "code",
   "execution_count": 7,
   "metadata": {},
   "outputs": [
    {
     "name": "stdout",
     "output_type": "stream",
     "text": [
      "<class 'pandas.core.frame.DataFrame'>\n",
      "RangeIndex: 20640 entries, 0 to 20639\n",
      "Data columns (total 9 columns):\n",
      " #   Column      Non-Null Count  Dtype  \n",
      "---  ------      --------------  -----  \n",
      " 0   MedInc      20640 non-null  float64\n",
      " 1   HouseAge    20640 non-null  float64\n",
      " 2   AveRooms    20640 non-null  float64\n",
      " 3   AveBedrms   20640 non-null  float64\n",
      " 4   Population  20640 non-null  float64\n",
      " 5   AveOccup    20640 non-null  float64\n",
      " 6   Latitude    20640 non-null  float64\n",
      " 7   Longitude   20640 non-null  float64\n",
      " 8   price       20640 non-null  float64\n",
      "dtypes: float64(9)\n",
      "memory usage: 1.4 MB\n",
      "Info : \n",
      " None\n"
     ]
    }
   ],
   "source": [
    "# Dataset to DataFrame\n",
    "df = pd.DataFrame(housing.data, columns=housing.feature_names)\n",
    "df[\"price\"] = pd.Series(housing.target)\n",
    "print(\"Info : \\n\",df.info())"
   ]
  },
  {
   "cell_type": "code",
   "execution_count": 8,
   "metadata": {},
   "outputs": [
    {
     "data": {
      "text/html": [
       "<div>\n",
       "<style scoped>\n",
       "    .dataframe tbody tr th:only-of-type {\n",
       "        vertical-align: middle;\n",
       "    }\n",
       "\n",
       "    .dataframe tbody tr th {\n",
       "        vertical-align: top;\n",
       "    }\n",
       "\n",
       "    .dataframe thead th {\n",
       "        text-align: right;\n",
       "    }\n",
       "</style>\n",
       "<table border=\"1\" class=\"dataframe\">\n",
       "  <thead>\n",
       "    <tr style=\"text-align: right;\">\n",
       "      <th></th>\n",
       "      <th>MedInc</th>\n",
       "      <th>HouseAge</th>\n",
       "      <th>AveRooms</th>\n",
       "      <th>AveBedrms</th>\n",
       "      <th>Population</th>\n",
       "      <th>AveOccup</th>\n",
       "      <th>Latitude</th>\n",
       "      <th>Longitude</th>\n",
       "      <th>price</th>\n",
       "    </tr>\n",
       "  </thead>\n",
       "  <tbody>\n",
       "    <tr>\n",
       "      <th>0</th>\n",
       "      <td>8.3252</td>\n",
       "      <td>41.0</td>\n",
       "      <td>6.984127</td>\n",
       "      <td>1.023810</td>\n",
       "      <td>322.0</td>\n",
       "      <td>2.555556</td>\n",
       "      <td>37.88</td>\n",
       "      <td>-122.23</td>\n",
       "      <td>4.526</td>\n",
       "    </tr>\n",
       "    <tr>\n",
       "      <th>1</th>\n",
       "      <td>8.3014</td>\n",
       "      <td>21.0</td>\n",
       "      <td>6.238137</td>\n",
       "      <td>0.971880</td>\n",
       "      <td>2401.0</td>\n",
       "      <td>2.109842</td>\n",
       "      <td>37.86</td>\n",
       "      <td>-122.22</td>\n",
       "      <td>3.585</td>\n",
       "    </tr>\n",
       "    <tr>\n",
       "      <th>2</th>\n",
       "      <td>7.2574</td>\n",
       "      <td>52.0</td>\n",
       "      <td>8.288136</td>\n",
       "      <td>1.073446</td>\n",
       "      <td>496.0</td>\n",
       "      <td>2.802260</td>\n",
       "      <td>37.85</td>\n",
       "      <td>-122.24</td>\n",
       "      <td>3.521</td>\n",
       "    </tr>\n",
       "    <tr>\n",
       "      <th>3</th>\n",
       "      <td>5.6431</td>\n",
       "      <td>52.0</td>\n",
       "      <td>5.817352</td>\n",
       "      <td>1.073059</td>\n",
       "      <td>558.0</td>\n",
       "      <td>2.547945</td>\n",
       "      <td>37.85</td>\n",
       "      <td>-122.25</td>\n",
       "      <td>3.413</td>\n",
       "    </tr>\n",
       "    <tr>\n",
       "      <th>4</th>\n",
       "      <td>3.8462</td>\n",
       "      <td>52.0</td>\n",
       "      <td>6.281853</td>\n",
       "      <td>1.081081</td>\n",
       "      <td>565.0</td>\n",
       "      <td>2.181467</td>\n",
       "      <td>37.85</td>\n",
       "      <td>-122.25</td>\n",
       "      <td>3.422</td>\n",
       "    </tr>\n",
       "  </tbody>\n",
       "</table>\n",
       "</div>"
      ],
      "text/plain": [
       "   MedInc  HouseAge  AveRooms  AveBedrms  Population  AveOccup  Latitude  \\\n",
       "0  8.3252      41.0  6.984127   1.023810       322.0  2.555556     37.88   \n",
       "1  8.3014      21.0  6.238137   0.971880      2401.0  2.109842     37.86   \n",
       "2  7.2574      52.0  8.288136   1.073446       496.0  2.802260     37.85   \n",
       "3  5.6431      52.0  5.817352   1.073059       558.0  2.547945     37.85   \n",
       "4  3.8462      52.0  6.281853   1.081081       565.0  2.181467     37.85   \n",
       "\n",
       "   Longitude  price  \n",
       "0    -122.23  4.526  \n",
       "1    -122.22  3.585  \n",
       "2    -122.24  3.521  \n",
       "3    -122.25  3.413  \n",
       "4    -122.25  3.422  "
      ]
     },
     "execution_count": 8,
     "metadata": {},
     "output_type": "execute_result"
    }
   ],
   "source": [
    "df.head()"
   ]
  },
  {
   "cell_type": "code",
   "execution_count": 9,
   "metadata": {
    "colab": {
     "base_uri": "https://localhost:8080/"
    },
    "id": "RdJs8fR5nWJw",
    "outputId": "7768d907-259b-425e-be21-1c78864284e2"
   },
   "outputs": [
    {
     "name": "stdout",
     "output_type": "stream",
     "text": [
      "number of duplicate rows :  (0, 9)\n"
     ]
    }
   ],
   "source": [
    "# Dropping the duplicate rows\n",
    "duplicate_rows = df[df.duplicated()]\n",
    "print(\"number of duplicate rows : \",duplicate_rows.shape)\n",
    "\n",
    "# df.drop_duplicates(inplace=True)"
   ]
  },
  {
   "cell_type": "code",
   "execution_count": 10,
   "metadata": {
    "colab": {
     "base_uri": "https://localhost:8080/",
     "height": 520
    },
    "id": "qAyz6h1WncKL",
    "outputId": "d6bba251-f6c2-4322-d9c6-4f8c905db6ac"
   },
   "outputs": [
    {
     "name": "stdout",
     "output_type": "stream",
     "text": [
      "SUM : \n",
      " MedInc        0\n",
      "HouseAge      0\n",
      "AveRooms      0\n",
      "AveBedrms     0\n",
      "Population    0\n",
      "AveOccup      0\n",
      "Latitude      0\n",
      "Longitude     0\n",
      "price         0\n",
      "dtype: int64\n"
     ]
    },
    {
     "data": {
      "text/plain": [
       "<matplotlib.axes._subplots.AxesSubplot at 0x2bb6df9d280>"
      ]
     },
     "execution_count": 10,
     "metadata": {},
     "output_type": "execute_result"
    },
    {
     "data": {
      "image/png": "[encoded data removed]",
      "text/plain": [
       "<Figure size 432x288 with 1 Axes>"
      ]
     },
     "metadata": {
      "needs_background": "light"
     },
     "output_type": "display_data"
    }
   ],
   "source": [
    "# To check missing values\n",
    "print(\"SUM : \\n\",df.isnull().sum())\n",
    "sns.heatmap(df.isnull(), cbar=False, yticklabels=False, cmap=\"viridis\")\n"
   ]
  },
  {
   "cell_type": "code",
   "execution_count": 11,
   "metadata": {},
   "outputs": [
    {
     "name": "stdout",
     "output_type": "stream",
     "text": [
      "X_data :  (20640, 8)  y_data :  (20640,)\n"
     ]
    }
   ],
   "source": [
    "X_data = df.drop([\"price\"], axis=1).values\n",
    "y_data = df[\"price\"].values\n",
    "print(\"X_data : \",X_data.shape,\" y_data : \",y_data.shape)"
   ]
  },
  {
   "cell_type": "code",
   "execution_count": 12,
   "metadata": {},
   "outputs": [],
   "source": [
    "# Standardization\n",
    "from sklearn.preprocessing import StandardScaler\n",
    "scaler = StandardScaler()\n",
    "scaler.fit(X_data)\n",
    "X_sts = scaler.transform(X_data)"
   ]
  },
  {
   "cell_type": "code",
   "execution_count": 78,
   "metadata": {
    "colab": {
     "base_uri": "https://localhost:8080/"
    },
    "id": "U8q7Bu5MrpC0",
    "outputId": "bc47cf65-dc49-43dd-f7cd-5543badb4d63"
   },
   "outputs": [
    {
     "name": "stdout",
     "output_type": "stream",
     "text": [
      "X_train  =  (14860, 8)  y_train =  (14860,)\n",
      "X_test   =  (4128, 8)  y_test =  (4128,)\n",
      "X_valid  =  (1652, 8)  y_valid =  (1652,)\n"
     ]
    }
   ],
   "source": [
    "# Split into Input and Output Elements\n",
    "from sklearn.model_selection import train_test_split\n",
    "\n",
    "X_train_full, X_test, y_train_full, y_test = train_test_split(X_sts, \n",
    "              y_data, test_size= 0.20, random_state=100)\n",
    "# Val set\n",
    "X_train, X_valid, y_train, y_valid = train_test_split(X_train_full, y_train_full\n",
    "                                                      , test_size= 0.10)\n",
    "\n",
    "print(\"X_train  = \",X_train.shape ,\" y_train = \", y_train.shape)\n",
    "print(\"X_test   = \",X_test.shape ,\" y_test = \", y_test.shape)\n",
    "print(\"X_valid  = \",X_valid.shape ,\" y_valid = \", y_valid.shape)\n"
   ]
  },
  {
   "cell_type": "code",
   "execution_count": 79,
   "metadata": {
    "colab": {
     "base_uri": "https://localhost:8080/"
    },
    "id": "Cs-2jSHQX2WU",
    "outputId": "fb525b2e-05b9-466b-cf72-431dabe6b13d"
   },
   "outputs": [
    {
     "name": "stdout",
     "output_type": "stream",
     "text": [
      "Model: \"sequential_6\"\n",
      "_________________________________________________________________\n",
      "Layer (type)                 Output Shape              Param #   \n",
      "=================================================================\n",
      "dense_21 (Dense)             (None, 64)                576       \n",
      "_________________________________________________________________\n",
      "dense_22 (Dense)             (None, 16)                1040      \n",
      "_________________________________________________________________\n",
      "dense_23 (Dense)             (None, 8)                 136       \n",
      "_________________________________________________________________\n",
      "dense_24 (Dense)             (None, 1)                 9         \n",
      "=================================================================\n",
      "Total params: 1,761\n",
      "Trainable params: 1,761\n",
      "Non-trainable params: 0\n",
      "_________________________________________________________________\n",
      "None\n"
     ]
    }
   ],
   "source": [
    "# Creating the model using the Sequential API\n",
    "model = keras.models.Sequential()\n",
    "model.add(keras.layers.Dense(100, activation=\"relu\", input_shape = X_train.shape[1:]))\n",
    "model.add(keras.layers.Dense(25, activation=\"relu\"))\n",
    "model.add(keras.layers.Dense(25, activation=\"relu\"))\n",
    "model.add(keras.layers.Dense(25, activation=\"relu\"))\n",
    "model.add(keras.layers.Dense(25, activation=\"relu\"))\n",
    "model.add(keras.layers.Dense(8, activation=\"relu\"))\n",
    "model.add(keras.layers.Dense(1, activation=\"relu\")) # price > 0, so, relu\n",
    "\n",
    "# The model’s summary() method displays all the model’s layers\n",
    "print(model.summary())\n"
   ]
  },
  {
   "cell_type": "code",
   "execution_count": 80,
   "metadata": {
    "colab": {
     "base_uri": "https://localhost:8080/"
    },
    "id": "VlAeg9XgYD-r",
    "outputId": "08688405-ffec-4ba0-dc6e-bb09034e7365"
   },
   "outputs": [
    {
     "name": "stdout",
     "output_type": "stream",
     "text": [
      "Epoch 1/100\n",
      "117/117 [==============================] - 1s 5ms/step - loss: 1.1459 - mse: 1.1459 - val_loss: 0.6139 - val_mse: 0.6139\n",
      "Epoch 2/100\n",
      "117/117 [==============================] - 1s 5ms/step - loss: 0.5438 - mse: 0.5438 - val_loss: 0.5261 - val_mse: 0.5261\n",
      "Epoch 3/100\n",
      "117/117 [==============================] - 1s 4ms/step - loss: 0.4809 - mse: 0.4809 - val_loss: 0.4985 - val_mse: 0.4985\n",
      "Epoch 4/100\n",
      "117/117 [==============================] - 1s 4ms/step - loss: 0.4505 - mse: 0.4505 - val_loss: 0.4621 - val_mse: 0.4621\n",
      "Epoch 5/100\n",
      "117/117 [==============================] - 1s 4ms/step - loss: 0.4333 - mse: 0.4333 - val_loss: 0.4891 - val_mse: 0.4891\n",
      "Epoch 6/100\n",
      "117/117 [==============================] - 1s 5ms/step - loss: 0.4216 - mse: 0.4216 - val_loss: 0.4305 - val_mse: 0.4305\n",
      "Epoch 7/100\n",
      "117/117 [==============================] - 1s 4ms/step - loss: 0.4118 - mse: 0.4118 - val_loss: 0.4912 - val_mse: 0.4912\n",
      "Epoch 8/100\n",
      "117/117 [==============================] - 1s 5ms/step - loss: 0.4064 - mse: 0.4064 - val_loss: 0.4202 - val_mse: 0.4202\n",
      "Epoch 9/100\n",
      "117/117 [==============================] - 1s 5ms/step - loss: 0.3989 - mse: 0.3989 - val_loss: 0.4198 - val_mse: 0.4198\n",
      "Epoch 10/100\n",
      "117/117 [==============================] - 1s 5ms/step - loss: 0.3942 - mse: 0.3942 - val_loss: 0.4223 - val_mse: 0.4223\n",
      "Epoch 11/100\n",
      "117/117 [==============================] - 1s 5ms/step - loss: 0.3891 - mse: 0.3891 - val_loss: 0.4913 - val_mse: 0.4913\n",
      "Epoch 12/100\n",
      "117/117 [==============================] - 1s 5ms/step - loss: 0.3861 - mse: 0.3861 - val_loss: 0.4446 - val_mse: 0.4446\n",
      "Epoch 13/100\n",
      "117/117 [==============================] - 1s 5ms/step - loss: 0.3805 - mse: 0.3805 - val_loss: 0.4192 - val_mse: 0.4192\n",
      "Epoch 14/100\n",
      "117/117 [==============================] - 1s 5ms/step - loss: 0.3778 - mse: 0.3778 - val_loss: 0.4367 - val_mse: 0.4367\n",
      "Epoch 15/100\n",
      "117/117 [==============================] - 1s 4ms/step - loss: 0.3742 - mse: 0.3742 - val_loss: 0.3975 - val_mse: 0.3975\n",
      "Epoch 16/100\n",
      "117/117 [==============================] - ETA: 0s - loss: 0.3724 - mse: 0.372 - 1s 5ms/step - loss: 0.3711 - mse: 0.3711 - val_loss: 0.4064 - val_mse: 0.4064\n",
      "Epoch 17/100\n",
      "117/117 [==============================] - 1s 5ms/step - loss: 0.3672 - mse: 0.3672 - val_loss: 0.3963 - val_mse: 0.3963\n",
      "Epoch 18/100\n",
      "117/117 [==============================] - 1s 4ms/step - loss: 0.3649 - mse: 0.3649 - val_loss: 0.4026 - val_mse: 0.4026\n",
      "Epoch 19/100\n",
      "117/117 [==============================] - 1s 4ms/step - loss: 0.3629 - mse: 0.3629 - val_loss: 0.4081 - val_mse: 0.4081\n",
      "Epoch 20/100\n",
      "117/117 [==============================] - 1s 4ms/step - loss: 0.3587 - mse: 0.3587 - val_loss: 0.3965 - val_mse: 0.3965\n",
      "Epoch 21/100\n",
      "117/117 [==============================] - 1s 4ms/step - loss: 0.3571 - mse: 0.3571 - val_loss: 0.3823 - val_mse: 0.3823\n",
      "Epoch 22/100\n",
      "117/117 [==============================] - 1s 5ms/step - loss: 0.3550 - mse: 0.3550 - val_loss: 0.4162 - val_mse: 0.4162\n",
      "Epoch 23/100\n",
      "117/117 [==============================] - 1s 5ms/step - loss: 0.3527 - mse: 0.3527 - val_loss: 0.3759 - val_mse: 0.3759\n",
      "Epoch 24/100\n",
      "117/117 [==============================] - 1s 4ms/step - loss: 0.3501 - mse: 0.3501 - val_loss: 0.4632 - val_mse: 0.4632\n",
      "Epoch 25/100\n",
      "117/117 [==============================] - 1s 5ms/step - loss: 0.3494 - mse: 0.3494 - val_loss: 0.4789 - val_mse: 0.4789\n",
      "Epoch 26/100\n",
      "117/117 [==============================] - 1s 5ms/step - loss: 0.3484 - mse: 0.3484 - val_loss: 0.4043 - val_mse: 0.4043\n",
      "Epoch 27/100\n",
      "117/117 [==============================] - 1s 5ms/step - loss: 0.3447 - mse: 0.3447 - val_loss: 0.4060 - val_mse: 0.4060\n",
      "Epoch 28/100\n",
      "117/117 [==============================] - 1s 5ms/step - loss: 0.3443 - mse: 0.3443 - val_loss: 0.4272 - val_mse: 0.4272\n",
      "Epoch 29/100\n",
      "117/117 [==============================] - 1s 5ms/step - loss: 0.3426 - mse: 0.3426 - val_loss: 0.3733 - val_mse: 0.3733\n",
      "Epoch 30/100\n",
      "117/117 [==============================] - 1s 5ms/step - loss: 0.3396 - mse: 0.3396 - val_loss: 0.3901 - val_mse: 0.3901\n",
      "Epoch 31/100\n",
      "117/117 [==============================] - 1s 5ms/step - loss: 0.3378 - mse: 0.3378 - val_loss: 0.3858 - val_mse: 0.3858\n",
      "Epoch 32/100\n",
      "117/117 [==============================] - 1s 4ms/step - loss: 0.3376 - mse: 0.3376 - val_loss: 0.4124 - val_mse: 0.4124\n",
      "Epoch 33/100\n",
      "117/117 [==============================] - 1s 5ms/step - loss: 0.3359 - mse: 0.3359 - val_loss: 0.3635 - val_mse: 0.3635\n",
      "Epoch 34/100\n",
      "117/117 [==============================] - 1s 5ms/step - loss: 0.3345 - mse: 0.3345 - val_loss: 0.3698 - val_mse: 0.3698\n",
      "Epoch 35/100\n",
      "117/117 [==============================] - 1s 5ms/step - loss: 0.3336 - mse: 0.3336 - val_loss: 0.3593 - val_mse: 0.3593\n",
      "Epoch 36/100\n",
      "117/117 [==============================] - 1s 5ms/step - loss: 0.3308 - mse: 0.3308 - val_loss: 0.3723 - val_mse: 0.3723\n",
      "Epoch 37/100\n",
      "117/117 [==============================] - 1s 5ms/step - loss: 0.3295 - mse: 0.3295 - val_loss: 0.3671 - val_mse: 0.3671\n",
      "Epoch 38/100\n",
      "117/117 [==============================] - 1s 5ms/step - loss: 0.3271 - mse: 0.3271 - val_loss: 0.3676 - val_mse: 0.3676\n",
      "Epoch 39/100\n",
      "117/117 [==============================] - 1s 5ms/step - loss: 0.3266 - mse: 0.3266 - val_loss: 0.3754 - val_mse: 0.3754\n",
      "Epoch 40/100\n",
      "117/117 [==============================] - 1s 4ms/step - loss: 0.3257 - mse: 0.3257 - val_loss: 0.3936 - val_mse: 0.3936\n",
      "Epoch 41/100\n",
      "117/117 [==============================] - 1s 4ms/step - loss: 0.3230 - mse: 0.3230 - val_loss: 0.4222 - val_mse: 0.4222\n",
      "Epoch 42/100\n",
      "117/117 [==============================] - 1s 5ms/step - loss: 0.3228 - mse: 0.3228 - val_loss: 0.3745 - val_mse: 0.3745\n",
      "Epoch 43/100\n",
      "117/117 [==============================] - 1s 4ms/step - loss: 0.3197 - mse: 0.3197 - val_loss: 0.3627 - val_mse: 0.3627\n",
      "Epoch 44/100\n",
      "117/117 [==============================] - 0s 4ms/step - loss: 0.3188 - mse: 0.3188 - val_loss: 0.3590 - val_mse: 0.3590\n",
      "Epoch 45/100\n",
      "117/117 [==============================] - 1s 4ms/step - loss: 0.3178 - mse: 0.3178 - val_loss: 0.3597 - val_mse: 0.3597\n",
      "Epoch 46/100\n",
      "117/117 [==============================] - 1s 4ms/step - loss: 0.3165 - mse: 0.3165 - val_loss: 0.3469 - val_mse: 0.3469\n",
      "Epoch 47/100\n",
      "117/117 [==============================] - 1s 4ms/step - loss: 0.3155 - mse: 0.3155 - val_loss: 0.3798 - val_mse: 0.3798\n",
      "Epoch 48/100\n",
      "117/117 [==============================] - 1s 4ms/step - loss: 0.3146 - mse: 0.3146 - val_loss: 0.4874 - val_mse: 0.4874\n",
      "Epoch 49/100\n",
      "117/117 [==============================] - 1s 4ms/step - loss: 0.3121 - mse: 0.3121 - val_loss: 0.3721 - val_mse: 0.3721\n",
      "Epoch 50/100\n",
      "117/117 [==============================] - 1s 5ms/step - loss: 0.3114 - mse: 0.3114 - val_loss: 0.4213 - val_mse: 0.4213\n",
      "Epoch 51/100\n",
      "117/117 [==============================] - 1s 4ms/step - loss: 0.3108 - mse: 0.3108 - val_loss: 0.3952 - val_mse: 0.3952\n",
      "Epoch 52/100\n",
      "117/117 [==============================] - 1s 4ms/step - loss: 0.3094 - mse: 0.3094 - val_loss: 0.3508 - val_mse: 0.3508\n",
      "Epoch 53/100\n",
      "117/117 [==============================] - 1s 4ms/step - loss: 0.3079 - mse: 0.3079 - val_loss: 0.3502 - val_mse: 0.3502\n",
      "Epoch 54/100\n",
      "117/117 [==============================] - 1s 4ms/step - loss: 0.3083 - mse: 0.3083 - val_loss: 0.5170 - val_mse: 0.5170\n",
      "Epoch 55/100\n",
      "117/117 [==============================] - 1s 4ms/step - loss: 0.3242 - mse: 0.3242 - val_loss: 0.4136 - val_mse: 0.4136\n",
      "Epoch 56/100\n",
      "117/117 [==============================] - 1s 4ms/step - loss: 0.3059 - mse: 0.3059 - val_loss: 0.5225 - val_mse: 0.5225\n",
      "Epoch 57/100\n",
      "117/117 [==============================] - 1s 4ms/step - loss: 0.3068 - mse: 0.3068 - val_loss: 0.3561 - val_mse: 0.3561\n",
      "Epoch 58/100\n",
      "117/117 [==============================] - 1s 4ms/step - loss: 0.3033 - mse: 0.3033 - val_loss: 0.3629 - val_mse: 0.3629\n",
      "Epoch 59/100\n",
      "117/117 [==============================] - 1s 4ms/step - loss: 0.3016 - mse: 0.3016 - val_loss: 0.4498 - val_mse: 0.4498\n",
      "Epoch 60/100\n",
      "117/117 [==============================] - 1s 4ms/step - loss: 0.3041 - mse: 0.3041 - val_loss: 0.3374 - val_mse: 0.3374\n",
      "Epoch 61/100\n",
      "117/117 [==============================] - 1s 4ms/step - loss: 0.3013 - mse: 0.3013 - val_loss: 0.3572 - val_mse: 0.3572\n"
     ]
    },
    {
     "name": "stdout",
     "output_type": "stream",
     "text": [
      "Epoch 62/100\n",
      "117/117 [==============================] - 1s 4ms/step - loss: 0.2991 - mse: 0.2991 - val_loss: 0.3418 - val_mse: 0.3418\n",
      "Epoch 63/100\n",
      "117/117 [==============================] - 1s 4ms/step - loss: 0.2979 - mse: 0.2979 - val_loss: 0.3872 - val_mse: 0.3872\n",
      "Epoch 64/100\n",
      "117/117 [==============================] - 1s 4ms/step - loss: 0.2965 - mse: 0.2965 - val_loss: 0.3447 - val_mse: 0.3447\n",
      "Epoch 65/100\n",
      "117/117 [==============================] - 1s 4ms/step - loss: 0.2965 - mse: 0.2965 - val_loss: 0.4668 - val_mse: 0.4668\n",
      "Epoch 66/100\n",
      "117/117 [==============================] - 1s 4ms/step - loss: 0.2977 - mse: 0.2977 - val_loss: 0.4404 - val_mse: 0.4404\n",
      "Epoch 67/100\n",
      "117/117 [==============================] - 1s 5ms/step - loss: 0.2963 - mse: 0.2963 - val_loss: 0.3421 - val_mse: 0.3421\n",
      "Epoch 68/100\n",
      "117/117 [==============================] - 1s 4ms/step - loss: 0.2939 - mse: 0.2939 - val_loss: 0.3341 - val_mse: 0.3341\n",
      "Epoch 69/100\n",
      "117/117 [==============================] - 1s 4ms/step - loss: 0.2937 - mse: 0.2937 - val_loss: 0.3486 - val_mse: 0.3486\n",
      "Epoch 70/100\n",
      "117/117 [==============================] - 1s 4ms/step - loss: 0.2931 - mse: 0.2931 - val_loss: 0.4178 - val_mse: 0.4178\n",
      "Epoch 71/100\n",
      "117/117 [==============================] - 1s 4ms/step - loss: 0.2940 - mse: 0.2940 - val_loss: 0.3371 - val_mse: 0.3371\n",
      "Epoch 72/100\n",
      "117/117 [==============================] - 1s 4ms/step - loss: 0.2922 - mse: 0.2922 - val_loss: 0.3364 - val_mse: 0.3364\n",
      "Epoch 73/100\n",
      "117/117 [==============================] - 1s 4ms/step - loss: 0.2916 - mse: 0.2916 - val_loss: 0.3299 - val_mse: 0.3299\n",
      "Epoch 74/100\n",
      "117/117 [==============================] - 1s 4ms/step - loss: 0.2897 - mse: 0.2897 - val_loss: 0.3388 - val_mse: 0.3388\n",
      "Epoch 75/100\n",
      "117/117 [==============================] - 1s 4ms/step - loss: 0.2988 - mse: 0.2988 - val_loss: 0.4059 - val_mse: 0.4059\n",
      "Epoch 76/100\n",
      "117/117 [==============================] - 1s 4ms/step - loss: 0.2903 - mse: 0.2903 - val_loss: 0.3541 - val_mse: 0.3541\n",
      "Epoch 77/100\n",
      "117/117 [==============================] - 1s 4ms/step - loss: 0.2907 - mse: 0.2907 - val_loss: 0.3898 - val_mse: 0.3898\n",
      "Epoch 78/100\n",
      "117/117 [==============================] - 1s 4ms/step - loss: 0.2903 - mse: 0.2903 - val_loss: 0.3334 - val_mse: 0.3334\n",
      "Epoch 79/100\n",
      "117/117 [==============================] - 1s 4ms/step - loss: 0.2873 - mse: 0.2873 - val_loss: 0.4047 - val_mse: 0.4047\n",
      "Epoch 80/100\n",
      "117/117 [==============================] - 1s 4ms/step - loss: 0.2898 - mse: 0.2898 - val_loss: 0.4170 - val_mse: 0.4170\n",
      "Epoch 81/100\n",
      "117/117 [==============================] - 1s 4ms/step - loss: 0.2881 - mse: 0.2881 - val_loss: 0.5635 - val_mse: 0.5635\n",
      "Epoch 82/100\n",
      "117/117 [==============================] - 1s 4ms/step - loss: 0.2928 - mse: 0.2928 - val_loss: 0.3807 - val_mse: 0.3807\n",
      "Epoch 83/100\n",
      "117/117 [==============================] - 1s 4ms/step - loss: 0.2902 - mse: 0.2902 - val_loss: 0.3389 - val_mse: 0.3389\n",
      "Epoch 84/100\n",
      "117/117 [==============================] - 1s 4ms/step - loss: 0.2866 - mse: 0.2866 - val_loss: 0.3640 - val_mse: 0.3640\n",
      "Epoch 85/100\n",
      "117/117 [==============================] - 1s 4ms/step - loss: 0.2851 - mse: 0.2851 - val_loss: 0.4115 - val_mse: 0.4115\n",
      "Epoch 86/100\n",
      "117/117 [==============================] - 1s 4ms/step - loss: 0.2854 - mse: 0.2854 - val_loss: 0.3251 - val_mse: 0.3251\n",
      "Epoch 87/100\n",
      "117/117 [==============================] - 1s 4ms/step - loss: 0.2857 - mse: 0.2857 - val_loss: 0.3514 - val_mse: 0.3514\n",
      "Epoch 88/100\n",
      "117/117 [==============================] - 1s 4ms/step - loss: 0.2843 - mse: 0.2843 - val_loss: 0.3724 - val_mse: 0.3724\n",
      "Epoch 89/100\n",
      "117/117 [==============================] - 1s 4ms/step - loss: 0.2865 - mse: 0.2865 - val_loss: 0.3729 - val_mse: 0.3729\n",
      "Epoch 90/100\n",
      "117/117 [==============================] - 0s 4ms/step - loss: 0.2840 - mse: 0.2840 - val_loss: 0.3296 - val_mse: 0.3296\n",
      "Epoch 91/100\n",
      "117/117 [==============================] - 1s 4ms/step - loss: 0.2849 - mse: 0.2849 - val_loss: 0.4142 - val_mse: 0.4142\n",
      "Epoch 92/100\n",
      "117/117 [==============================] - 1s 5ms/step - loss: 0.2853 - mse: 0.2853 - val_loss: 0.3651 - val_mse: 0.3651\n",
      "Epoch 93/100\n",
      "117/117 [==============================] - 1s 5ms/step - loss: 0.2824 - mse: 0.2824 - val_loss: 0.3854 - val_mse: 0.3854\n",
      "Epoch 94/100\n",
      "117/117 [==============================] - 1s 5ms/step - loss: 0.2839 - mse: 0.2839 - val_loss: 0.4219 - val_mse: 0.4219\n",
      "Epoch 95/100\n",
      "117/117 [==============================] - 1s 4ms/step - loss: 0.2826 - mse: 0.2826 - val_loss: 0.3844 - val_mse: 0.3844\n",
      "Epoch 96/100\n",
      "117/117 [==============================] - 1s 4ms/step - loss: 0.2816 - mse: 0.2816 - val_loss: 0.3257 - val_mse: 0.3257\n",
      "Epoch 97/100\n",
      "117/117 [==============================] - 1s 4ms/step - loss: 0.2814 - mse: 0.2814 - val_loss: 0.3479 - val_mse: 0.3479\n",
      "Epoch 98/100\n",
      "117/117 [==============================] - 1s 4ms/step - loss: 0.2824 - mse: 0.2824 - val_loss: 0.5754 - val_mse: 0.5754\n",
      "Epoch 99/100\n",
      "117/117 [==============================] - 1s 4ms/step - loss: 0.2855 - mse: 0.2855 - val_loss: 0.3326 - val_mse: 0.3326\n",
      "Epoch 100/100\n",
      "117/117 [==============================] - 1s 4ms/step - loss: 0.2806 - mse: 0.2806 - val_loss: 0.4067 - val_mse: 0.4067\n"
     ]
    }
   ],
   "source": [
    "# Compiling the model\n",
    "# https://keras.io/models/sequential/\n",
    "model.compile(loss=\"mean_squared_error\", optimizer=\"sgd\", metrics=[\"mse\"])\n",
    "\n",
    "# Training and evaluating the model\n",
    "history = model.fit(X_train, y_train, epochs=100, batch_size=128, validation_data=(X_valid, y_valid))\n",
    "# history = model.fit(X_train, y_train, epochs=30, batch_size=128, validation_split=0.2)\n"
   ]
  },
  {
   "cell_type": "code",
   "execution_count": 81,
   "metadata": {
    "colab": {
     "base_uri": "https://localhost:8080/",
     "height": 557
    },
    "id": "eUrPtpjbTgPQ",
    "outputId": "51c620c0-cf11-4ba2-f6c1-c8041313331a"
   },
   "outputs": [
    {
     "data": {
      "image/png": "[encoded data removed]",
      "text/plain": [
       "<Figure size 864x576 with 1 Axes>"
      ]
     },
     "metadata": {
      "needs_background": "light"
     },
     "output_type": "display_data"
    },
    {
     "name": "stdout",
     "output_type": "stream",
     "text": [
      "-----------------------------------------------------------------------\n",
      "129/129 [==============================] - 0s 2ms/step - loss: 0.3796 - mse: 0.3796\n",
      "Loss                   :  0.3795671761035919\n",
      "Mean Squared Error     :  0.3795671761035919\n"
     ]
    }
   ],
   "source": [
    "# plot the learning curves\n",
    "import pandas as pd\n",
    "import matplotlib.pyplot as plt\n",
    "pd.DataFrame(history.history).plot(figsize=(12, 8))\n",
    "plt.grid(True)\n",
    "plt.gca().set_ylim(0, 1) # set the vertical range to [0-1]\n",
    "plt.show()\n",
    "\n",
    "print(\"-----------------------------------------------------------------------\")\n",
    "# Evaluate the model\n",
    "model_evaluate = model.evaluate(X_test, y_test)\n",
    "print(\"Loss                   : \",model_evaluate[0])\n",
    "print(\"Mean Squared Error     : \",model_evaluate[1])\n"
   ]
  },
  {
   "cell_type": "code",
   "execution_count": 82,
   "metadata": {
    "colab": {
     "base_uri": "https://localhost:8080/",
     "height": 1000
    },
    "id": "1wnnS6UaXV3b",
    "outputId": "eae1b3c1-802e-43e3-dbff-e3c31df72ba8"
   },
   "outputs": [
    {
     "name": "stdout",
     "output_type": "stream",
     "text": [
      "Mean Absolute Error    :  0.41544641093367757\n",
      "Mean Squared Error     :  0.3795671028723681\n",
      "Root Mean Squared Error:  0.6160901743027299\n",
      "r2_score               :  0.718296069600421\n",
      "-----------------------------------------------------------------------\n",
      "    Actual  Predicted\n",
      "0    2.453   2.506480\n",
      "1    1.042   1.195765\n",
      "2    1.462   1.615374\n",
      "3    1.542   1.027607\n",
      "4    3.242   1.888590\n",
      "5    1.411   1.435939\n",
      "6    2.273   1.869372\n",
      "7    2.023   2.119568\n",
      "8    1.702   0.911963\n",
      "9    3.018   3.012913\n",
      "10   1.522   1.554221\n",
      "11   3.081   3.140719\n",
      "12   4.850   4.073991\n",
      "13   1.625   1.672272\n",
      "14   2.250   2.651540\n",
      "-----------------------------------------------------------------------\n"
     ]
    }
   ],
   "source": [
    "# Comparison of the actual results with the predicted results\n",
    "predicted = model.predict(X_test)\n",
    "\n",
    "# Model evaluation\n",
    "print(\"Mean Absolute Error    : \", metrics.mean_absolute_error(y_test, predicted))  \n",
    "print(\"Mean Squared Error     : \", metrics.mean_squared_error(y_test, predicted))  \n",
    "print(\"Root Mean Squared Error: \", np.sqrt(metrics.mean_squared_error(y_test, predicted)))\n",
    "print(\"r2_score               : \", metrics.r2_score(y_test, predicted))\n",
    "\n",
    "print(\"-----------------------------------------------------------------------\")\n",
    "df_data = pd.DataFrame({\"Actual\": y_test.flatten(), \"Predicted\": predicted.flatten()})\n",
    "print(df_data.head(15))\n",
    "print(\"-----------------------------------------------------------------------\")"
   ]
  },
  {
   "cell_type": "code",
   "execution_count": null,
   "metadata": {},
   "outputs": [],
   "source": []
  }
 ],
 "metadata": {
  "accelerator": "GPU",
  "colab": {
   "collapsed_sections": [
    "NdoGNlZTTYUa",
    "hu5wtVsc5AIy",
    "9QygCjekayQ8",
    "qm2UojF4MQtr",
    "lqe4mIAzjNZb",
    "3DLYVxBy0Bjy"
   ],
   "name": "TF_NN.ipynb",
   "provenance": []
  },
  "kernelspec": {
   "display_name": "Python 3 (ipykernel)",
   "language": "python",
   "name": "python3"
  },
  "language_info": {
   "codemirror_mode": {
    "name": "ipython",
    "version": 3
   },
   "file_extension": ".py",
   "mimetype": "text/x-python",
   "name": "python",
   "nbconvert_exporter": "python",
   "pygments_lexer": "ipython3",
   "version": "3.8.8"
  }
 },
 "nbformat": 4,
 "nbformat_minor": 1
}
