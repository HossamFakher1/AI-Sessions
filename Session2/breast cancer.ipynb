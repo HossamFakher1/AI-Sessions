{
 "cells": [
  {
   "cell_type": "markdown",
   "metadata": {
    "id": "3DLYVxBy0Bjy"
   },
   "source": [
    "# Complete this project"
   ]
  },
  {
   "cell_type": "code",
   "execution_count": 1,
   "metadata": {
    "colab": {
     "base_uri": "https://localhost:8080/"
    },
    "id": "2vsT4zCK0rAL",
    "outputId": "381928e1-1b9a-4af8-a792-24e81eb639f1"
   },
   "outputs": [],
   "source": [
    "# Building a Regression MLP Using the Sequential API\n",
    "import tensorflow as tf\n",
    "from tensorflow import keras\n",
    "import numpy as np \n",
    "import pandas as pd \n",
    "import matplotlib.pyplot as plt\n",
    "import seaborn as sns\n",
    "\n",
    "from sklearn.datasets import load_breast_cancer\n",
    "from sklearn.model_selection import train_test_split\n",
    "from sklearn.preprocessing import StandardScaler\n",
    "from sklearn import metrics"
   ]
  },
  {
   "cell_type": "code",
   "execution_count": 2,
   "metadata": {},
   "outputs": [
    {
     "name": "stdout",
     "output_type": "stream",
     "text": [
      "Examples =  (569, 30)  Labels =  (569,)\n",
      "-----------------------------------------------------------------------\n",
      "Example 0 : \n",
      " [1.799e+01 1.038e+01 1.228e+02 1.001e+03 1.184e-01 2.776e-01 3.001e-01\n",
      " 1.471e-01 2.419e-01 7.871e-02 1.095e+00 9.053e-01 8.589e+00 1.534e+02\n",
      " 6.399e-03 4.904e-02 5.373e-02 1.587e-02 3.003e-02 6.193e-03 2.538e+01\n",
      " 1.733e+01 1.846e+02 2.019e+03 1.622e-01 6.656e-01 7.119e-01 2.654e-01\n",
      " 4.601e-01 1.189e-01] \n",
      "Label 0 : \n",
      " 0\n",
      "-----------------------------------------------------------------------\n",
      "<class 'pandas.core.frame.DataFrame'>\n",
      "RangeIndex: 569 entries, 0 to 568\n",
      "Data columns (total 31 columns):\n",
      " #   Column                   Non-Null Count  Dtype  \n",
      "---  ------                   --------------  -----  \n",
      " 0   mean radius              569 non-null    float64\n",
      " 1   mean texture             569 non-null    float64\n",
      " 2   mean perimeter           569 non-null    float64\n",
      " 3   mean area                569 non-null    float64\n",
      " 4   mean smoothness          569 non-null    float64\n",
      " 5   mean compactness         569 non-null    float64\n",
      " 6   mean concavity           569 non-null    float64\n",
      " 7   mean concave points      569 non-null    float64\n",
      " 8   mean symmetry            569 non-null    float64\n",
      " 9   mean fractal dimension   569 non-null    float64\n",
      " 10  radius error             569 non-null    float64\n",
      " 11  texture error            569 non-null    float64\n",
      " 12  perimeter error          569 non-null    float64\n",
      " 13  area error               569 non-null    float64\n",
      " 14  smoothness error         569 non-null    float64\n",
      " 15  compactness error        569 non-null    float64\n",
      " 16  concavity error          569 non-null    float64\n",
      " 17  concave points error     569 non-null    float64\n",
      " 18  symmetry error           569 non-null    float64\n",
      " 19  fractal dimension error  569 non-null    float64\n",
      " 20  worst radius             569 non-null    float64\n",
      " 21  worst texture            569 non-null    float64\n",
      " 22  worst perimeter          569 non-null    float64\n",
      " 23  worst area               569 non-null    float64\n",
      " 24  worst smoothness         569 non-null    float64\n",
      " 25  worst compactness        569 non-null    float64\n",
      " 26  worst concavity          569 non-null    float64\n",
      " 27  worst concave points     569 non-null    float64\n",
      " 28  worst symmetry           569 non-null    float64\n",
      " 29  worst fractal dimension  569 non-null    float64\n",
      " 30  diagnosis                569 non-null    int32  \n",
      "dtypes: float64(30), int32(1)\n",
      "memory usage: 135.7 KB\n",
      "Info : \n",
      " None\n"
     ]
    }
   ],
   "source": [
    "# The Breast Cancer Dataset\n",
    "data = load_breast_cancer()\n",
    "print(\"Examples = \",data.data.shape ,\" Labels = \", data.target.shape)\n",
    "\n",
    "print(\"-----------------------------------------------------------------------\")\n",
    "print(\"Example 0 : \\n\",data.data[0],\"\\nLabel 0 : \\n\",data.target[0])\n",
    "\n",
    "print(\"-----------------------------------------------------------------------\")\n",
    "# Dataset to DataFrame\n",
    "df = pd.DataFrame(data.data, columns=data.feature_names)\n",
    "df[\"diagnosis\"] = pd.Series(data.target)\n",
    "print(\"Info : \\n\",df.info())\n"
   ]
  },
  {
   "cell_type": "code",
   "execution_count": 3,
   "metadata": {
    "colab": {
     "base_uri": "https://localhost:8080/",
     "height": 451
    },
    "id": "8ayQAqiU2JUX",
    "outputId": "2c9a5622-4aa5-4e59-dac7-6c556bc8d715"
   },
   "outputs": [
    {
     "name": "stdout",
     "output_type": "stream",
     "text": [
      "diagnosis        : \n",
      " 1    357\n",
      "0    212\n",
      "Name: diagnosis, dtype: int64\n",
      "\n",
      "\n",
      "1    0.627417\n",
      "0    0.372583\n",
      "Name: diagnosis, dtype: float64\n"
     ]
    },
    {
     "data": {
      "text/plain": [
       "<matplotlib.axes._subplots.AxesSubplot at 0x292e1da5d60>"
      ]
     },
     "execution_count": 3,
     "metadata": {},
     "output_type": "execute_result"
    },
    {
     "data": {
      "image/png": "[encoded data removed]",
      "text/plain": [
       "<Figure size 432x288 with 1 Axes>"
      ]
     },
     "metadata": {
      "needs_background": "light"
     },
     "output_type": "display_data"
    }
   ],
   "source": [
    "# Lets know how many values for malignant and for benign type of cancer\n",
    "print(\"diagnosis        : \\n\",df[\"diagnosis\"].value_counts())\n",
    "print(\"\\n\")\n",
    "print(df[\"diagnosis\"].value_counts(normalize=True))\n",
    "\n",
    "# plot.bar(title='') function is used to plot bargraph \n",
    "df[\"diagnosis\"].value_counts().plot.bar(title=\"diagnosis\")\n"
   ]
  },
  {
   "cell_type": "code",
   "execution_count": 4,
   "metadata": {
    "colab": {
     "base_uri": "https://localhost:8080/"
    },
    "id": "xjL4bqx_2UfM",
    "outputId": "364d055e-7d0f-4cd9-93d7-1c573194a7d1"
   },
   "outputs": [
    {
     "name": "stdout",
     "output_type": "stream",
     "text": [
      "Number of duplicate rows :  (0, 31)\n"
     ]
    }
   ],
   "source": [
    "# Dropping the duplicate rows\n",
    "duplicate_rows = df[df.duplicated()]\n",
    "print(\"Number of duplicate rows : \",duplicate_rows.shape)\n",
    "\n",
    "# df.drop_duplicates(inplace=True)"
   ]
  },
  {
   "cell_type": "code",
   "execution_count": 5,
   "metadata": {
    "colab": {
     "base_uri": "https://localhost:8080/",
     "height": 964
    },
    "id": "hkPsr7xf2aVI",
    "outputId": "0bf9fbb3-818d-40fa-9e03-ecc235dbe7ea"
   },
   "outputs": [
    {
     "name": "stdout",
     "output_type": "stream",
     "text": [
      "SUM : \n",
      " mean radius                0\n",
      "mean texture               0\n",
      "mean perimeter             0\n",
      "mean area                  0\n",
      "mean smoothness            0\n",
      "mean compactness           0\n",
      "mean concavity             0\n",
      "mean concave points        0\n",
      "mean symmetry              0\n",
      "mean fractal dimension     0\n",
      "radius error               0\n",
      "texture error              0\n",
      "perimeter error            0\n",
      "area error                 0\n",
      "smoothness error           0\n",
      "compactness error          0\n",
      "concavity error            0\n",
      "concave points error       0\n",
      "symmetry error             0\n",
      "fractal dimension error    0\n",
      "worst radius               0\n",
      "worst texture              0\n",
      "worst perimeter            0\n",
      "worst area                 0\n",
      "worst smoothness           0\n",
      "worst compactness          0\n",
      "worst concavity            0\n",
      "worst concave points       0\n",
      "worst symmetry             0\n",
      "worst fractal dimension    0\n",
      "diagnosis                  0\n",
      "dtype: int64\n"
     ]
    },
    {
     "data": {
      "text/plain": [
       "<matplotlib.axes._subplots.AxesSubplot at 0x292e3e8bd60>"
      ]
     },
     "execution_count": 5,
     "metadata": {},
     "output_type": "execute_result"
    },
    {
     "data": {
      "image/png": "[encoded data removed]",
      "text/plain": [
       "<Figure size 432x288 with 1 Axes>"
      ]
     },
     "metadata": {
      "needs_background": "light"
     },
     "output_type": "display_data"
    }
   ],
   "source": [
    "# To check missing values\n",
    "print(\"SUM : \\n\",df.isnull().sum())\n",
    "sns.heatmap(df.isnull(), cbar=False, yticklabels=False, cmap=\"viridis\")\n",
    "\n",
    "# df[\"col\"] = df[\"col\"].fillna(df[\"col\"].mean())\n",
    "# df[\"col\"] = df[\"col\"].fillna(df[\"col\"].interpolate())"
   ]
  },
  {
   "cell_type": "code",
   "execution_count": 6,
   "metadata": {
    "colab": {
     "base_uri": "https://localhost:8080/"
    },
    "id": "twFTBZkA3TTh",
    "outputId": "492a9312-94aa-4bda-86f4-a0236e51dc17"
   },
   "outputs": [
    {
     "name": "stdout",
     "output_type": "stream",
     "text": [
      "X :  (569, 30)  y :  (569,)\n",
      "X_train =  (455, 30)  y_train =  (455,)\n",
      "X_test  =  (114, 30)  y_test  =  (114,)\n"
     ]
    }
   ],
   "source": [
    "# Define X variables and our target(y)\n",
    "X = df.drop([\"diagnosis\"],axis=1).values\n",
    "y = df[\"diagnosis\"].values\n",
    "print(\"X : \",X.shape,\" y : \",y.shape)\n",
    "\n",
    "# Standardization\n",
    "from sklearn.preprocessing import StandardScaler\n",
    "my_scaler = StandardScaler()\n",
    "my_scaler.fit(X)\n",
    "X_scaler = my_scaler.transform(X)\n",
    "\n",
    "# Split into Input and Output Elements\n",
    "from sklearn.model_selection import train_test_split\n",
    "X_train, X_test, y_train, y_test = train_test_split(X_scaler, \n",
    "                       y, test_size= 0.20, random_state=100, stratify=y)\n",
    "\n",
    "print(\"X_train = \",X_train.shape ,\" y_train = \", y_train.shape)\n",
    "print(\"X_test  = \",X_test.shape ,\" y_test  = \", y_test.shape)\n"
   ]
  },
  {
   "cell_type": "code",
   "execution_count": 7,
   "metadata": {
    "id": "xhy9rhx13gPx"
   },
   "outputs": [],
   "source": [
    "# Define the model\n",
    "model = keras.Sequential()\n",
    "model.add(keras.layers.Dense(32,  activation=\"relu\", input_shape = X_train.shape[1:]))\n",
    "model.add(keras.layers.Dense(16, activation=\"relu\"))\n",
    "model.add(keras.layers.Dense(1, activation=\"sigmoid\"))\n",
    "\n"
   ]
  },
  {
   "cell_type": "code",
   "execution_count": 8,
   "metadata": {
    "id": "OL3S7Pc43uf_"
   },
   "outputs": [
    {
     "name": "stdout",
     "output_type": "stream",
     "text": [
      "Epoch 1/100\n",
      "6/6 [==============================] - 1s 31ms/step - loss: 0.9361 - binary_accuracy: 0.2390 - val_loss: 0.8114 - val_binary_accuracy: 0.4176\n",
      "Epoch 2/100\n",
      "6/6 [==============================] - 0s 10ms/step - loss: 0.7361 - binary_accuracy: 0.4918 - val_loss: 0.6406 - val_binary_accuracy: 0.6484\n",
      "Epoch 3/100\n",
      "6/6 [==============================] - 0s 9ms/step - loss: 0.5919 - binary_accuracy: 0.6841 - val_loss: 0.5229 - val_binary_accuracy: 0.8242\n",
      "Epoch 4/100\n",
      "6/6 [==============================] - 0s 10ms/step - loss: 0.4941 - binary_accuracy: 0.8159 - val_loss: 0.4449 - val_binary_accuracy: 0.8791\n",
      "Epoch 5/100\n",
      "6/6 [==============================] - 0s 10ms/step - loss: 0.4268 - binary_accuracy: 0.8956 - val_loss: 0.3896 - val_binary_accuracy: 0.8791\n",
      "Epoch 6/100\n",
      "6/6 [==============================] - 0s 9ms/step - loss: 0.3758 - binary_accuracy: 0.9313 - val_loss: 0.3452 - val_binary_accuracy: 0.9231\n",
      "Epoch 7/100\n",
      "6/6 [==============================] - 0s 9ms/step - loss: 0.3331 - binary_accuracy: 0.9478 - val_loss: 0.3075 - val_binary_accuracy: 0.9341\n",
      "Epoch 8/100\n",
      "6/6 [==============================] - 0s 9ms/step - loss: 0.2948 - binary_accuracy: 0.9505 - val_loss: 0.2748 - val_binary_accuracy: 0.9341\n",
      "Epoch 9/100\n",
      "6/6 [==============================] - 0s 9ms/step - loss: 0.2602 - binary_accuracy: 0.9505 - val_loss: 0.2473 - val_binary_accuracy: 0.9341\n",
      "Epoch 10/100\n",
      "6/6 [==============================] - 0s 9ms/step - loss: 0.2305 - binary_accuracy: 0.9505 - val_loss: 0.2252 - val_binary_accuracy: 0.9341\n",
      "Epoch 11/100\n",
      "6/6 [==============================] - 0s 9ms/step - loss: 0.2051 - binary_accuracy: 0.9478 - val_loss: 0.2067 - val_binary_accuracy: 0.9341\n",
      "Epoch 12/100\n",
      "6/6 [==============================] - 0s 10ms/step - loss: 0.1846 - binary_accuracy: 0.9478 - val_loss: 0.1916 - val_binary_accuracy: 0.9341\n",
      "Epoch 13/100\n",
      "6/6 [==============================] - 0s 10ms/step - loss: 0.1682 - binary_accuracy: 0.9478 - val_loss: 0.1792 - val_binary_accuracy: 0.9341\n",
      "Epoch 14/100\n",
      "6/6 [==============================] - 0s 9ms/step - loss: 0.1547 - binary_accuracy: 0.9478 - val_loss: 0.1688 - val_binary_accuracy: 0.9341\n",
      "Epoch 15/100\n",
      "6/6 [==============================] - 0s 10ms/step - loss: 0.1439 - binary_accuracy: 0.9505 - val_loss: 0.1598 - val_binary_accuracy: 0.9451\n",
      "Epoch 16/100\n",
      "6/6 [==============================] - 0s 10ms/step - loss: 0.1348 - binary_accuracy: 0.9505 - val_loss: 0.1517 - val_binary_accuracy: 0.9451\n",
      "Epoch 17/100\n",
      "6/6 [==============================] - 0s 10ms/step - loss: 0.1271 - binary_accuracy: 0.9643 - val_loss: 0.1447 - val_binary_accuracy: 0.9451\n",
      "Epoch 18/100\n",
      "6/6 [==============================] - 0s 10ms/step - loss: 0.1202 - binary_accuracy: 0.9670 - val_loss: 0.1385 - val_binary_accuracy: 0.9451\n",
      "Epoch 19/100\n",
      "6/6 [==============================] - 0s 10ms/step - loss: 0.1150 - binary_accuracy: 0.9670 - val_loss: 0.1323 - val_binary_accuracy: 0.9451\n",
      "Epoch 20/100\n",
      "6/6 [==============================] - 0s 10ms/step - loss: 0.1098 - binary_accuracy: 0.9698 - val_loss: 0.1267 - val_binary_accuracy: 0.9451\n",
      "Epoch 21/100\n",
      "6/6 [==============================] - 0s 9ms/step - loss: 0.1055 - binary_accuracy: 0.9698 - val_loss: 0.1217 - val_binary_accuracy: 0.9451\n",
      "Epoch 22/100\n",
      "6/6 [==============================] - 0s 9ms/step - loss: 0.1015 - binary_accuracy: 0.9698 - val_loss: 0.1172 - val_binary_accuracy: 0.9451\n",
      "Epoch 23/100\n",
      "6/6 [==============================] - 0s 10ms/step - loss: 0.0981 - binary_accuracy: 0.9725 - val_loss: 0.1133 - val_binary_accuracy: 0.9451\n",
      "Epoch 24/100\n",
      "6/6 [==============================] - 0s 10ms/step - loss: 0.0948 - binary_accuracy: 0.9725 - val_loss: 0.1097 - val_binary_accuracy: 0.9451\n",
      "Epoch 25/100\n",
      "6/6 [==============================] - 0s 9ms/step - loss: 0.0921 - binary_accuracy: 0.9753 - val_loss: 0.1063 - val_binary_accuracy: 0.9451\n",
      "Epoch 26/100\n",
      "6/6 [==============================] - 0s 10ms/step - loss: 0.0892 - binary_accuracy: 0.9753 - val_loss: 0.1032 - val_binary_accuracy: 0.9451\n",
      "Epoch 27/100\n",
      "6/6 [==============================] - 0s 10ms/step - loss: 0.0867 - binary_accuracy: 0.9753 - val_loss: 0.1006 - val_binary_accuracy: 0.9451\n",
      "Epoch 28/100\n",
      "6/6 [==============================] - 0s 9ms/step - loss: 0.0843 - binary_accuracy: 0.9753 - val_loss: 0.0982 - val_binary_accuracy: 0.9560\n",
      "Epoch 29/100\n",
      "6/6 [==============================] - 0s 10ms/step - loss: 0.0822 - binary_accuracy: 0.9753 - val_loss: 0.0960 - val_binary_accuracy: 0.9560\n",
      "Epoch 30/100\n",
      "6/6 [==============================] - 0s 10ms/step - loss: 0.0802 - binary_accuracy: 0.9753 - val_loss: 0.0936 - val_binary_accuracy: 0.9560\n",
      "Epoch 31/100\n",
      "6/6 [==============================] - 0s 9ms/step - loss: 0.0782 - binary_accuracy: 0.9753 - val_loss: 0.0918 - val_binary_accuracy: 0.9560\n",
      "Epoch 32/100\n",
      "6/6 [==============================] - 0s 10ms/step - loss: 0.0765 - binary_accuracy: 0.9780 - val_loss: 0.0909 - val_binary_accuracy: 0.9560\n",
      "Epoch 33/100\n",
      "6/6 [==============================] - 0s 9ms/step - loss: 0.0748 - binary_accuracy: 0.9808 - val_loss: 0.0887 - val_binary_accuracy: 0.9560\n",
      "Epoch 34/100\n",
      "6/6 [==============================] - 0s 9ms/step - loss: 0.0732 - binary_accuracy: 0.9835 - val_loss: 0.0866 - val_binary_accuracy: 0.9560\n",
      "Epoch 35/100\n",
      "6/6 [==============================] - 0s 9ms/step - loss: 0.0718 - binary_accuracy: 0.9835 - val_loss: 0.0847 - val_binary_accuracy: 0.9670\n",
      "Epoch 36/100\n",
      "6/6 [==============================] - 0s 10ms/step - loss: 0.0702 - binary_accuracy: 0.9835 - val_loss: 0.0837 - val_binary_accuracy: 0.9670\n",
      "Epoch 37/100\n",
      "6/6 [==============================] - 0s 9ms/step - loss: 0.0687 - binary_accuracy: 0.9835 - val_loss: 0.0834 - val_binary_accuracy: 0.9670\n",
      "Epoch 38/100\n",
      "6/6 [==============================] - 0s 9ms/step - loss: 0.0674 - binary_accuracy: 0.9863 - val_loss: 0.0829 - val_binary_accuracy: 0.9670\n",
      "Epoch 39/100\n",
      "6/6 [==============================] - 0s 9ms/step - loss: 0.0660 - binary_accuracy: 0.9863 - val_loss: 0.0822 - val_binary_accuracy: 0.9670\n",
      "Epoch 40/100\n",
      "6/6 [==============================] - 0s 9ms/step - loss: 0.0649 - binary_accuracy: 0.9863 - val_loss: 0.0814 - val_binary_accuracy: 0.9670\n",
      "Epoch 41/100\n",
      "6/6 [==============================] - 0s 8ms/step - loss: 0.0636 - binary_accuracy: 0.9890 - val_loss: 0.0808 - val_binary_accuracy: 0.9670\n",
      "Epoch 42/100\n",
      "6/6 [==============================] - 0s 9ms/step - loss: 0.0624 - binary_accuracy: 0.9890 - val_loss: 0.0806 - val_binary_accuracy: 0.9670\n",
      "Epoch 43/100\n",
      "6/6 [==============================] - 0s 9ms/step - loss: 0.0612 - binary_accuracy: 0.9890 - val_loss: 0.0808 - val_binary_accuracy: 0.9670\n",
      "Epoch 44/100\n",
      "6/6 [==============================] - 0s 9ms/step - loss: 0.0601 - binary_accuracy: 0.9890 - val_loss: 0.0804 - val_binary_accuracy: 0.9670\n",
      "Epoch 45/100\n",
      "6/6 [==============================] - 0s 8ms/step - loss: 0.0590 - binary_accuracy: 0.9890 - val_loss: 0.0799 - val_binary_accuracy: 0.9670\n",
      "Epoch 46/100\n",
      "6/6 [==============================] - 0s 10ms/step - loss: 0.0580 - binary_accuracy: 0.9890 - val_loss: 0.0799 - val_binary_accuracy: 0.9670\n",
      "Epoch 47/100\n",
      "6/6 [==============================] - 0s 9ms/step - loss: 0.0569 - binary_accuracy: 0.9890 - val_loss: 0.0792 - val_binary_accuracy: 0.9670\n",
      "Epoch 48/100\n",
      "6/6 [==============================] - 0s 9ms/step - loss: 0.0559 - binary_accuracy: 0.9890 - val_loss: 0.0786 - val_binary_accuracy: 0.9670\n",
      "Epoch 49/100\n",
      "6/6 [==============================] - 0s 9ms/step - loss: 0.0550 - binary_accuracy: 0.9890 - val_loss: 0.0784 - val_binary_accuracy: 0.9670\n",
      "Epoch 50/100\n",
      "6/6 [==============================] - 0s 9ms/step - loss: 0.0540 - binary_accuracy: 0.9890 - val_loss: 0.0785 - val_binary_accuracy: 0.9670\n",
      "Epoch 51/100\n",
      "6/6 [==============================] - 0s 9ms/step - loss: 0.0529 - binary_accuracy: 0.9890 - val_loss: 0.0774 - val_binary_accuracy: 0.9670\n",
      "Epoch 52/100\n",
      "6/6 [==============================] - 0s 8ms/step - loss: 0.0520 - binary_accuracy: 0.9890 - val_loss: 0.0759 - val_binary_accuracy: 0.9670\n",
      "Epoch 53/100\n",
      "6/6 [==============================] - 0s 9ms/step - loss: 0.0511 - binary_accuracy: 0.9890 - val_loss: 0.0753 - val_binary_accuracy: 0.9670\n",
      "Epoch 54/100\n"
     ]
    },
    {
     "name": "stdout",
     "output_type": "stream",
     "text": [
      "6/6 [==============================] - 0s 10ms/step - loss: 0.0502 - binary_accuracy: 0.9890 - val_loss: 0.0754 - val_binary_accuracy: 0.9670\n",
      "Epoch 55/100\n",
      "6/6 [==============================] - 0s 8ms/step - loss: 0.0493 - binary_accuracy: 0.9890 - val_loss: 0.0748 - val_binary_accuracy: 0.9670\n",
      "Epoch 56/100\n",
      "6/6 [==============================] - 0s 8ms/step - loss: 0.0485 - binary_accuracy: 0.9890 - val_loss: 0.0743 - val_binary_accuracy: 0.9670\n",
      "Epoch 57/100\n",
      "6/6 [==============================] - 0s 9ms/step - loss: 0.0477 - binary_accuracy: 0.9918 - val_loss: 0.0740 - val_binary_accuracy: 0.9670\n",
      "Epoch 58/100\n",
      "6/6 [==============================] - 0s 9ms/step - loss: 0.0470 - binary_accuracy: 0.9918 - val_loss: 0.0750 - val_binary_accuracy: 0.9780\n",
      "Epoch 59/100\n",
      "6/6 [==============================] - 0s 9ms/step - loss: 0.0460 - binary_accuracy: 0.9918 - val_loss: 0.0744 - val_binary_accuracy: 0.9780\n",
      "Epoch 60/100\n",
      "6/6 [==============================] - 0s 9ms/step - loss: 0.0452 - binary_accuracy: 0.9918 - val_loss: 0.0740 - val_binary_accuracy: 0.9780\n",
      "Epoch 61/100\n",
      "6/6 [==============================] - 0s 9ms/step - loss: 0.0444 - binary_accuracy: 0.9918 - val_loss: 0.0738 - val_binary_accuracy: 0.9780\n",
      "Epoch 62/100\n",
      "6/6 [==============================] - 0s 8ms/step - loss: 0.0435 - binary_accuracy: 0.9918 - val_loss: 0.0731 - val_binary_accuracy: 0.9780\n",
      "Epoch 63/100\n",
      "6/6 [==============================] - 0s 9ms/step - loss: 0.0428 - binary_accuracy: 0.9918 - val_loss: 0.0731 - val_binary_accuracy: 0.9780\n",
      "Epoch 64/100\n",
      "6/6 [==============================] - 0s 9ms/step - loss: 0.0420 - binary_accuracy: 0.9918 - val_loss: 0.0723 - val_binary_accuracy: 0.9780\n",
      "Epoch 65/100\n",
      "6/6 [==============================] - 0s 9ms/step - loss: 0.0414 - binary_accuracy: 0.9918 - val_loss: 0.0716 - val_binary_accuracy: 0.9780\n",
      "Epoch 66/100\n",
      "6/6 [==============================] - 0s 9ms/step - loss: 0.0404 - binary_accuracy: 0.9918 - val_loss: 0.0708 - val_binary_accuracy: 0.9780\n",
      "Epoch 67/100\n",
      "6/6 [==============================] - 0s 9ms/step - loss: 0.0396 - binary_accuracy: 0.9918 - val_loss: 0.0702 - val_binary_accuracy: 0.9780\n",
      "Epoch 68/100\n",
      "6/6 [==============================] - 0s 9ms/step - loss: 0.0389 - binary_accuracy: 0.9918 - val_loss: 0.0698 - val_binary_accuracy: 0.9780\n",
      "Epoch 69/100\n",
      "6/6 [==============================] - 0s 8ms/step - loss: 0.0383 - binary_accuracy: 0.9918 - val_loss: 0.0700 - val_binary_accuracy: 0.9780\n",
      "Epoch 70/100\n",
      "6/6 [==============================] - 0s 9ms/step - loss: 0.0376 - binary_accuracy: 0.9918 - val_loss: 0.0692 - val_binary_accuracy: 0.9780\n",
      "Epoch 71/100\n",
      "6/6 [==============================] - 0s 9ms/step - loss: 0.0368 - binary_accuracy: 0.9918 - val_loss: 0.0694 - val_binary_accuracy: 0.9780\n",
      "Epoch 72/100\n",
      "6/6 [==============================] - 0s 9ms/step - loss: 0.0361 - binary_accuracy: 0.9945 - val_loss: 0.0690 - val_binary_accuracy: 0.9780\n",
      "Epoch 73/100\n",
      "6/6 [==============================] - 0s 9ms/step - loss: 0.0353 - binary_accuracy: 0.9945 - val_loss: 0.0686 - val_binary_accuracy: 0.9780\n",
      "Epoch 74/100\n",
      "6/6 [==============================] - 0s 9ms/step - loss: 0.0348 - binary_accuracy: 0.9945 - val_loss: 0.0674 - val_binary_accuracy: 0.9780\n",
      "Epoch 75/100\n",
      "6/6 [==============================] - 0s 9ms/step - loss: 0.0342 - binary_accuracy: 0.9945 - val_loss: 0.0665 - val_binary_accuracy: 0.9780\n",
      "Epoch 76/100\n",
      "6/6 [==============================] - 0s 9ms/step - loss: 0.0335 - binary_accuracy: 0.9945 - val_loss: 0.0663 - val_binary_accuracy: 0.9780\n",
      "Epoch 77/100\n",
      "6/6 [==============================] - 0s 8ms/step - loss: 0.0328 - binary_accuracy: 0.9945 - val_loss: 0.0668 - val_binary_accuracy: 0.9780\n",
      "Epoch 78/100\n",
      "6/6 [==============================] - 0s 9ms/step - loss: 0.0322 - binary_accuracy: 0.9945 - val_loss: 0.0663 - val_binary_accuracy: 0.9780\n",
      "Epoch 79/100\n",
      "6/6 [==============================] - 0s 9ms/step - loss: 0.0316 - binary_accuracy: 0.9945 - val_loss: 0.0660 - val_binary_accuracy: 0.9780\n",
      "Epoch 80/100\n",
      "6/6 [==============================] - 0s 9ms/step - loss: 0.0309 - binary_accuracy: 0.9945 - val_loss: 0.0660 - val_binary_accuracy: 0.9780\n",
      "Epoch 81/100\n",
      "6/6 [==============================] - 0s 9ms/step - loss: 0.0303 - binary_accuracy: 0.9945 - val_loss: 0.0661 - val_binary_accuracy: 0.9780\n",
      "Epoch 82/100\n",
      "6/6 [==============================] - 0s 9ms/step - loss: 0.0297 - binary_accuracy: 0.9945 - val_loss: 0.0656 - val_binary_accuracy: 0.9890\n",
      "Epoch 83/100\n",
      "6/6 [==============================] - 0s 9ms/step - loss: 0.0291 - binary_accuracy: 0.9945 - val_loss: 0.0657 - val_binary_accuracy: 0.9890\n",
      "Epoch 84/100\n",
      "6/6 [==============================] - 0s 8ms/step - loss: 0.0285 - binary_accuracy: 0.9945 - val_loss: 0.0657 - val_binary_accuracy: 0.9890\n",
      "Epoch 85/100\n",
      "6/6 [==============================] - 0s 9ms/step - loss: 0.0279 - binary_accuracy: 0.9945 - val_loss: 0.0654 - val_binary_accuracy: 0.9890\n",
      "Epoch 86/100\n",
      "6/6 [==============================] - 0s 10ms/step - loss: 0.0273 - binary_accuracy: 0.9945 - val_loss: 0.0653 - val_binary_accuracy: 0.9890\n",
      "Epoch 87/100\n",
      "6/6 [==============================] - 0s 12ms/step - loss: 0.0268 - binary_accuracy: 0.9945 - val_loss: 0.0654 - val_binary_accuracy: 0.9890\n",
      "Epoch 88/100\n",
      "6/6 [==============================] - 0s 10ms/step - loss: 0.0264 - binary_accuracy: 0.9945 - val_loss: 0.0641 - val_binary_accuracy: 0.9890\n",
      "Epoch 89/100\n",
      "6/6 [==============================] - 0s 11ms/step - loss: 0.0257 - binary_accuracy: 0.9945 - val_loss: 0.0641 - val_binary_accuracy: 0.9890\n",
      "Epoch 90/100\n",
      "6/6 [==============================] - 0s 12ms/step - loss: 0.0251 - binary_accuracy: 0.9945 - val_loss: 0.0643 - val_binary_accuracy: 0.9890\n",
      "Epoch 91/100\n",
      "6/6 [==============================] - 0s 12ms/step - loss: 0.0245 - binary_accuracy: 0.9945 - val_loss: 0.0647 - val_binary_accuracy: 0.9890\n",
      "Epoch 92/100\n",
      "6/6 [==============================] - 0s 12ms/step - loss: 0.0241 - binary_accuracy: 0.9945 - val_loss: 0.0652 - val_binary_accuracy: 0.9890\n",
      "Epoch 93/100\n",
      "6/6 [==============================] - 0s 12ms/step - loss: 0.0237 - binary_accuracy: 0.9945 - val_loss: 0.0641 - val_binary_accuracy: 0.9890\n",
      "Epoch 94/100\n",
      "6/6 [==============================] - 0s 12ms/step - loss: 0.0231 - binary_accuracy: 0.9945 - val_loss: 0.0643 - val_binary_accuracy: 0.9890\n",
      "Epoch 95/100\n",
      "6/6 [==============================] - 0s 10ms/step - loss: 0.0227 - binary_accuracy: 0.9945 - val_loss: 0.0649 - val_binary_accuracy: 0.9890\n",
      "Epoch 96/100\n",
      "6/6 [==============================] - 0s 10ms/step - loss: 0.0221 - binary_accuracy: 0.9945 - val_loss: 0.0640 - val_binary_accuracy: 0.9890\n",
      "Epoch 97/100\n",
      "6/6 [==============================] - 0s 10ms/step - loss: 0.0216 - binary_accuracy: 0.9945 - val_loss: 0.0637 - val_binary_accuracy: 0.9890\n",
      "Epoch 98/100\n",
      "6/6 [==============================] - 0s 10ms/step - loss: 0.0211 - binary_accuracy: 0.9945 - val_loss: 0.0637 - val_binary_accuracy: 0.9890\n",
      "Epoch 99/100\n",
      "6/6 [==============================] - 0s 11ms/step - loss: 0.0208 - binary_accuracy: 0.9945 - val_loss: 0.0643 - val_binary_accuracy: 0.9890\n",
      "Epoch 100/100\n",
      "6/6 [==============================] - 0s 11ms/step - loss: 0.0201 - binary_accuracy: 0.9945 - val_loss: 0.0636 - val_binary_accuracy: 0.9890\n"
     ]
    }
   ],
   "source": [
    "# Compiling the model\n",
    "model.compile(loss=\"binary_crossentropy\", optimizer=\"adam\", metrics=[keras.metrics.BinaryAccuracy()])\n",
    "\n",
    "# Training and evaluating the model\n",
    "history = model.fit(X_train, y_train, epochs=100, batch_size=64, validation_split=0.2)"
   ]
  },
  {
   "cell_type": "code",
   "execution_count": 9,
   "metadata": {
    "id": "hXqaEJsI4BTq"
   },
   "outputs": [
    {
     "data": {
      "image/png": "[encoded data removed]",
      "text/plain": [
       "<Figure size 864x576 with 1 Axes>"
      ]
     },
     "metadata": {
      "needs_background": "light"
     },
     "output_type": "display_data"
    },
    {
     "name": "stdout",
     "output_type": "stream",
     "text": [
      "4/4 [==============================] - 0s 4ms/step - loss: 0.0552 - binary_accuracy: 0.9825\n",
      "Loss     :  0.05517180636525154\n",
      "accuracy :  0.9824561476707458\n"
     ]
    }
   ],
   "source": [
    "# Plot the learning curves\n",
    "import pandas as pd\n",
    "import matplotlib.pyplot as plt\n",
    "pd.DataFrame(history.history).plot(figsize=(12, 8))\n",
    "plt.grid(True)\n",
    "plt.gca().set_ylim(0, 1) # set the vertical range to [0-1]\n",
    "plt.show()\n",
    "\n",
    "# Evaluate the model\n",
    "model_evaluate = model.evaluate(X_test, y_test)\n",
    "print(\"Loss     : \",model_evaluate[0])\n",
    "print(\"accuracy : \",model_evaluate[1])\n"
   ]
  },
  {
   "cell_type": "code",
   "execution_count": 10,
   "metadata": {
    "id": "06DLg09r4JwW"
   },
   "outputs": [
    {
     "name": "stdout",
     "output_type": "stream",
     "text": [
      "Classification report : \n",
      "               precision    recall  f1-score   support\n",
      "\n",
      "           0       1.00      0.95      0.98        42\n",
      "           1       0.97      1.00      0.99        72\n",
      "\n",
      "    accuracy                           0.98       114\n",
      "   macro avg       0.99      0.98      0.98       114\n",
      "weighted avg       0.98      0.98      0.98       114\n",
      "\n",
      "Confusion matrix : \n",
      "\n"
     ]
    },
    {
     "data": {
      "image/png": "[encoded data removed]",
      "text/plain": [
       "<Figure size 432x288 with 1 Axes>"
      ]
     },
     "metadata": {
      "needs_background": "light"
     },
     "output_type": "display_data"
    },
    {
     "name": "stdout",
     "output_type": "stream",
     "text": [
      "Normalized confusion matrix : \n",
      "\n"
     ]
    },
    {
     "data": {
      "image/png": "[encoded data removed]",
      "text/plain": [
       "<Figure size 432x288 with 1 Axes>"
      ]
     },
     "metadata": {
      "needs_background": "light"
     },
     "output_type": "display_data"
    }
   ],
   "source": [
    "# Confusion Matrix\n",
    "y_pred = (model.predict(X_test) > 0.5).astype(\"int32\").tolist()\n",
    "\n",
    "class_names = [\"0\", \"1\"]\n",
    "\n",
    "# Compute classification report\n",
    "from sklearn.metrics import classification_report, confusion_matrix\n",
    "print(\"Classification report : \\n\",classification_report(y_test, y_pred, target_names = class_names))\n",
    "\n",
    "# Function to draw confusion matrix\n",
    "import seaborn as sns\n",
    "def draw_confusion_matrix(true, preds, normalize=None):\n",
    "  # Compute confusion matrix\n",
    "    conf_matx = confusion_matrix(true, preds, normalize = normalize)\n",
    "    conf_matx = np.round(conf_matx, 2)\n",
    "  # print(conf_matx)\n",
    "\n",
    "  # plt.subplots(figsize=(14,8))\n",
    "    sns.heatmap(conf_matx, annot=True, annot_kws={\"size\": 12},fmt=\"g\", cbar=False, cmap=\"viridis\")\n",
    "    plt.show()\n",
    "\n",
    "print(\"Confusion matrix : \\n\")\n",
    "draw_confusion_matrix(y_test, y_pred)\n",
    "\n",
    "print(\"Normalized confusion matrix : \\n\")\n",
    "draw_confusion_matrix(y_test, y_pred, \"true\")\n"
   ]
  },
  {
   "cell_type": "code",
   "execution_count": 11,
   "metadata": {},
   "outputs": [],
   "source": [
    "# Make predictions\n",
    "# predicted = my_model.predict(X_new)\n",
    "\n",
    "# Save the model\n",
    "# my_model.save(\"/content/my_model.h5\")\n"
   ]
  },
  {
   "cell_type": "code",
   "execution_count": null,
   "metadata": {},
   "outputs": [],
   "source": []
  }
 ],
 "metadata": {
  "accelerator": "GPU",
  "colab": {
   "collapsed_sections": [
    "NdoGNlZTTYUa",
    "hu5wtVsc5AIy",
    "9QygCjekayQ8",
    "qm2UojF4MQtr",
    "lqe4mIAzjNZb",
    "3DLYVxBy0Bjy"
   ],
   "name": "TF_NN.ipynb",
   "provenance": []
  },
  "kernelspec": {
   "display_name": "Python 3 (ipykernel)",
   "language": "python",
   "name": "python3"
  },
  "language_info": {
   "codemirror_mode": {
    "name": "ipython",
    "version": 3
   },
   "file_extension": ".py",
   "mimetype": "text/x-python",
   "name": "python",
   "nbconvert_exporter": "python",
   "pygments_lexer": "ipython3",
   "version": "3.8.8"
  }
 },
 "nbformat": 4,
 "nbformat_minor": 1
}
