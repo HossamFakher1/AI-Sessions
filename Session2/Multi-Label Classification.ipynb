{
 "cells": [
  {
   "cell_type": "markdown",
   "metadata": {
    "id": "qm2UojF4MQtr"
   },
   "source": [
    "# **Multi-Label Classification**"
   ]
  },
  {
   "cell_type": "code",
   "execution_count": 1,
   "metadata": {
    "colab": {
     "base_uri": "https://localhost:8080/"
    },
    "id": "1QOIL4dnMWjR",
    "outputId": "3364a9a2-4745-460b-847c-9c8fc102c7e6"
   },
   "outputs": [],
   "source": [
    "# example of a multi-label classification task\n",
    "from sklearn.datasets import make_multilabel_classification\n",
    "import tensorflow as tf\n",
    "from tensorflow import keras\n",
    "import numpy as np"
   ]
  },
  {
   "cell_type": "code",
   "execution_count": 2,
   "metadata": {},
   "outputs": [],
   "source": [
    "# define dataset\n",
    "X, y = make_multilabel_classification(n_samples=1000, n_features=10, \n",
    "                                      n_classes=3, n_labels=2, random_state=1)"
   ]
  },
  {
   "cell_type": "code",
   "execution_count": 3,
   "metadata": {},
   "outputs": [
    {
     "name": "stdout",
     "output_type": "stream",
     "text": [
      "(1000, 10) (1000, 3)\n",
      "-----------------------------------------------------------------------\n",
      "Exp  0  : Features  [ 3.  3.  6.  7.  8.  2. 11. 11.  1.  3.]   =>  Labels  [1 1 0]\n",
      "Exp  1  : Features  [7. 6. 4. 4. 6. 8. 3. 4. 6. 4.]   =>  Labels  [0 0 0]\n",
      "Exp  2  : Features  [ 5.  5. 13.  7.  6.  3.  6. 11.  4.  2.]   =>  Labels  [1 1 0]\n",
      "Exp  3  : Features  [1. 1. 5. 5. 7. 3. 4. 6. 4. 4.]   =>  Labels  [1 1 1]\n",
      "Exp  4  : Features  [ 4.  2.  3. 13.  7.  2.  4. 12.  1.  7.]   =>  Labels  [0 1 0]\n",
      "Exp  5  : Features  [ 4.  3.  3.  2.  5.  2.  3.  7.  2. 10.]   =>  Labels  [0 0 0]\n",
      "Exp  6  : Features  [ 3.  3.  3. 11.  6.  3.  4. 14.  1.  3.]   =>  Labels  [0 1 0]\n",
      "Exp  7  : Features  [ 2.  1.  7.  8.  4.  5. 10.  4.  6.  6.]   =>  Labels  [1 1 1]\n",
      "Exp  8  : Features  [ 5.  1.  9.  5.  3.  4. 11.  8.  1.  8.]   =>  Labels  [1 1 1]\n",
      "Exp  9  : Features  [ 2. 11.  7.  6.  2.  2.  9. 11.  9.  3.]   =>  Labels  [1 1 1]\n"
     ]
    }
   ],
   "source": [
    "# summarize dataset shape\n",
    "print(X.shape, y.shape)\n",
    "\n",
    "print(\"-----------------------------------------------------------------------\")\n",
    "# summarize first few examples\n",
    "for i in range(10):\n",
    "    print(\"Exp \",i,\" : Features \",X[i], \"  =>  Labels \", y[i])"
   ]
  },
  {
   "cell_type": "code",
   "execution_count": 4,
   "metadata": {
    "colab": {
     "base_uri": "https://localhost:8080/"
    },
    "id": "sUdBkGeuTCKo",
    "outputId": "752c0785-6d8a-4522-af81-9fb7b3c3ed35"
   },
   "outputs": [
    {
     "name": "stdout",
     "output_type": "stream",
     "text": [
      "X_train :  (700, 10)  y_train :  (700, 3)\n",
      "X_test  :  (300, 10)  y_test :  (300, 3)\n"
     ]
    }
   ],
   "source": [
    "from sklearn.model_selection import train_test_split\n",
    "\n",
    "# Split data into train and test subsets\n",
    "X_train, X_test, y_train, y_test = train_test_split(X, y, test_size=0.30, random_state=42)\n",
    "print(\"X_train : \",X_train.shape,\" y_train : \",y_train.shape)\n",
    "print(\"X_test  : \",X_test.shape,\" y_test : \",y_test.shape)\n"
   ]
  },
  {
   "cell_type": "code",
   "execution_count": 5,
   "metadata": {
    "colab": {
     "base_uri": "https://localhost:8080/"
    },
    "id": "TP_yrAsnNz5q",
    "outputId": "45169b31-ce0d-4cb4-c1a9-64cb0c9aa830"
   },
   "outputs": [
    {
     "name": "stdout",
     "output_type": "stream",
     "text": [
      "Epoch 1/100\n",
      "9/9 [==============================] - 3s 25ms/step - loss: 1.1233 - binary_accuracy: 0.5631 - val_loss: 1.0243 - val_binary_accuracy: 0.6000\n",
      "Epoch 2/100\n",
      "9/9 [==============================] - 0s 9ms/step - loss: 0.8032 - binary_accuracy: 0.6417 - val_loss: 0.7276 - val_binary_accuracy: 0.7071\n",
      "Epoch 3/100\n",
      "9/9 [==============================] - 0s 10ms/step - loss: 0.5927 - binary_accuracy: 0.7161 - val_loss: 0.5519 - val_binary_accuracy: 0.7762\n",
      "Epoch 4/100\n",
      "9/9 [==============================] - 0s 9ms/step - loss: 0.4830 - binary_accuracy: 0.7631 - val_loss: 0.4680 - val_binary_accuracy: 0.7905\n",
      "Epoch 5/100\n",
      "9/9 [==============================] - 0s 10ms/step - loss: 0.4258 - binary_accuracy: 0.8018 - val_loss: 0.4289 - val_binary_accuracy: 0.8095\n",
      "Epoch 6/100\n",
      "9/9 [==============================] - 0s 10ms/step - loss: 0.3942 - binary_accuracy: 0.8208 - val_loss: 0.4116 - val_binary_accuracy: 0.8143\n",
      "Epoch 7/100\n",
      "9/9 [==============================] - 0s 10ms/step - loss: 0.3739 - binary_accuracy: 0.8298 - val_loss: 0.3948 - val_binary_accuracy: 0.8214\n",
      "Epoch 8/100\n",
      "9/9 [==============================] - 0s 9ms/step - loss: 0.3594 - binary_accuracy: 0.8375 - val_loss: 0.3838 - val_binary_accuracy: 0.8286\n",
      "Epoch 9/100\n",
      "9/9 [==============================] - 0s 9ms/step - loss: 0.3435 - binary_accuracy: 0.8548 - val_loss: 0.3723 - val_binary_accuracy: 0.8357\n",
      "Epoch 10/100\n",
      "9/9 [==============================] - 0s 10ms/step - loss: 0.3310 - binary_accuracy: 0.8619 - val_loss: 0.3607 - val_binary_accuracy: 0.8357\n",
      "Epoch 11/100\n",
      "9/9 [==============================] - 0s 9ms/step - loss: 0.3208 - binary_accuracy: 0.8667 - val_loss: 0.3519 - val_binary_accuracy: 0.8476\n",
      "Epoch 12/100\n",
      "9/9 [==============================] - 0s 9ms/step - loss: 0.3112 - binary_accuracy: 0.8738 - val_loss: 0.3434 - val_binary_accuracy: 0.8405\n",
      "Epoch 13/100\n",
      "9/9 [==============================] - 0s 10ms/step - loss: 0.3029 - binary_accuracy: 0.8792 - val_loss: 0.3381 - val_binary_accuracy: 0.8452\n",
      "Epoch 14/100\n",
      "9/9 [==============================] - 0s 10ms/step - loss: 0.2955 - binary_accuracy: 0.8845 - val_loss: 0.3305 - val_binary_accuracy: 0.8524\n",
      "Epoch 15/100\n",
      "9/9 [==============================] - 0s 9ms/step - loss: 0.2884 - binary_accuracy: 0.8905 - val_loss: 0.3243 - val_binary_accuracy: 0.8452\n",
      "Epoch 16/100\n",
      "9/9 [==============================] - 0s 9ms/step - loss: 0.2826 - binary_accuracy: 0.8887 - val_loss: 0.3215 - val_binary_accuracy: 0.8524\n",
      "Epoch 17/100\n",
      "9/9 [==============================] - 0s 10ms/step - loss: 0.2760 - binary_accuracy: 0.8940 - val_loss: 0.3160 - val_binary_accuracy: 0.8571\n",
      "Epoch 18/100\n",
      "9/9 [==============================] - 0s 10ms/step - loss: 0.2721 - binary_accuracy: 0.8917 - val_loss: 0.3130 - val_binary_accuracy: 0.8571\n",
      "Epoch 19/100\n",
      "9/9 [==============================] - 0s 9ms/step - loss: 0.2662 - binary_accuracy: 0.9006 - val_loss: 0.3054 - val_binary_accuracy: 0.8619\n",
      "Epoch 20/100\n",
      "9/9 [==============================] - 0s 9ms/step - loss: 0.2614 - binary_accuracy: 0.8994 - val_loss: 0.3057 - val_binary_accuracy: 0.8619\n",
      "Epoch 21/100\n",
      "9/9 [==============================] - 0s 9ms/step - loss: 0.2565 - binary_accuracy: 0.9000 - val_loss: 0.3003 - val_binary_accuracy: 0.8643\n",
      "Epoch 22/100\n",
      "9/9 [==============================] - 0s 9ms/step - loss: 0.2518 - binary_accuracy: 0.9012 - val_loss: 0.2952 - val_binary_accuracy: 0.8690\n",
      "Epoch 23/100\n",
      "9/9 [==============================] - 0s 10ms/step - loss: 0.2489 - binary_accuracy: 0.9006 - val_loss: 0.2987 - val_binary_accuracy: 0.8714\n",
      "Epoch 24/100\n",
      "9/9 [==============================] - 0s 11ms/step - loss: 0.2439 - binary_accuracy: 0.9030 - val_loss: 0.2905 - val_binary_accuracy: 0.8738\n",
      "Epoch 25/100\n",
      "9/9 [==============================] - 0s 11ms/step - loss: 0.2401 - binary_accuracy: 0.9042 - val_loss: 0.2878 - val_binary_accuracy: 0.8786\n",
      "Epoch 26/100\n",
      "9/9 [==============================] - 0s 10ms/step - loss: 0.2369 - binary_accuracy: 0.9048 - val_loss: 0.2856 - val_binary_accuracy: 0.8786\n",
      "Epoch 27/100\n",
      "9/9 [==============================] - 0s 9ms/step - loss: 0.2334 - binary_accuracy: 0.9054 - val_loss: 0.2861 - val_binary_accuracy: 0.8762\n",
      "Epoch 28/100\n",
      "9/9 [==============================] - 0s 10ms/step - loss: 0.2296 - binary_accuracy: 0.9077 - val_loss: 0.2798 - val_binary_accuracy: 0.8833\n",
      "Epoch 29/100\n",
      "9/9 [==============================] - 0s 11ms/step - loss: 0.2265 - binary_accuracy: 0.9113 - val_loss: 0.2780 - val_binary_accuracy: 0.8881\n",
      "Epoch 30/100\n",
      "9/9 [==============================] - 0s 12ms/step - loss: 0.2235 - binary_accuracy: 0.9089 - val_loss: 0.2794 - val_binary_accuracy: 0.8833\n",
      "Epoch 31/100\n",
      "9/9 [==============================] - 0s 10ms/step - loss: 0.2205 - binary_accuracy: 0.9095 - val_loss: 0.2778 - val_binary_accuracy: 0.8857\n",
      "Epoch 32/100\n",
      "9/9 [==============================] - 0s 11ms/step - loss: 0.2173 - binary_accuracy: 0.9137 - val_loss: 0.2704 - val_binary_accuracy: 0.8929\n",
      "Epoch 33/100\n",
      "9/9 [==============================] - 0s 11ms/step - loss: 0.2153 - binary_accuracy: 0.9167 - val_loss: 0.2690 - val_binary_accuracy: 0.8881\n",
      "Epoch 34/100\n",
      "9/9 [==============================] - 0s 10ms/step - loss: 0.2159 - binary_accuracy: 0.9143 - val_loss: 0.2744 - val_binary_accuracy: 0.8881\n",
      "Epoch 35/100\n",
      "9/9 [==============================] - 0s 9ms/step - loss: 0.2085 - binary_accuracy: 0.9190 - val_loss: 0.2648 - val_binary_accuracy: 0.8905\n",
      "Epoch 36/100\n",
      "9/9 [==============================] - 0s 11ms/step - loss: 0.2080 - binary_accuracy: 0.9238 - val_loss: 0.2642 - val_binary_accuracy: 0.8952\n",
      "Epoch 37/100\n",
      "9/9 [==============================] - 0s 9ms/step - loss: 0.2046 - binary_accuracy: 0.9196 - val_loss: 0.2667 - val_binary_accuracy: 0.8881\n",
      "Epoch 38/100\n",
      "9/9 [==============================] - 0s 9ms/step - loss: 0.2019 - binary_accuracy: 0.9226 - val_loss: 0.2634 - val_binary_accuracy: 0.8952\n",
      "Epoch 39/100\n",
      "9/9 [==============================] - 0s 9ms/step - loss: 0.1995 - binary_accuracy: 0.9244 - val_loss: 0.2576 - val_binary_accuracy: 0.8905\n",
      "Epoch 40/100\n",
      "9/9 [==============================] - 0s 11ms/step - loss: 0.1992 - binary_accuracy: 0.9244 - val_loss: 0.2627 - val_binary_accuracy: 0.8976\n",
      "Epoch 41/100\n",
      "9/9 [==============================] - 0s 10ms/step - loss: 0.1965 - binary_accuracy: 0.9232 - val_loss: 0.2556 - val_binary_accuracy: 0.8905\n",
      "Epoch 42/100\n",
      "9/9 [==============================] - 0s 9ms/step - loss: 0.1925 - binary_accuracy: 0.9280 - val_loss: 0.2568 - val_binary_accuracy: 0.8952\n",
      "Epoch 43/100\n",
      "9/9 [==============================] - 0s 11ms/step - loss: 0.1911 - binary_accuracy: 0.9286 - val_loss: 0.2570 - val_binary_accuracy: 0.8976\n",
      "Epoch 44/100\n",
      "9/9 [==============================] - 0s 10ms/step - loss: 0.1890 - binary_accuracy: 0.9262 - val_loss: 0.2565 - val_binary_accuracy: 0.8952\n",
      "Epoch 45/100\n",
      "9/9 [==============================] - 0s 11ms/step - loss: 0.1859 - binary_accuracy: 0.9280 - val_loss: 0.2526 - val_binary_accuracy: 0.9000\n",
      "Epoch 46/100\n",
      "9/9 [==============================] - 0s 11ms/step - loss: 0.1857 - binary_accuracy: 0.9298 - val_loss: 0.2498 - val_binary_accuracy: 0.9024\n",
      "Epoch 47/100\n",
      "9/9 [==============================] - 0s 11ms/step - loss: 0.1826 - binary_accuracy: 0.9304 - val_loss: 0.2530 - val_binary_accuracy: 0.9071\n",
      "Epoch 48/100\n",
      "9/9 [==============================] - 0s 12ms/step - loss: 0.1815 - binary_accuracy: 0.9310 - val_loss: 0.2485 - val_binary_accuracy: 0.9024\n",
      "Epoch 49/100\n",
      "9/9 [==============================] - 0s 12ms/step - loss: 0.1806 - binary_accuracy: 0.9298 - val_loss: 0.2477 - val_binary_accuracy: 0.8952\n",
      "Epoch 50/100\n",
      "9/9 [==============================] - 0s 12ms/step - loss: 0.1784 - binary_accuracy: 0.9315 - val_loss: 0.2441 - val_binary_accuracy: 0.9024\n",
      "Epoch 51/100\n",
      "9/9 [==============================] - 0s 10ms/step - loss: 0.1769 - binary_accuracy: 0.9333 - val_loss: 0.2488 - val_binary_accuracy: 0.9024\n",
      "Epoch 52/100\n",
      "9/9 [==============================] - 0s 11ms/step - loss: 0.1763 - binary_accuracy: 0.9315 - val_loss: 0.2407 - val_binary_accuracy: 0.9048\n",
      "Epoch 53/100\n",
      "9/9 [==============================] - 0s 11ms/step - loss: 0.1760 - binary_accuracy: 0.9304 - val_loss: 0.2443 - val_binary_accuracy: 0.9048\n",
      "Epoch 54/100\n"
     ]
    },
    {
     "name": "stdout",
     "output_type": "stream",
     "text": [
      "9/9 [==============================] - 0s 12ms/step - loss: 0.1729 - binary_accuracy: 0.9310 - val_loss: 0.2453 - val_binary_accuracy: 0.9071\n",
      "Epoch 55/100\n",
      "9/9 [==============================] - 0s 10ms/step - loss: 0.1754 - binary_accuracy: 0.9345 - val_loss: 0.2369 - val_binary_accuracy: 0.9024\n",
      "Epoch 56/100\n",
      "9/9 [==============================] - 0s 11ms/step - loss: 0.1713 - binary_accuracy: 0.9345 - val_loss: 0.2451 - val_binary_accuracy: 0.9048\n",
      "Epoch 57/100\n",
      "9/9 [==============================] - 0s 12ms/step - loss: 0.1694 - binary_accuracy: 0.9345 - val_loss: 0.2373 - val_binary_accuracy: 0.9024\n",
      "Epoch 58/100\n",
      "9/9 [==============================] - 0s 11ms/step - loss: 0.1689 - binary_accuracy: 0.9357 - val_loss: 0.2384 - val_binary_accuracy: 0.9048\n",
      "Epoch 59/100\n",
      "9/9 [==============================] - 0s 10ms/step - loss: 0.1676 - binary_accuracy: 0.9393 - val_loss: 0.2326 - val_binary_accuracy: 0.9024\n",
      "Epoch 60/100\n",
      "9/9 [==============================] - 0s 10ms/step - loss: 0.1665 - binary_accuracy: 0.9381 - val_loss: 0.2369 - val_binary_accuracy: 0.9024\n",
      "Epoch 61/100\n",
      "9/9 [==============================] - 0s 11ms/step - loss: 0.1657 - binary_accuracy: 0.9363 - val_loss: 0.2368 - val_binary_accuracy: 0.9048\n",
      "Epoch 62/100\n",
      "9/9 [==============================] - 0s 11ms/step - loss: 0.1651 - binary_accuracy: 0.9357 - val_loss: 0.2409 - val_binary_accuracy: 0.9071\n",
      "Epoch 63/100\n",
      "9/9 [==============================] - 0s 10ms/step - loss: 0.1642 - binary_accuracy: 0.9375 - val_loss: 0.2291 - val_binary_accuracy: 0.9071\n",
      "Epoch 64/100\n",
      "9/9 [==============================] - 0s 11ms/step - loss: 0.1637 - binary_accuracy: 0.9375 - val_loss: 0.2364 - val_binary_accuracy: 0.9048\n",
      "Epoch 65/100\n",
      "9/9 [==============================] - 0s 11ms/step - loss: 0.1613 - binary_accuracy: 0.9393 - val_loss: 0.2323 - val_binary_accuracy: 0.9071\n",
      "Epoch 66/100\n",
      "9/9 [==============================] - 0s 11ms/step - loss: 0.1632 - binary_accuracy: 0.9375 - val_loss: 0.2336 - val_binary_accuracy: 0.9119\n",
      "Epoch 67/100\n",
      "9/9 [==============================] - 0s 10ms/step - loss: 0.1628 - binary_accuracy: 0.9381 - val_loss: 0.2318 - val_binary_accuracy: 0.9024\n",
      "Epoch 68/100\n",
      "9/9 [==============================] - 0s 11ms/step - loss: 0.1606 - binary_accuracy: 0.9423 - val_loss: 0.2344 - val_binary_accuracy: 0.9071\n",
      "Epoch 69/100\n",
      "9/9 [==============================] - 0s 12ms/step - loss: 0.1593 - binary_accuracy: 0.9357 - val_loss: 0.2333 - val_binary_accuracy: 0.9071\n",
      "Epoch 70/100\n",
      "9/9 [==============================] - 0s 11ms/step - loss: 0.1588 - binary_accuracy: 0.9411 - val_loss: 0.2280 - val_binary_accuracy: 0.9024\n",
      "Epoch 71/100\n",
      "9/9 [==============================] - 0s 11ms/step - loss: 0.1565 - binary_accuracy: 0.9435 - val_loss: 0.2307 - val_binary_accuracy: 0.9095\n",
      "Epoch 72/100\n",
      "9/9 [==============================] - 0s 11ms/step - loss: 0.1573 - binary_accuracy: 0.9381 - val_loss: 0.2324 - val_binary_accuracy: 0.9119\n",
      "Epoch 73/100\n",
      "9/9 [==============================] - 0s 10ms/step - loss: 0.1559 - binary_accuracy: 0.9417 - val_loss: 0.2320 - val_binary_accuracy: 0.9048\n",
      "Epoch 74/100\n",
      "9/9 [==============================] - ETA: 0s - loss: 0.1559 - binary_accuracy: 0.943 - 0s 11ms/step - loss: 0.1559 - binary_accuracy: 0.9435 - val_loss: 0.2248 - val_binary_accuracy: 0.9095\n",
      "Epoch 75/100\n",
      "9/9 [==============================] - 0s 10ms/step - loss: 0.1544 - binary_accuracy: 0.9446 - val_loss: 0.2315 - val_binary_accuracy: 0.9143\n",
      "Epoch 76/100\n",
      "9/9 [==============================] - 0s 10ms/step - loss: 0.1545 - binary_accuracy: 0.9411 - val_loss: 0.2266 - val_binary_accuracy: 0.9095\n",
      "Epoch 77/100\n",
      "9/9 [==============================] - 0s 11ms/step - loss: 0.1523 - binary_accuracy: 0.9446 - val_loss: 0.2272 - val_binary_accuracy: 0.9095\n",
      "Epoch 78/100\n",
      "9/9 [==============================] - 0s 12ms/step - loss: 0.1550 - binary_accuracy: 0.9399 - val_loss: 0.2306 - val_binary_accuracy: 0.9119\n",
      "Epoch 79/100\n",
      "9/9 [==============================] - 0s 14ms/step - loss: 0.1516 - binary_accuracy: 0.9411 - val_loss: 0.2236 - val_binary_accuracy: 0.9119\n",
      "Epoch 80/100\n",
      "9/9 [==============================] - 0s 13ms/step - loss: 0.1505 - binary_accuracy: 0.9435 - val_loss: 0.2282 - val_binary_accuracy: 0.9119\n",
      "Epoch 81/100\n",
      "9/9 [==============================] - 0s 12ms/step - loss: 0.1505 - binary_accuracy: 0.9435 - val_loss: 0.2247 - val_binary_accuracy: 0.9119\n",
      "Epoch 82/100\n",
      "9/9 [==============================] - 0s 13ms/step - loss: 0.1495 - binary_accuracy: 0.9440 - val_loss: 0.2266 - val_binary_accuracy: 0.9143\n",
      "Epoch 83/100\n",
      "9/9 [==============================] - 0s 12ms/step - loss: 0.1496 - binary_accuracy: 0.9435 - val_loss: 0.2244 - val_binary_accuracy: 0.9119\n",
      "Epoch 84/100\n",
      "9/9 [==============================] - 0s 12ms/step - loss: 0.1486 - binary_accuracy: 0.9446 - val_loss: 0.2244 - val_binary_accuracy: 0.9071\n",
      "Epoch 85/100\n",
      "9/9 [==============================] - 0s 12ms/step - loss: 0.1486 - binary_accuracy: 0.9458 - val_loss: 0.2260 - val_binary_accuracy: 0.9143\n",
      "Epoch 86/100\n",
      "9/9 [==============================] - 0s 11ms/step - loss: 0.1478 - binary_accuracy: 0.9440 - val_loss: 0.2247 - val_binary_accuracy: 0.9119\n",
      "Epoch 87/100\n",
      "9/9 [==============================] - 0s 10ms/step - loss: 0.1473 - binary_accuracy: 0.9446 - val_loss: 0.2250 - val_binary_accuracy: 0.9143\n",
      "Epoch 88/100\n",
      "9/9 [==============================] - 0s 12ms/step - loss: 0.1494 - binary_accuracy: 0.9476 - val_loss: 0.2208 - val_binary_accuracy: 0.9095\n",
      "Epoch 89/100\n",
      "9/9 [==============================] - 0s 13ms/step - loss: 0.1466 - binary_accuracy: 0.9411 - val_loss: 0.2257 - val_binary_accuracy: 0.9167\n",
      "Epoch 90/100\n",
      "9/9 [==============================] - 0s 12ms/step - loss: 0.1473 - binary_accuracy: 0.9446 - val_loss: 0.2250 - val_binary_accuracy: 0.9143\n",
      "Epoch 91/100\n",
      "9/9 [==============================] - 0s 11ms/step - loss: 0.1462 - binary_accuracy: 0.9429 - val_loss: 0.2238 - val_binary_accuracy: 0.9143\n",
      "Epoch 92/100\n",
      "9/9 [==============================] - 0s 11ms/step - loss: 0.1452 - binary_accuracy: 0.9429 - val_loss: 0.2213 - val_binary_accuracy: 0.9119\n",
      "Epoch 93/100\n",
      "9/9 [==============================] - 0s 11ms/step - loss: 0.1445 - binary_accuracy: 0.9476 - val_loss: 0.2201 - val_binary_accuracy: 0.9071\n",
      "Epoch 94/100\n",
      "9/9 [==============================] - 0s 10ms/step - loss: 0.1470 - binary_accuracy: 0.9446 - val_loss: 0.2246 - val_binary_accuracy: 0.9190\n",
      "Epoch 95/100\n",
      "9/9 [==============================] - 0s 10ms/step - loss: 0.1458 - binary_accuracy: 0.9435 - val_loss: 0.2179 - val_binary_accuracy: 0.9048\n",
      "Epoch 96/100\n",
      "9/9 [==============================] - 0s 10ms/step - loss: 0.1429 - binary_accuracy: 0.9476 - val_loss: 0.2247 - val_binary_accuracy: 0.9167\n",
      "Epoch 97/100\n",
      "9/9 [==============================] - 0s 10ms/step - loss: 0.1435 - binary_accuracy: 0.9429 - val_loss: 0.2254 - val_binary_accuracy: 0.9167\n",
      "Epoch 98/100\n",
      "9/9 [==============================] - 0s 11ms/step - loss: 0.1456 - binary_accuracy: 0.9429 - val_loss: 0.2177 - val_binary_accuracy: 0.9095\n",
      "Epoch 99/100\n",
      "9/9 [==============================] - 0s 11ms/step - loss: 0.1459 - binary_accuracy: 0.9423 - val_loss: 0.2291 - val_binary_accuracy: 0.9190\n",
      "Epoch 100/100\n",
      "9/9 [==============================] - 0s 11ms/step - loss: 0.1414 - binary_accuracy: 0.9429 - val_loss: 0.2202 - val_binary_accuracy: 0.9119\n"
     ]
    }
   ],
   "source": [
    "n_outputs = 3\n",
    "\n",
    "# Define the model\n",
    "model = keras.Sequential()\n",
    "model.add(keras.layers.Dense(32,  activation=\"relu\", input_shape = X_train.shape[1:]))\n",
    "model.add(keras.layers.Dense(16, activation=\"relu\"))\n",
    "model.add(keras.layers.Dense(n_outputs, activation=\"sigmoid\"))\n",
    "\n",
    "# Compiling the model\n",
    "model.compile(loss=\"binary_crossentropy\", optimizer=\"adam\", metrics=[keras.metrics.BinaryAccuracy()])\n",
    "\n",
    "# Training and evaluating the model\n",
    "history = model.fit(X_train, y_train, epochs=100, batch_size=64, validation_split=0.2)\n"
   ]
  },
  {
   "cell_type": "code",
   "execution_count": 6,
   "metadata": {
    "colab": {
     "base_uri": "https://localhost:8080/",
     "height": 557
    },
    "id": "a3nPtd6eVQXR",
    "outputId": "aabbc914-c805-4e50-9d50-97dad2c883ca"
   },
   "outputs": [
    {
     "data": {
      "image/png": "[encoded data removed]",
      "text/plain": [
       "<Figure size 864x576 with 1 Axes>"
      ]
     },
     "metadata": {
      "needs_background": "light"
     },
     "output_type": "display_data"
    },
    {
     "name": "stdout",
     "output_type": "stream",
     "text": [
      "-----------------------------------------------------------------------\n",
      "10/10 [==============================] - 0s 5ms/step - loss: 0.1735 - binary_accuracy: 0.9311\n",
      "Loss     :  0.17345736920833588\n",
      "accuracy :  0.9311111569404602\n"
     ]
    }
   ],
   "source": [
    "# plot the learning curves\n",
    "import pandas as pd\n",
    "import matplotlib.pyplot as plt\n",
    "pd.DataFrame(history.history).plot(figsize=(12, 8))\n",
    "plt.grid(True)\n",
    "plt.gca().set_ylim(0, 1) # set the vertical range to [0-1]\n",
    "plt.show()\n",
    "\n",
    "print(\"-----------------------------------------------------------------------\")\n",
    "# Evaluate the model\n",
    "model_evaluate = model.evaluate(X_test, y_test)\n",
    "print(\"Loss     : \",model_evaluate[0])\n",
    "print(\"accuracy : \",model_evaluate[1])\n"
   ]
  },
  {
   "cell_type": "code",
   "execution_count": 7,
   "metadata": {
    "colab": {
     "base_uri": "https://localhost:8080/"
    },
    "id": "WPZoYt3JVcqW",
    "outputId": "e46c8c4c-e588-489b-f160-0fc8c9f8f96a"
   },
   "outputs": [
    {
     "name": "stdout",
     "output_type": "stream",
     "text": [
      "[[1. 0. 0.]\n",
      " [1. 1. 0.]\n",
      " [1. 1. 1.]\n",
      " [1. 1. 1.]\n",
      " [0. 1. 0.]]\n",
      "Accuracy     :  0.8566666666666667\n"
     ]
    }
   ],
   "source": [
    "from sklearn.metrics import  accuracy_score\n",
    "\n",
    "y_pred = model.predict(X_test)\n",
    "# round probabilities to class labels\n",
    "y_pred = y_pred.round()\n",
    "print(y_pred[:5])\n",
    "print(\"Accuracy     : \",accuracy_score(y_test, y_pred))"
   ]
  },
  {
   "cell_type": "code",
   "execution_count": 8,
   "metadata": {},
   "outputs": [
    {
     "data": {
      "text/plain": [
       "array([[1, 0, 0],\n",
       "       [1, 1, 0],\n",
       "       [1, 1, 1],\n",
       "       [1, 1, 0],\n",
       "       [0, 1, 0]])"
      ]
     },
     "execution_count": 8,
     "metadata": {},
     "output_type": "execute_result"
    }
   ],
   "source": [
    "y_test[:5]"
   ]
  },
  {
   "cell_type": "code",
   "execution_count": 9,
   "metadata": {},
   "outputs": [],
   "source": [
    "y_pred = model.predict(X_test)"
   ]
  },
  {
   "cell_type": "code",
   "execution_count": 12,
   "metadata": {},
   "outputs": [
    {
     "data": {
      "text/plain": [
       "array([[9.9999845e-01, 1.6539965e-03, 6.1698863e-04],\n",
       "       [9.9724764e-01, 9.4700176e-01, 5.4964732e-04],\n",
       "       [9.4092155e-01, 9.7515464e-01, 9.6602470e-01],\n",
       "       [9.6988028e-01, 9.9534565e-01, 5.9837669e-01],\n",
       "       [1.0298220e-01, 9.9776721e-01, 3.6251785e-03]], dtype=float32)"
      ]
     },
     "execution_count": 12,
     "metadata": {},
     "output_type": "execute_result"
    }
   ],
   "source": [
    "y_pred[:5]"
   ]
  },
  {
   "cell_type": "code",
   "execution_count": null,
   "metadata": {},
   "outputs": [],
   "source": [
    "0.99 0.0016 .00061\n",
    "1      0       0"
   ]
  },
  {
   "cell_type": "code",
   "execution_count": 13,
   "metadata": {},
   "outputs": [
    {
     "data": {
      "text/plain": [
       "array([[1., 0., 0.],\n",
       "       [1., 1., 0.],\n",
       "       [1., 1., 1.],\n",
       "       [1., 1., 1.],\n",
       "       [0., 1., 0.]], dtype=float32)"
      ]
     },
     "execution_count": 13,
     "metadata": {},
     "output_type": "execute_result"
    }
   ],
   "source": [
    "y_pred[:5].round()"
   ]
  },
  {
   "cell_type": "code",
   "execution_count": null,
   "metadata": {},
   "outputs": [],
   "source": []
  }
 ],
 "metadata": {
  "accelerator": "GPU",
  "colab": {
   "collapsed_sections": [
    "NdoGNlZTTYUa",
    "hu5wtVsc5AIy",
    "9QygCjekayQ8",
    "qm2UojF4MQtr",
    "lqe4mIAzjNZb",
    "3DLYVxBy0Bjy"
   ],
   "name": "TF_NN.ipynb",
   "provenance": []
  },
  "kernelspec": {
   "display_name": "Python 3 (ipykernel)",
   "language": "python",
   "name": "python3"
  },
  "language_info": {
   "codemirror_mode": {
    "name": "ipython",
    "version": 3
   },
   "file_extension": ".py",
   "mimetype": "text/x-python",
   "name": "python",
   "nbconvert_exporter": "python",
   "pygments_lexer": "ipython3",
   "version": "3.8.8"
  }
 },
 "nbformat": 4,
 "nbformat_minor": 1
}
